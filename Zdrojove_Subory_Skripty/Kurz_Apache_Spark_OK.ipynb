{
 "cells":[
  {
   "cell_type":"markdown",
   "source":[
    "# Úvod a Prehľad"
   ],
   "attachments":{},
   "metadata":{
    "datalore":{
     "node_id":"Úvod a Prehľad",
     "type":"MD",
     "hide_input_from_viewers":false,
     "hide_output_from_viewers":false,
     "sheet_delimiter":true
    }
   }
  },
  {
   "cell_type":"markdown",
   "source":[
    "# 🐍 Kurz Apache Spark - Python\n",
    "\n",
    "**🧑‍🏫 Lektor:** Miroslav Reiter  \n",
    "**📥 LinkedIn kontakt:** https:\/\/www.linkedin.com\/in\/miroslav-reiter\/  \n",
    "\n",
    "**✅ Osnova:** https:\/\/eurocc.nscc.sk\/it-kurzy\/\n",
    "1. Úvod do Apache Spark a veľkých dát  \n",
    "• Čo sú veľké dáta: základné koncepty a význam  \n",
    "• Apache Spark: architektúra a kľúčové vlastnosti (RDD, DAG, paralelizmus)  \n",
    "• Inštalácia a nastavenie prostredia (lokálny mód)  \n",
    "• Porovnanie Spark s inými nástrojmi (Hadoop MapReduce)  \n",
    "2. Práca s RDD a DataFrame  \n",
    "• Vytváranie a transformácie RDD (map, filter, reduce)  \n",
    "• Úvod do DataFrames: výhody oproti RDD  \n",
    "• Operácie nad DataFrames (select, filter, groupBy, agg)  \n",
    "• Základná práca s dátami: načítanie a ukladanie (CSV, JSON)  \n",
    "3. Spracovanie dát v Spark SQL  \n",
    "• Vytvorenie a použitie tabuľky v Spark SQL  \n",
    "• Spúšťanie SQL dopytov na veľkých dátach  \n",
    "\n",
    "**🎞️ YouTube videá:** https:\/\/www.youtube.com\/@VITA-Academy  \n",
    "**📇 Zdrojové kódy a materiály:** https:\/\/github.com\/miroslav-reiter\/Kurzy_DataScience_Python_BI_AI_ML\/\n",
    "\n",
    "**😊 Emojis:** Win + .  "
   ],
   "attachments":{},
   "metadata":{
    "datalore":{
     "node_id":"sMwI3jrRw5HGa5jTV5tJRe",
     "type":"MD",
     "hide_input_from_viewers":true,
     "hide_output_from_viewers":true
    }
   }
  },
  {
   "cell_type":"markdown",
   "source":[
    "## ✅ Odporúčané doplnenia pre Apache Spark:\n",
    "\n",
    "- ✅ Nainštalovať Apache Spark a Java (odporúča sa Java 21 alebo 17)\n",
    "- ✅ Overiť, že je správne nastavená premenná prostredia `JAVA_HOME`\n",
    "- ✅ Mať nainštalovaný balík PySpark (`pip install pyspark`)\n",
    "- ✅ Používať Jupyter Notebook alebo VS Code ako vývojové prostredie\n",
    "- ✅ Mať k dispozícii aspoň 4-6 GB RAM – Spark pracuje v pamäti\n",
    "- ✅ Pripraviť si testovacie súbory CSV\/JSON\/Parquet s aspoň 10 000 riadkami\n",
    "- ✅ Overiť prístup k Spark UI (zvyčajne na http:\/\/localhost:4040)\n",
    "- ✅ Nainštalovať ovládače pre pripojenie k databázam (napr. PostgreSQL JDBC driver)\n",
    "- ✅ Nainštalovať knižnice pre export\/import do Excelu a Parquet (`openpyxl`, `pyarrow`)\n",
    "- ✅ Mať základné znalosti práce s terminálom (napr. spúšťanie Spark aplikácií)\n"
   ],
   "attachments":{},
   "metadata":{
    "datalore":{
     "node_id":"6Qa5Oe2vnFh654i3rzzHIv",
     "type":"MD",
     "hide_input_from_viewers":true,
     "hide_output_from_viewers":true
    }
   }
  },
  {
   "cell_type":"markdown",
   "source":[
    "# 🔍 Top knižnice pre prácu s Big Data (Veľkými Dátami) v Pythone\n",
    "1. **🔥 PySpark**: Oficiálne Python API pre Apache Spark. Umožňuje prácu s RDD, DataFrame, SQL, MLlib a ďalšími komponentmi v jazyku Python. Základný nástroj pre každého Spark vývojára v Pythone.  \n",
    "   🔗 https:\/\/spark.apache.org\/docs\/latest\/api\/python\/\n",
    "\n",
    "2. **📦 Delta Lake**: Open-source úložná vrstva nad Apache Spark pre ACID transakcie, verzovanie dát a zjednotenie streamovania s dávkami. Veľmi obľúbené na platformách ako Databricks.  \n",
    "   🔗 https:\/\/delta.io\/\n",
    "\n",
    "3. **📊 Spark SQL**: Modul na spracovanie štruktúrovaných údajov pomocou SQL syntaxe a DataFrame API. Podporuje integráciu s Hive, JDBC, Parquet, Avro, ORC a ďalšími formátmi.  \n",
    "   🔗 https:\/\/spark.apache.org\/sql\/\n",
    "\n",
    "4. **🧠 MLlib**: Spark knižnica pre strojové učenie. Obsahuje algoritmy pre klasifikáciu, regresiu, klastrovanie, PCA, aj nástroje na normalizáciu a prácu s trénovacími sadami.  \n",
    "   🔗 https:\/\/spark.apache.org\/mllib\/\n",
    "\n",
    "5. **🌊 Structured Streaming**: Moderný engine pre spracovanie dát v reálnom čase pomocou DataFrame API. Zjednocuje dávkové a prúdové výpočty s rovnakým kódom.  \n",
    "   🔗 https:\/\/spark.apache.org\/structured-streaming\/\n",
    "\n",
    "6. **📈 GraphFrames**: Knižnica pre spracovanie grafových údajov na Spark DataFrames (náhrada GraphX pre PySpark). Vhodná pre sieťové analýzy, algoritmy ako PageRank, BFS a pod.  \n",
    "   🔗 https:\/\/graphframes.github.io\/\n",
    "\n",
    "7. **🧮 Koalas (→ pyspark.pandas)**: Knižnica, ktorá umožňuje používať Pandas syntax nad Spark DataFrames. Vhodné na portovanie klasických Pandas kódov do škálovateľného prostredia.  \n",
    "   🔗 https:\/\/spark.apache.org\/docs\/latest\/api\/python\/user_guide\/pandas_on_spark\/index.html\n",
    "\n",
    "8. **📉 SparkR**: R API pre Apache Spark. Umožňuje používateľom jazyka R využívať distribuované spracovanie Spark pri analýze dát a modelovaní.  \n",
    "   🔗 https:\/\/spark.apache.org\/docs\/latest\/sparkr.html\n",
    "\n",
    "9. **🔌 Hadoop InputFormat + HDFS konektory**: Spark dokáže používať knižnice pre čítanie a zápis údajov priamo z HDFS, Hive, Cassandra, JDBC, S3 a ďalších systémov.  \n",
    "   🔗 https:\/\/spark.apache.org\/docs\/latest\/sql-data-sources-load-save-functions.html\n",
    "\n",
    "10. **🌐 Apache Arrow**: Optimalizovaný formát pre výmenu údajov medzi Spark a Pandas (alebo inými nástrojmi ako R, Dask, Vaex). Zrýchľuje výmenu veľkých dátových blokov medzi procesmi.  \n",
    "    🔗 https:\/\/arrow.apache.org\/"
   ],
   "attachments":{},
   "metadata":{
    "datalore":{
     "node_id":"tqsHQ19jYoOhyulrpXUwu4",
     "type":"MD",
     "hide_input_from_viewers":true,
     "hide_output_from_viewers":true
    }
   }
  },
  {
   "cell_type":"markdown",
   "source":[
    "## 🔧 Čo je Apache Spark?\n",
    "\n",
    "- Apache Spark je **distribuovaná výpočtová platforma** určená na spracovanie veľkých dát (Big Data).\n",
    "- Umožňuje **rýchle výpočty v pamäti** (in-memory computing), čím výrazne zrýchľuje analýzu oproti klasickému diskovému spracovaniu ako v Hadoop MapReduce.\n",
    "- Využíva paralelné výpočty na viacerých uzloch (alebo jadrách CPU), čím škáluje výpočty pre veľké objemy údajov.\n",
    "- Spark podporuje niekoľko vysokúrovňových API (napr. Python, Java, Scala, R) a poskytuje špecializované komponenty ako:\n",
    "  - **Spark SQL** – na dotazy podobné SQL,\n",
    "  - **Spark Streaming** – pre spracovanie reálnych dátových tokov,\n",
    "  - **MLlib** – na strojové učenie,\n",
    "  - **GraphX** – pre prácu s grafmi.\n",
    "\n",
    "👨‍💻 Autor: Matei Zaharia  \n",
    "🏢 Miesto: Kalifornia, USA (AMPlab, UC Berkeley) – 2009  \n",
    "📜 Licencia: Open Source (Apache License 2.0)  \n",
    "🧑‍💻 Implementácia: Scala (s rozhraniami pre Java, Python, R, SQL)\n",
    "\n",
    "---\n",
    "\n",
    "### 👨‍💻 Príklady použitia\n",
    "\n",
    "**📊 Príklad 1:** Analýza miliónov transakcií v reálnom čase  \n",
    "- Finančná spoločnosť používa Spark Streaming na sledovanie podvodných transakcií.  \n",
    "- Dáta prichádzajú z bankomatov, terminálov a mobilných aplikácií.  \n",
    "- Spark v reálnom čase aplikuje pravidlá a modely strojového učenia.  \n",
    "- **Výhoda:** vysoká rýchlosť a nízka latencia oproti dávkovému spracovaniu.\n",
    "\n",
    "**🧬 Príklad 2:** Biomedicínske výpočty v genetike  \n",
    "- Výskumníci používajú Spark na spracovanie sekvenčných dát z DNA a RNA.  \n",
    "- Obrovské objemy údajov sa paralelne spracúvajú cez Spark cluster.  \n",
    "- **Výhoda:** skrátenie analýzy zo dní na hodiny.\n",
    "\n",
    "**🛒 Príklad 3:** Odporúčacie systémy pre e-shopy  \n",
    "- Spark MLlib využíva historické dáta zákazníkov na vytváranie personalizovaných odporúčaní.  \n",
    "- Kombinácia transakcií, správania používateľov a externých dát.  \n",
    "- **Výhoda:** vysoká prispôsobivosť a škálovateľnosť pre milióny používateľov.\n",
    "\n",
    "---\n",
    "\n",
    "### Hlavné vlastnosti Apache Spark\n",
    "\n",
    "1. **⚡ Rýchlosť** – výpočty v pamäti (RAM) sú až 100x rýchlejšie než v Hadoop MapReduce  \n",
    "2. **🧠 Jednoduché API** – podpora jazykov Python (PySpark), Scala, Java, R – pre vývojárov aj analytikov  \n",
    "3. **🔁 Podpora dávkového aj prúdového spracovania** – možnosť kombinovať batch aj streaming úlohy  \n",
    "4. **🔌 Integrácia** – Spark dokáže pracovať s HDFS, S3, PostgreSQL, Cassandra, Kafka a ďalšími zdrojmi  \n",
    "5. **🧱 Modulárna architektúra** – komponenty ako Spark SQL, MLlib, GraphX, Streaming možno používať samostatne alebo kombinovať  \n",
    "6. **📚 Ekosystém a open-source komunita** – široká podpora nástrojov, knižníc a integrácií  \n",
    "7. **⚙️ Škálovateľnosť** – Spark funguje lokálne aj na distribuovaných clustroch (napr. AWS EMR, Databricks)\n"
   ],
   "attachments":{},
   "metadata":{
    "datalore":{
     "node_id":"AGt2GKmsIrTUyHTyMMsIW1",
     "type":"MD",
     "hide_input_from_viewers":true,
     "hide_output_from_viewers":true
    }
   }
  },
  {
   "cell_type":"markdown",
   "source":[
    "# 🧩 Hlavné komponenty Apache Spark\n",
    "\n",
    "**🔥 Spark Core** (základný engine)  \n",
    "- Zabezpečuje distribúciu úloh, plánovanie výpočtov a správu pamäte.  \n",
    "- Obsahuje abstrakciu RDD (Resilient Distributed Dataset) – základný dátový typ pre paralelné výpočty.  \n",
    "- Všetky ostatné moduly (SQL, MLlib, Streaming) sú postavené na Spark Core.\n",
    "\n",
    "**🧮 Spark SQL** (práca so štruktúrovanými dátami)  \n",
    "- Umožňuje používať SQL dotazy a operácie nad DataFrames a Datasets.  \n",
    "- Podporuje optimalizáciu dotazov cez Catalyst engine a spracovanie dát cez Tungsten engine.  \n",
    "- Integruje sa s Hive, Parquet, JSON, CSV, JDBC a ďalšími zdrojmi.\n",
    "\n",
    "**🧠 MLlib** (strojové učenie)  \n",
    "- Modul pre spracovanie dát a modelovanie pomocou klasifikácie, regresie, klastrovania a redukcie dimenzií.  \n",
    "- Poskytuje nástroje na feature extraction, normalizáciu, pipeline a model evaluation.  \n",
    "- Funguje plne distribuovane – trénovanie modelov pre veľké objemy dát.\n",
    "\n",
    "**🌊 Structured Streaming**  \n",
    "- Modul pre spracovanie streamovaných dát v reálnom čase cez DataFrame API.  \n",
    "- Umožňuje rovnaký kód pre dávkové aj prúdové úlohy.  \n",
    "- Podporuje zdroje ako Kafka, socket, súborový systém a rôzne sinky (console, memory, files, JDBC).\n",
    "\n",
    "**📊 GraphX \/ GraphFrames** (práca s grafmi)  \n",
    "- GraphX (pre Scala\/Java) a GraphFrames (pre Python) slúžia na modelovanie a analýzu dátových grafov.  \n",
    "- Obsahujú algoritmy ako PageRank, Breadth-First Search, Connected Components.  \n",
    "- Vhodné pre analýzu sociálnych sietí, odporúčacie systémy, hierarchie a siete.\n",
    "\n",
    "**🧱 SparkR a pandas-on-Spark**  \n",
    "- SparkR umožňuje používateľom jazyka R pracovať s DataFrames cez rozhranie podobné dplyr.  \n",
    "- pandas-on-Spark (bývalý Koalas) prináša Pandas API pre veľké dáta – beží na Spark engini.  \n",
    "- Umožňujú jednoduchý prechod z lokálnych skriptov na distribuované výpočty.\n"
   ],
   "attachments":{},
   "metadata":{
    "datalore":{
     "node_id":"81P4dTtHcwHYwWUzuYT986",
     "type":"MD",
     "hide_input_from_viewers":true,
     "hide_output_from_viewers":true
    }
   }
  },
  {
   "cell_type":"markdown",
   "source":[
    "# 📚 PIP, Knižnice a ich verzie \n",
    "**PIP (package installer for Python)** - Správca Balíčkov pre moduly programovacieho jazyka Python, Tiež napísaný v Pythone, Licencia MIT.  \n",
    "Dokumentácia PIP: https:\/\/pip.pypa.io\/en\/stable\/\n",
    "\n",
    "**PyPI (The Python Package Index)** - Repozitár\/úložisko softvéru pre programovací jazyk Python  \n",
    "https:\/\/pypi.org\n",
    "1"
   ],
   "attachments":{},
   "metadata":{
    "datalore":{
     "node_id":"hk9Tu8JSKAoSCzNlJTja9D",
     "type":"MD",
     "hide_input_from_viewers":true,
     "hide_output_from_viewers":true
    }
   }
  },
  {
   "cell_type":"code",
   "source":[
    "# !pip list\n",
    "\n",
    "!pip install pyspark"
   ],
   "execution_count":9,
   "outputs":[
    {
     "name":"stdout",
     "text":[
      "Requirement already satisfied: pyspark in \/opt\/python\/envs\/default_3_11\/lib\/python3.11\/site-packages (3.5.4)\r\n",
      "Requirement already satisfied: py4j==0.10.9.7 in \/opt\/python\/envs\/default_3_11\/lib\/python3.11\/site-packages (from pyspark) (0.10.9.7)\r\n"
     ],
     "output_type":"stream"
    }
   ],
   "metadata":{
    "datalore":{
     "node_id":"rtSxTS4FGs1dYHZtGZ9dh2",
     "type":"CODE",
     "hide_input_from_viewers":true,
     "hide_output_from_viewers":true
    }
   }
  },
  {
   "cell_type":"code",
   "source":[
    "!pip list\n",
    "#!pip freeze"
   ],
   "execution_count":1,
   "outputs":[
    {
     "name":"stdout",
     "text":[
      "Package                       Version\r\n",
      "----------------------------- ------------\r\n",
      "absl-py                       2.2.2\r\n",
      "alabaster                     1.0.0\r\n",
      "annotated-types               0.7.0\r\n",
      "anyio                         3.7.1\r\n",
      "argon2-cffi                   23.1.0\r\n",
      "argon2-cffi-bindings          21.2.0\r\n",
      "asttokens                     3.0.0\r\n",
      "astunparse                    1.6.3\r\n",
      "attrs                         25.3.0\r\n",
      "babel                         2.17.0\r\n",
      "beautifulsoup4                4.13.4\r\n",
      "bleach                        6.2.0\r\n",
      "blis                          1.1.0\r\n",
      "bokeh                         3.7.2\r\n",
      "boto3                         1.37.34\r\n",
      "botocore                      1.37.38\r\n",
      "catalogue                     2.0.10\r\n",
      "certifi                       2025.1.31\r\n",
      "cffi                          1.17.1\r\n",
      "charset-normalizer            3.4.1\r\n",
      "click                         8.1.8\r\n",
      "click-plugins                 1.1.1\r\n",
      "cligj                         0.7.2\r\n",
      "cloudpathlib                  0.21.0\r\n",
      "comm                          0.2.2\r\n",
      "confection                    0.1.5\r\n",
      "contourpy                     1.3.2\r\n",
      "cycler                        0.12.1\r\n",
      "cymem                         2.0.11\r\n",
      "debugpy                       1.8.14\r\n",
      "decorator                     5.2.1\r\n",
      "defusedxml                    0.7.1\r\n",
      "descartes                     1.1.0\r\n",
      "docutils                      0.21.2\r\n",
      "duckdb                        1.2.2\r\n",
      "executing                     2.2.0\r\n",
      "fastai                        2.7.19\r\n",
      "fastcore                      1.7.29\r\n",
      "fastdownload                  0.0.7\r\n",
      "fastjsonschema                2.21.1\r\n",
      "fastprogress                  1.0.3\r\n",
      "filelock                      3.18.0\r\n",
      "fiona                         1.10.1\r\n",
      "flatbuffers                   25.2.10\r\n",
      "fonttools                     4.57.0\r\n",
      "fsspec                        2025.3.2\r\n",
      "gast                          0.6.0\r\n",
      "gensim                        4.3.3\r\n",
      "geopandas                     1.0.1\r\n",
      "google-pasta                  0.2.0\r\n",
      "greenlet                      3.2.1\r\n",
      "grpcio                        1.71.0\r\n",
      "h5py                          3.13.0\r\n",
      "huggingface-hub               0.30.2\r\n",
      "idna                          3.10\r\n",
      "imageio                       2.37.0\r\n",
      "imagesize                     1.4.1\r\n",
      "ipykernel                     6.29.5\r\n",
      "ipython                       9.0.2\r\n",
      "ipython-genutils              0.2.0\r\n",
      "ipython_pygments_lexers       1.1.1\r\n",
      "ipywidgets                    7.8.5\r\n",
      "jedi                          0.19.2\r\n",
      "Jinja2                        3.1.6\r\n",
      "jmespath                      1.0.1\r\n",
      "joblib                        1.4.2\r\n",
      "jsonschema                    4.23.0\r\n",
      "jsonschema-specifications     2025.4.1\r\n",
      "jupyter-client                6.1.12\r\n",
      "jupyter_core                  5.7.2\r\n",
      "jupyter-server                1.24.0\r\n",
      "jupyterlab_pygments           0.3.0\r\n",
      "jupyterlab_widgets            1.1.11\r\n",
      "keras                         3.9.2\r\n",
      "kiwisolver                    1.4.8\r\n",
      "kotlin-jupyter-kernel         0.12.0.322\r\n",
      "langcodes                     3.5.0\r\n",
      "language_data                 1.3.0\r\n",
      "lazy_loader                   0.4\r\n",
      "lets-plot                     4.6.2\r\n",
      "libclang                      18.1.1\r\n",
      "lxml                          5.3.2\r\n",
      "marisa-trie                   1.2.1\r\n",
      "Markdown                      3.8\r\n",
      "markdown-it-py                3.0.0\r\n",
      "MarkupSafe                    3.0.2\r\n",
      "matplotlib                    3.10.1\r\n",
      "matplotlib-inline             0.1.7\r\n",
      "mdurl                         0.1.2\r\n",
      "mistune                       3.1.3\r\n",
      "ml_dtypes                     0.5.1\r\n",
      "mpmath                        1.3.0\r\n",
      "murmurhash                    1.0.12\r\n",
      "namex                         0.0.9\r\n",
      "narwhals                      1.36.0\r\n",
      "nbclassic                     1.3.0\r\n",
      "nbclient                      0.10.2\r\n",
      "nbconvert                     7.16.6\r\n",
      "nbformat                      5.10.4\r\n",
      "nest-asyncio                  1.6.0\r\n",
      "networkx                      3.4.2\r\n",
      "notebook                      6.5.7\r\n",
      "notebook_shim                 0.2.4\r\n",
      "numpy                         1.26.4\r\n",
      "numpydoc                      1.8.0\r\n",
      "nvidia-nccl-cu12              2.26.2.post1\r\n",
      "opencv-python-headless        4.11.0.86\r\n",
      "opt_einsum                    3.4.0\r\n",
      "optree                        0.15.0\r\n",
      "packaging                     25.0\r\n",
      "palettable                    3.3.3\r\n",
      "pandas                        2.2.3\r\n",
      "pandas-datareader             0.10.0\r\n",
      "pandocfilters                 1.5.1\r\n",
      "parso                         0.8.4\r\n",
      "patsy                         1.0.1\r\n",
      "pexpect                       4.9.0\r\n",
      "pillow                        11.2.1\r\n",
      "pip                           25.0.1\r\n",
      "platformdirs                  4.3.7\r\n",
      "plotly                        6.0.1\r\n",
      "polars                        1.27.1\r\n",
      "preshed                       3.0.9\r\n",
      "prometheus_client             0.21.1\r\n",
      "prompt_toolkit                3.0.51\r\n",
      "protobuf                      4.25.5\r\n",
      "psutil                        7.0.0\r\n",
      "psycopg2-binary               2.9.10\r\n",
      "ptyprocess                    0.7.0\r\n",
      "pure_eval                     0.2.3\r\n",
      "py4j                          0.10.9.7\r\n",
      "pyarrow                       19.0.1\r\n",
      "pycparser                     2.22\r\n",
      "pydantic                      2.11.3\r\n",
      "pydantic_core                 2.33.1\r\n",
      "Pygments                      2.19.1\r\n",
      "PyMySQL                       1.1.1\r\n",
      "pyogrio                       0.10.0\r\n",
      "pyparsing                     3.2.3\r\n",
      "pypng                         0.20220715.0\r\n",
      "pyproj                        3.7.1\r\n",
      "pyspark                       3.5.4\r\n",
      "python-dateutil               2.9.0.post0\r\n",
      "pytz                          2025.2\r\n",
      "PyYAML                        6.0.2\r\n",
      "pyzmq                         26.4.0\r\n",
      "referencing                   0.36.2\r\n",
      "regex                         2024.11.6\r\n",
      "requests                      2.32.3\r\n",
      "rich                          14.0.0\r\n",
      "roman-numerals-py             3.1.0\r\n",
      "rpds-py                       0.24.0\r\n",
      "s3transfer                    0.11.5\r\n",
      "safetensors                   0.5.3\r\n",
      "scikit-image                  0.25.2\r\n",
      "scikit-learn                  1.6.1\r\n",
      "scipy                         1.13.1\r\n",
      "seaborn                       0.13.2\r\n",
      "Send2Trash                    1.8.3\r\n",
      "setuptools                    79.0.1\r\n",
      "shapely                       2.1.0\r\n",
      "shellingham                   1.5.4\r\n",
      "six                           1.17.0\r\n",
      "smart-open                    7.1.0\r\n",
      "sniffio                       1.3.1\r\n",
      "snowballstemmer               2.2.0\r\n",
      "soupsieve                     2.7\r\n",
      "spacy                         3.8.3\r\n",
      "spacy-legacy                  3.0.12\r\n",
      "spacy-loggers                 1.0.5\r\n",
      "Sphinx                        8.2.3\r\n",
      "sphinxcontrib-applehelp       2.0.0\r\n",
      "sphinxcontrib-devhelp         2.0.0\r\n",
      "sphinxcontrib-htmlhelp        2.1.0\r\n",
      "sphinxcontrib-jsmath          1.0.1\r\n",
      "sphinxcontrib-qthelp          2.0.0\r\n",
      "sphinxcontrib-serializinghtml 2.0.0\r\n",
      "SQLAlchemy                    2.0.40\r\n",
      "srsly                         2.5.1\r\n",
      "stack-data                    0.6.3\r\n",
      "statsmodels                   0.14.4\r\n",
      "sympy                         1.13.1\r\n",
      "tabulate                      0.9.0\r\n",
      "tensorboard                   2.19.0\r\n",
      "tensorboard-data-server       0.7.2\r\n",
      "tensorflow_cpu                2.19.0\r\n",
      "tensorflow-io-gcs-filesystem  0.37.1\r\n",
      "termcolor                     3.0.1\r\n",
      "terminado                     0.18.1\r\n",
      "thinc                         8.3.3\r\n",
      "threadpoolctl                 3.6.0\r\n",
      "tifffile                      2025.3.30\r\n",
      "tinycss2                      1.4.0\r\n",
      "tokenizers                    0.21.1\r\n",
      "torch                         2.6.0+cpu\r\n",
      "torchaudio                    2.6.0+cpu\r\n",
      "torchvision                   0.21.0+cpu\r\n",
      "tornado                       6.4.2\r\n",
      "tqdm                          4.67.1\r\n",
      "traitlets                     5.14.3\r\n",
      "transformers                  4.51.3\r\n",
      "typer                         0.15.2\r\n",
      "typing_extensions             4.13.2\r\n",
      "typing-inspection             0.4.0\r\n",
      "tzdata                        2025.2\r\n",
      "urllib3                       2.4.0\r\n",
      "wasabi                        1.1.3\r\n",
      "wcwidth                       0.2.13\r\n",
      "weasel                        0.4.1\r\n",
      "webencodings                  0.5.1\r\n",
      "websocket-client              1.8.0\r\n",
      "Werkzeug                      3.1.3\r\n",
      "wheel                         0.45.1\r\n",
      "widgetsnbextension            3.6.10\r\n",
      "wrapt                         1.17.2\r\n",
      "xgboost                       3.0.0\r\n",
      "xlrd                          2.0.1\r\n",
      "xyzservices                   2025.4.0\r\n"
     ],
     "output_type":"stream"
    }
   ],
   "metadata":{
    "datalore":{
     "node_id":"VyzYQ0qnGrV8dKPPEpZNOJ",
     "type":"CODE",
     "hide_input_from_viewers":true,
     "hide_output_from_viewers":true
    }
   }
  },
  {
   "cell_type":"markdown",
   "source":[
    "## 1️⃣a Overenie verzie a hlavných komponentov knižnice PySpark\n",
    "**📌 Úloha:** Overiť verziu knižnice pyspark a zobraziť jej hlavné komponenty (triedy, funkcie a moduly).\n",
    "\n",
    "- Tento krok slúži na kontrolu prostredia pred prácou so Spark.\n",
    "- Umožňuje preskúmať základné triedy, moduly a nástroje knižnice ako SparkSession, RDD, sql.\n",
    "\n",
    "**✅ Výstupom bude:**\n",
    "- verzia knižnice PySpark\n",
    "- výpis hlavných komponentov (moduly, triedy, funkcie)(dir(fastapi))\n",
    "\n",
    "**🔗 Dokumentácia:**\n",
    "- https:\/\/spark.apache.org\/docs\/latest\/api\/python\/\n",
    "- https:\/\/spark.apache.org\/docs\/latest\/sql-programming-guide.html"
   ],
   "attachments":{},
   "metadata":{
    "datalore":{
     "node_id":"oTaq8C0BcvvjRCUswj0LZY",
     "type":"MD",
     "hide_input_from_viewers":true,
     "hide_output_from_viewers":true
    }
   }
  },
  {
   "cell_type":"code",
   "source":[
    "# ! pip install pyspark\n",
    "# Overenie verzie a hlavných súčastí PySpark\n",
    "import pyspark\n",
    "\n",
    "# Zobrazenie verzie\n",
    "print(f\"Verzia knižnice PySpark: {pyspark.__version__}\")\n",
    "\n",
    "# Zoznam hlavných modulov a tried\n",
    "print(\"\\nDostupné atribúty a moduly v knižnici fastapi:\\n\")\n",
    "print(dir(pyspark))"
   ],
   "execution_count":2,
   "outputs":[
    {
     "name":"stdout",
     "text":[
      "Verzia knižnice PySpark: 3.5.4\n",
      "\n",
      "Dostupné atribúty a moduly v knižnici fastapi:\n",
      "\n",
      "['Accumulator', 'AccumulatorParam', 'Any', 'BarrierTaskContext', 'BarrierTaskInfo', 'BasicProfiler', 'Broadcast', 'CPickleSerializer', 'Callable', 'HiveContext', 'InheritableThread', 'MarshalSerializer', 'Optional', 'Profiler', 'RDD', 'RDDBarrier', 'Row', 'SQLContext', 'SparkConf', 'SparkContext', 'SparkFiles', 'SparkJobInfo', 'SparkStageInfo', 'StatusTracker', 'StorageLevel', 'TaskContext', 'TypeVar', 'Union', '_F', '_NoValue', '__all__', '__builtins__', '__cached__', '__doc__', '__file__', '__loader__', '__name__', '__package__', '__path__', '__spec__', '__version__', '_globals', 'accumulators', 'broadcast', 'cast', 'cloudpickle', 'conf', 'context', 'copy_func', 'errors', 'files', 'filterwarnings', 'find_spark_home', 'inheritable_thread_target', 'java_gateway', 'join', 'keyword_only', 'profiler', 'rdd', 'rddsampler', 'resource', 'resultiterable', 'serializers', 'shuffle', 'since', 'sql', 'statcounter', 'status', 'storagelevel', 'taskcontext', 'traceback_utils', 'types', 'util', 'version', 'wraps']\n"
     ],
     "output_type":"stream"
    }
   ],
   "metadata":{
    "datalore":{
     "node_id":"TQbajSUGz2kfVJIu67ksEI",
     "type":"CODE",
     "hide_input_from_viewers":true,
     "hide_output_from_viewers":true
    }
   }
  },
  {
   "cell_type":"markdown",
   "source":[
    "### 🧩 Hlavné komponenty a triedy PySpark\n",
    "\n",
    "| Názov               | Vysvetlenie                                                                 |\n",
    "|---------------------|------------------------------------------------------------------------------|\n",
    "| **SparkContext**    | Hlavná vstupná brána do Spark funkcionality. Inicializuje RDD a konfigurácie. |\n",
    "| **SparkConf**       | Trieda na konfiguráciu Spark aplikácie (napr. názov, počet jadier, pamäť).  |\n",
    "| **RDD**             | Resilient Distributed Dataset – základná dátová štruktúra v Sparku.         |\n",
    "| **Row**             | Štruktúrovaný záznam pre DataFrame podobný záznamu\/tabuľkovému riadku.      |\n",
    "| **SQLContext**      | Kontext pre Spark SQL a DataFrame API (predchodca SparkSession).            |\n",
    "| **HiveContext**     | Rozšírenie SQLContext pre Hive dotazy a integráciu s Hive tabuľkami.        |\n",
    "| **SparkFiles**      | Umožňuje pristupovať k súborom distribuovaným v Spark clustri.              |\n",
    "| **Broadcast**       | Mechanizmus pre efektívne zdieľanie premenných medzi uzlami (read-only).    |\n",
    "| **Accumulator**     | Premenné pre paralelné agregácie naprieč výpočtami (len na pridávanie hodnôt). |\n",
    "| **StorageLevel**    | Určuje úroveň ukladania RDD do pamäte alebo na disk (napr. MEMORY_ONLY).    |\n",
    "| **TaskContext**     | Poskytuje informácie o aktuálnej úlohe – napr. identifikátor partície.      |\n",
    "| **BarrierTaskContext** | Kontext pre synchronizované výpočty v rámci „barrier execution mode“.     |\n",
    "| **RDDBarrier**      | RDD s podporou synchronizácie výpočtov v rámci clustera.                    |\n",
    "\n",
    "---\n",
    "\n",
    "### 🧪 Profiler, serializácia a laditeľné nástroje\n",
    "\n",
    "| Názov                                | Vysvetlenie                                                       |\n",
    "|--------------------------------------|--------------------------------------------------------------------|\n",
    "| **Profiler**, **BasicProfiler**      | Nástroje na profilovanie a meranie výkonu Spark výpočtov.         |\n",
    "| **CPickleSerializer**, **MarshalSerializer** | Serializácia objektov medzi Pythonom a JVM.                 |\n",
    "| **cloudpickle**, **serializers**     | Modul pre pokročilú serializáciu tried a funkcií.                 |\n",
    "| **broadcast**, **accumulators**      | Implementácie pre zdieľanie a agregovanie premenných.             |\n",
    "\n",
    "---\n",
    "\n",
    "### 🧠 Typy, pomocné triedy a metadáta\n",
    "\n",
    "| Názov                                        | Vysvetlenie                                          |\n",
    "|----------------------------------------------|-------------------------------------------------------|\n",
    "| **TypeVar**, **Union**, **Optional**, **Callable**, **Any** | Typové aliasy z `typing` pre anotácie.        |\n",
    "| **_F**, **_NoValue**                          | Interné pomocné konštanty pre voliteľné parametre.    |\n",
    "| **version**                                   | Aktuálna verzia knižnice PySpark.                    |\n",
    "\n",
    "---\n",
    "\n",
    "### 📦 Podmoduly a nástroje\n",
    "\n",
    "| Názov               | Vysvetlenie                                                                 |\n",
    "|---------------------|------------------------------------------------------------------------------|\n",
    "| **sql**             | Podmodul pre Spark SQL, DataFrame, SparkSession.                            |\n",
    "| **rdd**             | Modul s nástrojmi pre prácu s RDD.                                           |\n",
    "| **types**           | Definície dátových typov ako `IntegerType`, `StringType` pre DataFrame.     |\n",
    "| **context**, **conf** | Pomocné triedy pre konfiguráciu a kontext.                                 |\n",
    "| **shuffle**, **resource** | Nástroje pre spracovanie zdrojov a miešanie dát.                       |\n",
    "| **status**, **statcounter** | Monitoring výpočtov, zber štatistík počas spracovania.             |\n",
    "| **traceback_utils** | Pomocné nástroje na ladenie chýb.                                           |\n",
    "| **files**           | Distribúcia a správa súborov medzi uzlami Spark clustra.                    |\n",
    "| **java_gateway**    | Brána na komunikáciu medzi Python a JVM.                                    |\n",
    "\n",
    "---\n",
    "\n",
    "### 🧰 Interné a špeciálne Python položky\n",
    "\n",
    "| Názov                        | Vysvetlenie                                                       |\n",
    "|-----------------------------|--------------------------------------------------------------------|\n",
    "| **all**, **doc**, **file**  | Meta-informácie o module (dokumentácia, súbor, názov).            |\n",
    "| **builtins**                | Vstavané Python funkcie dostupné v danom module.                  |\n",
    "| **name**, **package**, **path** | Identifikácia balíčka\/modulu.                                 |"
   ],
   "attachments":{},
   "metadata":{
    "datalore":{
     "node_id":"CyOCRF1RL2FWwXzXKXNYPK",
     "type":"MD",
     "hide_input_from_viewers":true,
     "hide_output_from_viewers":true
    }
   }
  },
  {
   "cell_type":"markdown",
   "source":[
    "## 1️⃣b Inicializácia SparkSession (lokálny mód)\n",
    "**📌 Úloha:** Spustiť SparkSession v lokálnom režime (local[*]) a overiť úspešné vytvorenie prostredia.\n",
    "\n",
    "- SparkSession je vstupný bod pre prácu s DataFrame a SQL.\n",
    "- local[*] spustí Spark s využitím všetkých dostupných jadier CPU.\n",
    "- Spark predvolene zobrazuje len varovania (WARN) a vyššie.\n",
    "\n",
    "**✅ Výstupom bude:**\n",
    "- aktívna inštancia SparkSession\n",
    "- potvrdenie nastavenia režimu „lokálne“\n",
    "\n",
    "**🔗 Dokumentácia:**\n",
    "- https:\/\/spark.apache.org\/docs\/latest\/api\/python\/reference\/api\/pyspark.sql.SparkSession.html"
   ],
   "attachments":{},
   "metadata":{
    "datalore":{
     "node_id":"6H7GBIAuStlgI0OsDc2lv0",
     "type":"MD",
     "hide_input_from_viewers":true,
     "hide_output_from_viewers":true
    }
   }
  },
  {
   "cell_type":"code",
   "source":[
    "from pyspark.sql import SparkSession\n",
    "\n",
    "spark = SparkSession.builder \\\n",
    "    .appName(\"Uvod do Big Data\") \\\n",
    "    .master(\"local[*]\") \\\n",
    "    .getOrCreate()\n",
    "\n",
    "#  Spark predvolene zobrazuje len varovania (WARN) a vyššie. \n",
    "# Môžete si upraviť úroveň logovania:\n",
    "# spark.sparkContext.setLogLevel(\"ERROR\")  # zobrazí len chyby\n",
    "\n",
    "print(\"✅ SparkSession inicializovaná:\")\n",
    "print(spark)"
   ],
   "execution_count":10,
   "outputs":[
    {
     "name":"stdout",
     "text":[
      "✅ SparkSession inicializovaná:\n",
      "<pyspark.sql.session.SparkSession object at 0x79d7b7f54750>\n"
     ],
     "output_type":"stream"
    }
   ],
   "metadata":{
    "datalore":{
     "node_id":"n7H68hQPeXPBC0atVxfEUl",
     "type":"CODE",
     "hide_input_from_viewers":true,
     "hide_output_from_viewers":true
    }
   }
  },
  {
   "cell_type":"markdown",
   "source":[
    "### ⚙️ SparkConf – konfigurácia Spark aplikácie\n",
    "**📌 Použitie:** Pri definovaní názvu aplikácie, počtu jadier (local[2], yarn, spark:\/\/...) alebo vlastných parametrov (.set(\"spark.executor.memory\", \"4g\")).\n",
    "\n",
    "**📝 Vysvetlenie:** Toto je základné nastavenie prostredia pre Spark. local[2] znamená, že použijeme 2 jadrá na lokálnom stroji. SparkContext je hlavný vstupný bod do Spark API v RDD móde."
   ],
   "attachments":{},
   "metadata":{
    "datalore":{
     "node_id":"rF7x0iAymIWHkEhO797575",
     "type":"MD",
     "hide_input_from_viewers":true,
     "hide_output_from_viewers":true
    }
   }
  },
  {
   "cell_type":"code",
   "source":[
    "from pyspark import SparkConf, SparkContext\n",
    "\n",
    "# Vytvorenie vlastnej konfigurácie\n",
    "# Vytvorenie objektu SparkConf, ktorý definuje konfiguráciu aplikácie\n",
    "# Názov aplikácie + 2 jadrá na lokálnom stroji\n",
    "conf = SparkConf().setAppName(\"MojaSparkApp\").setMaster(\"local[2]\") \n",
    "\n",
    "# Inicializácia SparkContext s definovanou konfiguráciou\n",
    "sc = SparkContext(conf=conf)\n",
    "\n",
    "print(\"🧠 Názov aplikácie:\", sc.appName)\n",
    "print(\"🖥️ Master:\", sc.master)"
   ],
   "execution_count":2,
   "outputs":[
    {
     "name":"stdout",
     "text":[
      "🧠 Názov aplikácie: MojaSparkApp\n",
      "🖥️ Master: local[2]\n"
     ],
     "output_type":"stream"
    },
    {
     "name":"stderr",
     "text":[
      "Setting default log level to \"WARN\".\n",
      "To adjust logging level use sc.setLogLevel(newLevel). For SparkR, use setLogLevel(newLevel).\n",
      "25\/06\/11 17:20:04 WARN NativeCodeLoader: Unable to load native-hadoop library for your platform... using builtin-java classes where applicable\n"
     ],
     "output_type":"stream"
    }
   ],
   "metadata":{
    "datalore":{
     "node_id":"wbwIGMxMXQzxKIi8GFr7Ne",
     "type":"CODE",
     "hide_input_from_viewers":true,
     "hide_output_from_viewers":true
    }
   }
  },
  {
   "cell_type":"markdown",
   "source":[
    "### 📤 Broadcast – zdieľaná premenná\n",
    "**📌 Použitie:** Ak potrebujete rovnaké nemenné dáta na všetkých exekútoroch – napríklad mapu hodnôt, cenník, konverzné tabuľky.\n",
    "\n",
    "**✅ Výhoda:** Namiesto kopírovania veľkých dát do každej partície sa zdieľa len raz.\n",
    "\n",
    "**📝 Vysvetlenie:** Broadcast premenne sú efektívne, ak všetky výpočty potrebujú rovnaké pomocné dáta – zdieľajú sa medzi všetkými exekútormi bez opakovania."
   ],
   "attachments":{},
   "metadata":{
    "datalore":{
     "node_id":"n76Gp7cyHOb3cbeWFyN1hk",
     "type":"MD",
     "hide_input_from_viewers":true,
     "hide_output_from_viewers":true
    }
   }
  },
  {
   "cell_type":"code",
   "source":[
    "# Vytvorenie broadcast premennej\n",
    "\n",
    "# Slovník, ktorý chceme zdieľať medzi všetkými uzlami ako \"read-only\"\n",
    "lookup_data = {\"A\": 1, \"B\": 2, \"C\": 3}\n",
    "\n",
    "# Broadcast premennej – Spark ho odošle len raz na každý uzol\n",
    "broadcast_var = sc.broadcast(lookup_data)\n",
    "\n",
    "# Vytvorenie RDD s hodnotami, ktoré budeme mapovať cez broadcast\n",
    "rdd = sc.parallelize([\"A\", \"B\", \"C\", \"A\", \"B\"])\n",
    "\n",
    "# Prístup k broadcast variable cez .value a získanie číselných hodnôt\n",
    "result = rdd.map(lambda x: broadcast_var.value.get(x, 0)).collect()\n",
    "print(\"📦 Výsledok z broadcast premennej:\", result)"
   ],
   "execution_count":7,
   "outputs":[
    {
     "name":"stdout",
     "text":[
      "📦 Výsledok z broadcast premennej: [1, 2, 3, 1, 2]\n"
     ],
     "output_type":"stream"
    }
   ],
   "metadata":{
    "datalore":{
     "node_id":"CxgOz0QYWVMBr55yB4Z5Yx",
     "type":"CODE",
     "hide_input_from_viewers":true,
     "hide_output_from_viewers":true
    }
   }
  },
  {
   "cell_type":"markdown",
   "source":[
    "### ➕ Accumulator – agregovaná premenná\n",
    "**📌 Použitie:** Zber štatistík počas výpočtu – napr. počet zlyhaní, počet výskytov, počet transformovaných riadkov.\n",
    "\n",
    "**⚠️ Pozor:** Accumulator sa spoľahlivo číta iba na strane drivera – nevytvárajte logiku závislú na jeho hodnote počas výpočtu.\n",
    "\n",
    "**📝 Vysvetlenie:** Akumulátory slúžia na zber štatistík. Sú bezpečné len na pridávanie hodnôt (sčítanie), nie na čítanie počas výpočtu."
   ],
   "attachments":{},
   "metadata":{
    "datalore":{
     "node_id":"u6KyxuBFpubcGaWxW80Qp5",
     "type":"MD",
     "hide_input_from_viewers":true,
     "hide_output_from_viewers":true
    }
   }
  },
  {
   "cell_type":"code",
   "source":[
    "# Inicializácia akumulátora\n",
    "# Vytvorenie akumulátora pre počítanie párnych čísel\n",
    "acc = sc.accumulator(0)\n",
    "\n",
    "# Paralelizácia počiatočných hodnôt\n",
    "rdd = sc.parallelize([1, 2, 3, 4, 5])\n",
    "def process(x):\n",
    "    if x % 2 == 0:\n",
    "        acc.add(1) # Zvýš akumulátor o 1\n",
    "    return x * x # Vráť druhú mocninu\n",
    "\n",
    "# Spustenie výpočtu\n",
    "_ = rdd.map(process).collect()\n",
    "\n",
    "print(\"🔢 Počet párnych čísel:\", acc.value)"
   ],
   "execution_count":6,
   "outputs":[
    {
     "name":"stdout",
     "text":[
      "🔢 Počet párnych čísel: 2\n"
     ],
     "output_type":"stream"
    }
   ],
   "metadata":{
    "datalore":{
     "node_id":"o8jqw6OR140hKVX13vjv27",
     "type":"CODE",
     "hide_input_from_viewers":true,
     "hide_output_from_viewers":true
    }
   }
  },
  {
   "cell_type":"markdown",
   "source":[
    "## 1️⃣c Porovnanie Spark vs Hadoop – vizualizácia rozdielov\n",
    "**📌 Úloha:** Porovnať Apache Spark a Hadoop MapReduce z hľadiska výkonu, zložitosti a využitia disku.\n",
    "\n",
    "- Spark využíva výpočty v pamäti, zatiaľ čo Hadoop využíva disk (pomalejší).\n",
    "- Spark poskytuje jednoduchšie API v jazykoch ako Python, Scala, R..\n",
    "\n",
    "**✅ Výstupom bude:**\n",
    "- Stĺpcový graf s porovnaním Spark vs. Hadoop v 3 parametroch\n",
    "\n",
    "**🔗 Dokumentácia:**\n",
    "- https:\/\/databricks.com\/glossary\/apache-spark-vs-hadoop\n",
    "- https:\/\/www.geeksforgeeks.org\/difference-between-hadoop-and-spark\/"
   ],
   "attachments":{},
   "metadata":{
    "datalore":{
     "node_id":"2GkGcjhVJLTMxUrSqOqmtU",
     "type":"MD",
     "hide_input_from_viewers":true,
     "hide_output_from_viewers":true
    }
   }
  },
  {
   "cell_type":"code",
   "source":[
    "import matplotlib.pyplot as plt\n",
    "import numpy as np\n",
    "import pyspark\n",
    "\n",
    "nastroje = ['Apache Spark', 'Hadoop MapReduce']\n",
    "rychlost = [100, 1]  # Relatívna rýchlosť\n",
    "zlozitost = [2, 7]   # 1 = jednoduché, 10 = zložité\n",
    "disk = [2, 8]        # 1 = málo, 10 = veľa použitia disku\n",
    "\n",
    "x = np.arange(len(nastroje))\n",
    "bar_width = 0.25\n",
    "\n",
    "plt.figure(figsize=(8, 5))\n",
    "plt.bar(x, rychlost, bar_width, label='Rýchlosť (vyššia je lepšia)')\n",
    "plt.bar(x + bar_width, zlozitost, bar_width, label='Zložitosť API (nižšia je lepšia)')\n",
    "plt.bar(x + 2*bar_width, disk, bar_width, label='Použitie disku (nižšie je lepšie)')\n",
    "\n",
    "plt.xticks(x + bar_width, nastroje)\n",
    "plt.title('Porovnanie Apache Spark vs. Hadoop MapReduce')\n",
    "plt.ylabel('Relatívna hodnota')\n",
    "plt.legend()\n",
    "plt.grid(axis='y')\n",
    "plt.tight_layout()\n",
    "plt.show()"
   ],
   "execution_count":4,
   "outputs":[
    {
     "data":{
      "image\/png":"[encoded data removed]"
     },
     "metadata":{
      "image\/png":{}
     },
     "output_type":"display_data"
    }
   ],
   "metadata":{
    "datalore":{
     "node_id":"4xFWLGc2MG0MHa5TZvBkFA",
     "type":"CODE",
     "hide_input_from_viewers":true,
     "hide_output_from_viewers":true
    }
   }
  },
  {
   "cell_type":"markdown",
   "source":[
    "## 2️⃣a Demonštrácia paralelného výpočtu cez RDD\n",
    "**📌 Úloha:** Vytvoriť jednoduché RDD zo zoznamu čísel, použiť paralelné výpočty pomocou map() a filter(), a získať výsledky cez collect() a count().\n",
    "\n",
    "- RDD je základná dátová štruktúra v Sparku pre distribuované výpočty.\n",
    "- Využíva tzv. lazy evaluation – operácie sa vykonajú až pri akcii.\n",
    "- Príklad ukazuje paralelné spracovanie údajov aj v lokálnom režime.\n",
    "\n",
    "Tento príklad slúži ako prvý krok pri budovaní API aplikácií. Umožňuje otestovať, či framework funguje a ako sa správajú HTTP metódy.\n",
    "\n",
    "**✅ Výstupom bude:**\n",
    "- RDD s číslami vynásobenými 10\n",
    "- RDD s číslami deliteľnými 3\n",
    "- počet výsledkov a výpis obsahu RDD\n",
    "\n",
    "**🔗 Dokumentácia:**\n",
    "- https:\/\/spark.apache.org\/docs\/latest\/rdd-programming-guide.html "
   ],
   "attachments":{},
   "metadata":{
    "datalore":{
     "node_id":"kwUvDqTQDeHIccYq3acurr",
     "type":"MD",
     "hide_input_from_viewers":true,
     "hide_output_from_viewers":true
    }
   }
  },
  {
   "cell_type":"code",
   "source":[
    "import pyspark\n",
    "\n",
    "# Vytvorenie RDD zo zoznamu čísel 1 až 20\n",
    "rdd = spark.sparkContext.parallelize(range(1, 21))\n",
    "\n",
    "# Vynásobenie všetkých prvkov číslom 10\n",
    "rdd_mapped = rdd.map(lambda x: x * 10)\n",
    "\n",
    "# Filtrovanie len tých, ktoré sú deliteľné 3\n",
    "rdd_filtered = rdd_mapped.filter(lambda x: x % 3 == 0)\n",
    "\n",
    "# Výsledky\n",
    "print(\"📊 Výsledok .map(x * 10):\")\n",
    "print(rdd_mapped.collect())\n",
    "\n",
    "print(\"\\n🔍 Výsledok .filter(deliteľné 3):\")\n",
    "print(rdd_filtered.collect())\n",
    "\n",
    "print(\"\\n🔢 Počet čísel deliteľných 3:\")\n",
    "print(rdd_filtered.count())"
   ],
   "execution_count":11,
   "outputs":[
    {
     "name":"stdout",
     "text":[
      "📊 Výsledok .map(x * 10):\n",
      "[10, 20, 30, 40, 50, 60, 70, 80, 90, 100, 110, 120, 130, 140, 150, 160, 170, 180, 190, 200]\n",
      "\n",
      "🔍 Výsledok .filter(deliteľné 3):\n",
      "[30, 60, 90, 120, 150, 180]\n",
      "\n",
      "🔢 Počet čísel deliteľných 3:\n",
      "6\n"
     ],
     "output_type":"stream"
    }
   ],
   "metadata":{
    "datalore":{
     "node_id":"qSqCIDwZ4bXLzbqeThZTQD",
     "type":"CODE",
     "hide_input_from_viewers":true,
     "hide_output_from_viewers":true
    }
   }
  },
  {
   "cell_type":"markdown",
   "source":[
    "## 2️⃣b Lazy evaluation a DAG (Directed Acyclic Graph)\n",
    "**📌 Úloha:** Demonštrovať, že Spark nevykonáva transformácie hneď (lazy evaluation), ale najprv buduje DAG a vykoná ho až pri akcii (collect(), count()...).\n",
    "\n",
    "- Transformácie ako map() a filter() nevytvoria žiadny výstup – len definujú DAG.\n",
    "- Výpočet prebehne až pri volaní akcie (napr. collect()).\n",
    "- Spark tým optimalizuje výkon a šetrí zdroje.\n",
    "\n",
    "**✅ Výstupom bude:**\n",
    "- Výpis priebehu výpočtu (pred a po akcii)\n",
    "- Vizuálna simulácia DAG\n",
    "\n",
    "**🔗 Dokumentácia:**\n",
    "- https:\/\/spark.apache.org\/docs\/latest\/rdd-programming-guide.html#rdd-operations"
   ],
   "attachments":{},
   "metadata":{
    "datalore":{
     "node_id":"EvfIr9A343Q9e8xw73MdrZ",
     "type":"MD",
     "hide_input_from_viewers":true,
     "hide_output_from_viewers":true
    }
   }
  },
  {
   "cell_type":"code",
   "source":[
    "# Lazy evaluation: transformácie ešte nič nevypočítajú\n",
    "rdd = spark.sparkContext.parallelize([1, 2, 3, 4, 5])\n",
    "rdd_step = rdd.map(lambda x: x * 10).filter(lambda x: x > 20)\n",
    "\n",
    "# Tu sa ešte nič nedeje\n",
    "print(\"⚠️ Transformácie boli vytvorené, ale ešte neboli vykonané.\")\n",
    "\n",
    "# Spustenie výpočtu cez akciu\n",
    "print(\"🧮 Spúšťam výpočet cez collect():\")\n",
    "print(rdd_step.collect())"
   ],
   "execution_count":9,
   "outputs":[
    {
     "name":"stdout",
     "text":[
      "⚠️ Transformácie boli vytvorené, ale ešte neboli vykonané.\n",
      "🧮 Spúšťam výpočet cez collect():\n",
      "[30, 40, 50]\n"
     ],
     "output_type":"stream"
    }
   ],
   "metadata":{
    "datalore":{
     "node_id":"cizgifDwRnqCBh96HikYZB",
     "type":"CODE",
     "hide_input_from_viewers":true,
     "hide_output_from_viewers":true
    }
   }
  },
  {
   "cell_type":"markdown",
   "source":[
    "## 2️⃣c Porovnanie výkonu: čistý Python vs. Spark paralelizmus\n",
    "**📌 Úloha:** Porovnať čas výpočtu súčtu druhých mocnín čísel od 1 po 1 000 000 v čistom Pythone a v Apache Spark.\n",
    "\n",
    "- Spark využíva paralelné spracovanie (viac jadier CPU), Python vykonáva výpočty sekvenčne.\n",
    "- Úlohou je porovnať reálny čas výpočtu a vizuálne zobraziť rozdiel.\n",
    "\n",
    "**✅ Výstupom bude:**\n",
    "- Trvanie výpočtu (v sekundách)\n",
    "- Stĺpcový graf porovnania výpočtov\n",
    "\n",
    "**🔗 Dokumentácia:**\n",
    "- https:\/\/spark.apache.org\/docs\/latest\/rdd-programming-guide.html#actions\n",
    "- https:\/\/docs.python.org\/3\/library\/time.html"
   ],
   "attachments":{},
   "metadata":{
    "datalore":{
     "node_id":"fQ6nCaUCNiBsCpCRFwdeXX",
     "type":"MD",
     "hide_input_from_viewers":true,
     "hide_output_from_viewers":true
    }
   }
  },
  {
   "cell_type":"code",
   "source":[
    "import time\n",
    "import matplotlib.pyplot as plt\n",
    "\n",
    "# Inicializácia SparkSession (ak ešte nebola)\n",
    "from pyspark.sql import SparkSession\n",
    "spark = SparkSession.builder.appName(\"Porovnanie\").master(\"local[*]\").getOrCreate()\n",
    "\n",
    "# Výpočet cez čistý Python\n",
    "def python_sum():\n",
    "    return sum([x ** 2 for x in range(1, 1_000_001)])\n",
    "\n",
    "# Výpočet cez Apache Spark\n",
    "def spark_sum():\n",
    "    rdd = spark.sparkContext.parallelize(range(1, 1_000_001))\n",
    "    return rdd.map(lambda x: x ** 2).sum()\n",
    "\n",
    "# Meranie času\n",
    "start = time.time()\n",
    "python_result = python_sum()\n",
    "python_time = time.time() - start\n",
    "\n",
    "start = time.time()\n",
    "spark_result = spark_sum()\n",
    "spark_time = time.time() - start\n",
    "\n",
    "# Vizualizácia výsledkov\n",
    "tools = ['Čistý Python', 'Apache Spark']\n",
    "times = [python_time, spark_time]\n",
    "\n",
    "plt.figure(figsize=(8, 4))\n",
    "plt.bar(tools, times, color=['orange', 'green'])\n",
    "plt.ylabel(\"Čas výpočtu [s]\")\n",
    "plt.title(\"Porovnanie výkonu: Python vs. Spark paralelizmus\")\n",
    "for i, v in enumerate(times):\n",
    "    plt.text(i, v + 0.01, f\"{v:.2f} s\", ha='center', fontweight='bold')\n",
    "plt.grid(axis='y')\n",
    "plt.tight_layout()\n",
    "plt.show()"
   ],
   "execution_count":11,
   "outputs":[
    {
     "data":{
      "image\/png":"[encoded data removed]"
     },
     "metadata":{
      "image\/png":{}
     },
     "output_type":"display_data"
    }
   ],
   "metadata":{
    "datalore":{
     "node_id":"XITBTh3qkYWDCrTzwpk4FP",
     "type":"CODE",
     "hide_input_from_viewers":true,
     "hide_output_from_viewers":true
    }
   }
  },
  {
   "cell_type":"markdown",
   "source":[
    "## 3️⃣ Spark DataFrames\n",
    "**📌 Úloha:** Vytvoriť jednoduchý Spark DataFrame zo zoznamu údajov, zobraziť jeho obsah a štruktúru pomocou metód .show() a .printSchema()..\n",
    "\n",
    "- DataFrame je hlavný dátový typ v Sparku pre prácu s tabuľkovými údajmi.\n",
    "- Umožňuje efektívne spracovanie veľkých objemov dát v štýle SQL a Pandas.\n",
    "- Podporuje množstvo operácií: výber stĺpcov, filtrovanie, zoskupenie, agregácie, spojenia…\n",
    "\n",
    "**✅ Výstupom bude:**\n",
    "- DataFrame s osobami (meno, vek, pohlavie)\n",
    "- Výpis obsahu tabuľky\n",
    "- Štruktúra (dátové typy)\n",
    "\n",
    "**🔗 Dokumentácia:**\n",
    "- https:\/\/spark.apache.org\/docs\/latest\/api\/python\/reference\/pyspark.sql\/DataFrame.html\n",
    "- https:\/\/spark.apache.org\/docs\/latest\/sql-getting-started.html"
   ],
   "attachments":{},
   "metadata":{
    "datalore":{
     "node_id":"Akc5mVt6140ATRJV8wGRE5",
     "type":"MD",
     "hide_input_from_viewers":true,
     "hide_output_from_viewers":true
    }
   }
  },
  {
   "cell_type":"code",
   "source":[
    "from pyspark.sql import SparkSession\n",
    "from pyspark.sql import Row\n",
    "\n",
    "# ⚙️ Inicializácia SparkSession (ak ešte neexistuje)\n",
    "spark = SparkSession.builder.appName(\"DataFrameIntro\").getOrCreate()\n",
    "\n",
    "# 👤 Ukážkové údaje – zoznam osôb\n",
    "data = [\n",
    "    Row(meno=\"Jana\", vek=29, pohlavie=\"Ž\"),\n",
    "    Row(meno=\"Peter\", vek=45, pohlavie=\"M\"),\n",
    "    Row(meno=\"Lucia\", vek=34, pohlavie=\"Ž\"),\n",
    "    Row(meno=\"Marek\", vek=22, pohlavie=\"M\")\n",
    "]\n",
    "\n",
    "# 🧱 Vytvorenie DataFrame zo zoznamu\n",
    "df = spark.createDataFrame(data)\n",
    "\n",
    "# 🔍 Zobrazenie obsahu DataFrame\n",
    "print(\"📊 Obsah DataFrame:\")\n",
    "df.show()\n",
    "\n",
    "# 🧬 Zobrazenie schémy (dátových typov)\n",
    "print(\"📘 Schéma DataFrame:\")\n",
    "df.printSchema()"
   ],
   "execution_count":13,
   "outputs":[
    {
     "name":"stdout",
     "text":[
      "📊 Obsah DataFrame:\n",
      "+-----+---+--------+\n",
      "| meno|vek|pohlavie|\n",
      "+-----+---+--------+\n",
      "| Jana| 29|       Ž|\n",
      "|Peter| 45|       M|\n",
      "|Lucia| 34|       Ž|\n",
      "|Marek| 22|       M|\n",
      "+-----+---+--------+\n",
      "\n",
      "📘 Schéma DataFrame:\n",
      "root\n",
      " |-- meno: string (nullable = true)\n",
      " |-- vek: long (nullable = true)\n",
      " |-- pohlavie: string (nullable = true)\n",
      "\n"
     ],
     "output_type":"stream"
    },
    {
     "name":"stderr",
     "text":[
      "25\/06\/11 17:27:23 WARN SparkSession: Using an existing Spark session; only runtime SQL configurations will take effect.\n"
     ],
     "output_type":"stream"
    }
   ],
   "metadata":{
    "datalore":{
     "node_id":"78Ssf9AQig7VlYTCGTZgrr",
     "type":"CODE",
     "hide_input_from_viewers":true,
     "hide_output_from_viewers":true
    }
   }
  },
  {
   "cell_type":"markdown",
   "source":[
    "## 3️⃣b Výber, filtrovanie a nové stĺpce v DataFrame\n",
    "**📌 Úloha:** Vybrať konkrétne stĺpce z DataFrame, filtrovať osoby podľa veku a pridať nový stĺpec na základe výpočtu.\n",
    "\n",
    "- DataFrame podporuje výber stĺpcov ako SQL (select) aj cez výrazové API.\n",
    "- Filtrovanie možno robiť cez filter() alebo where().\n",
    "- Nové stĺpce sa vytvárajú cez withColumn().\n",
    "\n",
    "\n",
    "**✅ Výstupom bude:**\n",
    "- Výber mien a veku\n",
    "- Filtrované osoby nad 30 rokov\n",
    "- Nový stĺpec vek_o_5_viac\n",
    "\n",
    "**🔗 Dokumentácia:**\n",
    "- https:\/\/spark.apache.org\/docs\/latest\/api\/python\/reference\/pyspark.sql\/DataFrame.html\n",
    "- https:\/\/spark.apache.org\/docs\/latest\/sql-getting-started.html"
   ],
   "attachments":{},
   "metadata":{
    "datalore":{
     "node_id":"gsRvKcFpYuqdpqswWLqdRa",
     "type":"MD",
     "hide_input_from_viewers":true,
     "hide_output_from_viewers":true
    }
   }
  },
  {
   "cell_type":"code",
   "source":[
    "from pyspark.sql.functions import col\n",
    "\n",
    "# 🎯 Výber stĺpcov meno a vek\n",
    "df.select(\"meno\", \"vek\").show()\n",
    "\n",
    "# 🔍 Filtrovanie: len osoby staršie ako 30\n",
    "df.filter(df[\"vek\"] > 30).show()\n",
    "\n",
    "# ➕ Pridanie nového vypočítaného stĺpca\n",
    "df = df.withColumn(\"vek_o_5_viac\", col(\"vek\") + 5)\n",
    "df.show()"
   ],
   "execution_count":14,
   "outputs":[
    {
     "name":"stdout",
     "text":[
      "+-----+---+\n",
      "| meno|vek|\n",
      "+-----+---+\n",
      "| Jana| 29|\n",
      "|Peter| 45|\n",
      "|Lucia| 34|\n",
      "|Marek| 22|\n",
      "+-----+---+\n",
      "\n",
      "+-----+---+--------+\n",
      "| meno|vek|pohlavie|\n",
      "+-----+---+--------+\n",
      "|Peter| 45|       M|\n",
      "|Lucia| 34|       Ž|\n",
      "+-----+---+--------+\n",
      "\n",
      "+-----+---+--------+------------+\n",
      "| meno|vek|pohlavie|vek_o_5_viac|\n",
      "+-----+---+--------+------------+\n",
      "| Jana| 29|       Ž|          34|\n",
      "|Peter| 45|       M|          50|\n",
      "|Lucia| 34|       Ž|          39|\n",
      "|Marek| 22|       M|          27|\n",
      "+-----+---+--------+------------+\n",
      "\n"
     ],
     "output_type":"stream"
    }
   ],
   "metadata":{
    "datalore":{
     "node_id":"Fn1SHXz1c9WJebuulP9Uzb",
     "type":"CODE",
     "hide_input_from_viewers":true,
     "hide_output_from_viewers":true
    }
   }
  },
  {
   "cell_type":"markdown",
   "source":[
    "## 3️⃣c Načítanie údajov z CSV alebo JSON súboru\n",
    "**📌 Úloha:** Načítať údaje zo súboru CSV (alebo JSON) do Spark DataFrame a zobraziť prvých pár riadkov a dátové typy.\n",
    "\n",
    "- Spark umožňuje načítať CSV, JSON, Parquet a mnoho ďalších formátov.\n",
    "- Môžete špecifikovať, či CSV má hlavičku a či má automaticky odvodiť dátové typy.\n",
    "\n",
    "**✅ Výstupom bude:**\n",
    "- Úspešne načítaný DataFrame zo súboru\n",
    "- Výpis riadkov cez .show()\n",
    "- Typy stĺpcov cez .printSchema()\n",
    "  \n",
    "**🔗 Dokumentácia:**\n",
    "- https:\/\/spark.apache.org\/docs\/latest\/sql-data-sources-csv.html"
   ],
   "attachments":{},
   "metadata":{
    "datalore":{
     "node_id":"rtL6MwlamM4kjk2VM0d94I",
     "type":"MD",
     "hide_input_from_viewers":true,
     "hide_output_from_viewers":true
    }
   }
  },
  {
   "cell_type":"code",
   "source":[
    "# Vytvorenie CSV súboru s ukážkovými údajmi\n",
    "with open(\"osoby.csv\", \"w\", encoding=\"utf-8\") as f:\n",
    "    f.write(\"meno,vek,pohlavie\\n\")\n",
    "    f.write(\"Jana,29,Ž\\n\")\n",
    "    f.write(\"Peter,45,M\\n\")\n",
    "    f.write(\"Lucia,34,Ž\\n\")\n",
    "    f.write(\"Marek,22,M\\n\")"
   ],
   "execution_count":16,
   "outputs":[],
   "metadata":{
    "datalore":{
     "node_id":"CB87IDA4pW01j5SFZBkU7C",
     "type":"CODE",
     "hide_input_from_viewers":true,
     "hide_output_from_viewers":true
    }
   }
  },
  {
   "cell_type":"code",
   "source":[
    "# Ukážkový súbor osoby.csv\n",
    "# meno,vek,pohlavie\n",
    "# Jana,29,Ž\n",
    "# Peter,45,M\n",
    "# Lucia,34,Ž\n",
    "# Marek,22,M\n",
    "\n",
    "# 📥 Načítanie CSV súboru\n",
    "df_csv = spark.read.option(\"header\", True).option(\"inferSchema\", True).csv(\"osoby.csv\")\n",
    "\n",
    "# 🔍 Náhľad dát a typov\n",
    "df_csv.show()\n",
    "df_csv.printSchema()"
   ],
   "execution_count":17,
   "outputs":[
    {
     "name":"stdout",
     "text":[
      "+-----+---+--------+\n",
      "| meno|vek|pohlavie|\n",
      "+-----+---+--------+\n",
      "| Jana| 29|       Ž|\n",
      "|Peter| 45|       M|\n",
      "|Lucia| 34|       Ž|\n",
      "|Marek| 22|       M|\n",
      "+-----+---+--------+\n",
      "\n",
      "root\n",
      " |-- meno: string (nullable = true)\n",
      " |-- vek: integer (nullable = true)\n",
      " |-- pohlavie: string (nullable = true)\n",
      "\n"
     ],
     "output_type":"stream"
    }
   ],
   "metadata":{
    "datalore":{
     "node_id":"0maDYWfYyyopXeDrpWvmMO",
     "type":"CODE",
     "hide_input_from_viewers":true,
     "hide_output_from_viewers":true
    }
   }
  },
  {
   "cell_type":"markdown",
   "source":[
    "## 3️⃣d  Zoskupenie a agregácia (groupBy, agg)\n",
    "**📌 Úloha:** Zoskupiť údaje podľa pohlavia, vypočítať priemerný vek a počet osôb v skupine.\n",
    "\n",
    "- groupBy() umožňuje zoskupenie podľa jedného alebo viacerých stĺpcov.\n",
    "- Funkcia agg() slúži na výpočty ako avg(), count(), sum().\n",
    "\n",
    "**✅ Výstupom bude:**\n",
    "- Agregovaný DataFrame s priemerným vekom a počtom osôb podľa pohlavia"
   ],
   "attachments":{},
   "metadata":{
    "datalore":{
     "node_id":"AG2XhZTLDakRgovYusMUYN",
     "type":"MD",
     "hide_input_from_viewers":true,
     "hide_output_from_viewers":true
    }
   }
  },
  {
   "cell_type":"code",
   "source":[
    "from pyspark.sql.functions import avg, count\n",
    "\n",
    "# 📊 Agregácia: priemerný vek a počet osôb podľa pohlavia\n",
    "df.groupBy(\"pohlavie\").agg(\n",
    "    avg(\"vek\").alias(\"priemerny_vek\"),\n",
    "    count(\"*\").alias(\"pocet_osob\")\n",
    ").show()"
   ],
   "execution_count":15,
   "outputs":[
    {
     "name":"stdout",
     "text":[
      "+--------+-------------+----------+\n",
      "|pohlavie|priemerny_vek|pocet_osob|\n",
      "+--------+-------------+----------+\n",
      "|       Ž|         31.5|         2|\n",
      "|       M|         33.5|         2|\n",
      "+--------+-------------+----------+\n",
      "\n"
     ],
     "output_type":"stream"
    }
   ],
   "metadata":{
    "datalore":{
     "node_id":"5gfxh2kdZSfMyEwX3jkHlb",
     "type":"CODE",
     "hide_input_from_viewers":true,
     "hide_output_from_viewers":true
    }
   }
  },
  {
   "cell_type":"markdown",
   "source":[
    "# Práca s RDD "
   ],
   "attachments":{},
   "metadata":{
    "datalore":{
     "node_id":"Práca s RDD ",
     "type":"MD",
     "hide_input_from_viewers":false,
     "hide_output_from_viewers":false,
     "sheet_delimiter":true
    }
   }
  },
  {
   "cell_type":"markdown",
   "source":[
    "# 📦 Práca s RDD \n",
    "**Resilient Distributed Dataset (RDD)** je základná dátová štruktúra v Apache Spark, ktorá predstavuje **rozdelenú kolekciu objektov**, spracovateľnú paralelne na viacerých uzloch.\n",
    "\n",
    "---\n",
    "\n",
    "### 🔍 Hlavné vlastnosti RDD:\n",
    "\n",
    "- **📤 Distribuovanosť:** Dáta sú rozdelené na partície pre paralelné spracovanie.\n",
    "- **🔁 Imutabilita:** RDD sú nemenné – každá transformácia vytvára nový RDD.\n",
    "- **♻️ Odolnosť (resilience):** Spark vie obnoviť stratené dáta vďaka lineage (sled výpočtov).\n",
    "- **🧮 Lazy evaluation:** Transformácie sa vykonajú až pri volaní akcie ako `collect()` alebo `count()`.\n",
    "- **🔧 Typy operácií:**\n",
    "  - **Transformácie:** `map()`, `filter()`, `flatMap()` – vytvárajú nové RDD\n",
    "  - **Akcie:** `collect()`, `count()`, `reduce()` – spúšťajú výpočet\n",
    "\n",
    "---\n",
    "\n",
    "### 🧠 Na čo sa používajú RDD?\n",
    "\n",
    "- **⛏️ Nízkoúrovňové spracovanie dát** – logy, binárne dáta, štruktúrované i neštruktúrované údaje.\n",
    "- **📈 Pokročilé výpočty** – umožňujú kontrolu nad dátovým tokom, partíciami a pamäťou.\n",
    "- **🧪 Experimentovanie a vlastné algoritmy** – napr. pre strojové učenie, štatistické výpočty.\n",
    "\n",
    "---\n",
    "\n",
    "### 🔄 Porovnanie RDD vs DataFrame\n",
    "\n",
    "| Vlastnosť           | RDD                           | DataFrame                          |\n",
    "|---------------------|-------------------------------|------------------------------------|\n",
    "| API                 | Funkcionálne (map, reduce)     | Deklaratívne (SQL-like)            |\n",
    "| Typovanie           | Bez schémy, menej typované     | Schémované s typmi stĺpcov         |\n",
    "| Optimalizácia       | Bez optimalizácie              | Catalyst optimizer + Tungsten      |\n",
    "| Výkon               | Slabší pri veľkých dátach      | Vyšší výkon a efektivita           |\n",
    "| Flexibilita         | Vyššia, väčšia kontrola        | Nižšia, ale vyššia jednoduchosť    |\n",
    "\n",
    "---\n",
    "\n",
    "### 🔗 Dokumentácia:\n",
    "- https:\/\/spark.apache.org\/docs\/latest\/rdd-programming-guide.html\n",
    "- https:\/\/spark.apache.org\/docs\/latest\/rdd-programming-guide.html#rdd-operations\n",
    "- https:\/\/spark.apache.org\/docs\/latest\/sql-programming-guide.html#datasets-and-dataframes"
   ],
   "attachments":{},
   "metadata":{
    "datalore":{
     "node_id":"VKET1t7oZrumCwkPSmRmuj",
     "type":"MD",
     "hide_input_from_viewers":true,
     "hide_output_from_viewers":true
    }
   }
  },
  {
   "cell_type":"markdown",
   "source":[
    "## 2️⃣a Vytváranie a transformácie RDD (map, filter, reduce)\n",
    "**📌 Úloha:** Vytvoriť RDD, aplikovať základné transformácie (map, filter) a následne použiť akciu reduce na výpočet súčtu.\n",
    "\n",
    "- Tento krok ukazuje základné operácie nad RDD – ako vytvárať, transformovať a agregovať dáta v distribuovanom režime.\n",
    "- Ilustruje princíp lazy evaluation – výpočty sa vykonajú až pri akcii (napr. reduce).\n",
    "\n",
    "**✅ Výstupom bude:**\n",
    "- Zoznam hodnôt po map a filter\n",
    "- Výsledok operácie reduce\n",
    "- Výpis akcií ako count, first, collect\n",
    "\n",
    "**🔗 Dokumentácia:**\n",
    "- https:\/\/spark.apache.org\/docs\/latest\/rdd-programming-guide.html"
   ],
   "attachments":{},
   "metadata":{
    "datalore":{
     "node_id":"JZiVcBNIbf38932YyaJgKV",
     "type":"MD",
     "hide_input_from_viewers":true,
     "hide_output_from_viewers":true
    }
   }
  },
  {
   "cell_type":"code",
   "source":[
    "# Vytvorenie RDD z poľa\n",
    "# RDD je vhodné na nízkoúrovňové manipulácie, keď potrebujete presnú kontrolu nad výpočtami.\n",
    "\n",
    "rdd = spark.sparkContext.parallelize([1, 2, 3, 4, 5])\n",
    "print(rdd.collect())  # ➡️ [1, 2, 3, 4, 5]"
   ],
   "execution_count":27,
   "outputs":[
    {
     "name":"stdout",
     "text":[
      "[1, 2, 3, 4, 5]\n"
     ],
     "output_type":"stream"
    }
   ],
   "metadata":{
    "datalore":{
     "node_id":"6mSad7zmTp7Mf5nWc97iCW",
     "type":"CODE",
     "hide_input_from_viewers":true,
     "hide_output_from_viewers":true
    }
   }
  },
  {
   "cell_type":"code",
   "source":[
    "# Použitie map() – násobenie prvkov\n",
    "# map() a filter() sú transformácie – nevykonajú sa hneď.\n",
    "mapped_rdd = rdd.map(lambda x: x * 10)\n",
    "print(mapped_rdd.collect())  # ➡️ [10, 20, 30, 40, 50]"
   ],
   "execution_count":28,
   "outputs":[
    {
     "name":"stdout",
     "text":[
      "[10, 20, 30, 40, 50]\n"
     ],
     "output_type":"stream"
    }
   ],
   "metadata":{
    "datalore":{
     "node_id":"DmY6lHbfjIX8pqKQh9uuQS",
     "type":"CODE",
     "hide_input_from_viewers":true,
     "hide_output_from_viewers":true
    }
   }
  },
  {
   "cell_type":"code",
   "source":[
    "# Použitie filter() – vybrať párne čísla\n",
    "filtered_rdd = rdd.filter(lambda x: x % 2 == 0)\n",
    "print(filtered_rdd.collect())  # ➡️ [2, 4]"
   ],
   "execution_count":29,
   "outputs":[
    {
     "name":"stdout",
     "text":[
      "[2, 4]\n"
     ],
     "output_type":"stream"
    }
   ],
   "metadata":{
    "datalore":{
     "node_id":"NSj4EG4lmxEECPqoFoagFY",
     "type":"CODE",
     "hide_input_from_viewers":true,
     "hide_output_from_viewers":true
    }
   }
  },
  {
   "cell_type":"code",
   "source":[
    "# Použitie reduce() – súčet všetkých prvkov\n",
    "# reduce() a collect() sú akcie – spustia výpočet.\n",
    "\n",
    "total = rdd.reduce(lambda a, b: a + b)\n",
    "print(total)  # ➡️ 15"
   ],
   "execution_count":30,
   "outputs":[
    {
     "name":"stdout",
     "text":[
      "15\n"
     ],
     "output_type":"stream"
    }
   ],
   "metadata":{
    "datalore":{
     "node_id":"qbtfq4IGiJi1qyMB62C2Yz",
     "type":"CODE",
     "hide_input_from_viewers":true,
     "hide_output_from_viewers":true
    }
   }
  },
  {
   "cell_type":"code",
   "source":[
    "# Kombinácia operácií\n",
    "result = rdd.filter(lambda x: x > 2).map(lambda x: x ** 2).collect()\n",
    "print(result)  # ➡️ [9, 16, 25]"
   ],
   "execution_count":31,
   "outputs":[
    {
     "name":"stdout",
     "text":[
      "[9, 16, 25]\n"
     ],
     "output_type":"stream"
    }
   ],
   "metadata":{
    "datalore":{
     "node_id":"mfC6Ug4gngkSafXJqad7sn",
     "type":"CODE",
     "hide_input_from_viewers":true,
     "hide_output_from_viewers":true
    }
   }
  },
  {
   "cell_type":"code",
   "source":[
    "from pyspark import SparkContext\n",
    "\n",
    "# Inicializácia Spark kontextu\n",
    "sc = SparkContext.getOrCreate()\n",
    "\n",
    "# 🔢 Vstupné dáta\n",
    "data = [1, 2, 3, 4, 5, 6]\n",
    "rdd = sc.parallelize(data)\n",
    "\n",
    "# 🔁 Transformácie\n",
    "rdd_mapped = rdd.map(lambda x: x * 2)            # každé číslo vynásobíme dvomi\n",
    "rdd_filtered = rdd_mapped.filter(lambda x: x > 5) # ponecháme len tie väčšie ako 5\n",
    "\n",
    "# 🎯 Akcia: redukcia\n",
    "rdd_sum = rdd_filtered.reduce(lambda a, b: a + b)\n",
    "\n",
    "# 📤 Výstupy\n",
    "print(\"📌 RDD po map() a filter():\", rdd_filtered.collect())\n",
    "print(\"📌 Súčet (reduce):\", rdd_sum)\n",
    "print(\"📌 Počet prvkov:\", rdd_filtered.count())\n",
    "print(\"📌 Prvý prvok:\", rdd_filtered.first())"
   ],
   "execution_count":15,
   "outputs":[
    {
     "name":"stdout",
     "text":[
      "📌 RDD po map() a filter(): [6, 8, 10, 12]\n",
      "📌 Súčet (reduce): 36\n",
      "📌 Počet prvkov: 4\n",
      "📌 Prvý prvok: 6\n"
     ],
     "output_type":"stream"
    }
   ],
   "metadata":{
    "datalore":{
     "node_id":"NnF1JlUx0GxZkpoLSaOLzo",
     "type":"CODE",
     "hide_input_from_viewers":true,
     "hide_output_from_viewers":true
    }
   }
  },
  {
   "cell_type":"markdown",
   "source":[
    "## 2️⃣b Základy práce s RDD\n",
    "**📌 Úloha:** Precvičiť základné operácie s RDD: vytvoriť RDD z poľa a zo súboru, použiť základné akcie (collect, count, take) a základné transformácie (map, filter).\n",
    "\n",
    "- Tento príklad slúži na pochopenie základných princípov RDD.\n",
    "- RDD sú nemenné a distribuované, ich transformácie sú „lazy“ – nevykonajú sa okamžite.\n",
    "- Výpočty sa spustia až pri volaní akcie (collect, take, reduce...).\n",
    "\n",
    "**✅ Výstupom bude:**\n",
    "\n",
    "- RDD z poľa\n",
    "- RDD zo súboru (alebo fallback textu, ak súbor neexistuje)\n",
    "- výstup operácií: map, filter, count, take, collect\n",
    "  \n",
    "**🔗 Dokumentácia:**\n",
    "- https:\/\/spark.apache.org\/docs\/latest\/rdd-programming-guide.html#creating-rdds"
   ],
   "attachments":{},
   "metadata":{
    "datalore":{
     "node_id":"RrEMWfkWmIZJqgFAJliZw0",
     "type":"MD",
     "hide_input_from_viewers":true,
     "hide_output_from_viewers":true
    }
   }
  },
  {
   "cell_type":"code",
   "source":[
    "from pyspark import SparkContext\n",
    "\n",
    "# Inicializácia Spark kontextu (ak ešte neexistuje)\n",
    "sc = SparkContext.getOrCreate()\n",
    "\n",
    "# ✅ 1. Vytvorenie RDD z poľa\n",
    "cisla = [1, 2, 3, 4, 5]\n",
    "rdd1 = sc.parallelize(cisla)\n",
    "print(\"📦 RDD z poľa:\", rdd1.collect())\n",
    "\n",
    "# ✅ 2. Základné transformácie\n",
    "rdd2 = rdd1.map(lambda x: x * x)  # Druhá mocnina\n",
    "print(\"🧮 Druhé mocniny:\", rdd2.collect())\n",
    "\n",
    "rdd3 = rdd2.filter(lambda x: x > 10)  # Filtrovanie hodnôt väčších ako 10\n",
    "print(\"🔍 Hodnoty > 10:\", rdd3.collect())\n",
    "\n",
    "# ✅ 3. Základné akcie\n",
    "print(\"🔢 Počet prvkov:\", rdd3.count())\n",
    "print(\"🎯 Prvé 2 prvky:\", rdd3.take(2))\n",
    "\n",
    "# ✅ 4. RDD z textového súboru (ak neexistuje, fallback)\n",
    "try:\n",
    "    rdd_text = sc.textFile(\"data\/sample.txt\")\n",
    "    print(\"📁 RDD zo súboru – prvé 3 riadky:\", rdd_text.take(3))\n",
    "except Exception as e:\n",
    "    rdd_text = sc.parallelize([\"riadok 1\", \"riadok 2\", \"riadok 3\"])\n",
    "    print(\"📁 (Fallback) RDD z textu:\", rdd_text.collect())"
   ],
   "execution_count":17,
   "outputs":[
    {
     "name":"stdout",
     "text":[
      "📦 RDD z poľa: [1, 2, 3, 4, 5]\n",
      "🧮 Druhé mocniny: [1, 4, 9, 16, 25]\n",
      "🔍 Hodnoty > 10: [16, 25]\n",
      "🔢 Počet prvkov: 2\n",
      "🎯 Prvé 2 prvky: [16, 25]\n",
      "📁 (Fallback) RDD z textu: ['riadok 1', 'riadok 2', 'riadok 3']\n"
     ],
     "output_type":"stream"
    }
   ],
   "metadata":{
    "datalore":{
     "node_id":"hbqYmHcXcPNflTtMqMSfFn",
     "type":"CODE",
     "hide_input_from_viewers":true,
     "hide_output_from_viewers":true
    }
   }
  },
  {
   "cell_type":"markdown",
   "source":[
    "## 2️⃣c Operácie s RDD (distinct, union, join)\n",
    "**📌 Úloha:** Vyskúšať pokročilejšie operácie s RDD – spojenie (union), odstránenie duplicít (distinct) a spojenie dvojíc (join).\n",
    "\n",
    "- Tieto operácie sú základom pre prácu s rozdelenými dátami.\n",
    "- union() spája dve RDD do jednej.\n",
    "- distinct() odstraňuje duplicitné záznamy.\n",
    "- join() spája dve párové RDD podľa spoločného kľúča (ako v SQL).\n",
    "  \n",
    "**✅ Výstupom bude:**\n",
    "- Spojené RDD\n",
    "- RDD bez duplicít\n",
    "- Spojenie (join) dvoch RDD podľa kľúča\n",
    "\n",
    "**🔗 Dokumentácia:**\n",
    "- https:\/\/spark.apache.org\/docs\/latest\/rdd-programming-guide.html#working-with-key-value-pairs"
   ],
   "attachments":{},
   "metadata":{
    "datalore":{
     "node_id":"S6RepQR7SyzEuVGKhTlya7",
     "type":"MD",
     "hide_input_from_viewers":true,
     "hide_output_from_viewers":true
    }
   }
  },
  {
   "cell_type":"code",
   "source":[
    "from pyspark import SparkContext\n",
    "sc = SparkContext.getOrCreate()\n",
    "\n",
    "# ✅ 1. Vytvorenie dvoch RDD\n",
    "rdd_a = sc.parallelize([1, 2, 3, 4, 5, 3])\n",
    "rdd_b = sc.parallelize([4, 5, 6, 7])\n",
    "\n",
    "# ✅ 2. Operácia distinct\n",
    "rdd_distinct = rdd_a.distinct()\n",
    "print(\"🔁 Distinct (odstránenie duplicít):\", rdd_distinct.collect())\n",
    "\n",
    "# ✅ 3. Operácia union\n",
    "rdd_union = rdd_a.union(rdd_b)\n",
    "print(\"🔗 Union (spojenie rdd_a + rdd_b):\", rdd_union.collect())\n",
    "\n",
    "# ✅ 4. Párové RDD pre join (kľúč, hodnota)\n",
    "rdd_keys1 = sc.parallelize([(\"a\", 1), (\"b\", 2), (\"c\", 3)])\n",
    "rdd_keys2 = sc.parallelize([(\"a\", \"alfa\"), (\"b\", \"beta\"), (\"d\", \"delta\")])\n",
    "\n",
    "# ✅ 5. Join – spoločné kľúče\n",
    "rdd_joined = rdd_keys1.join(rdd_keys2)\n",
    "print(\"🔗 Join podľa kľúča:\")\n",
    "for item in rdd_joined.collect():\n",
    "    print(item)"
   ],
   "execution_count":18,
   "outputs":[
    {
     "name":"stdout",
     "text":[
      "🔁 Distinct (odstránenie duplicít): [2, 4, 1, 3, 5]\n",
      "🔗 Union (spojenie rdd_a + rdd_b): [1, 2, 3, 4, 5, 3, 4, 5, 6, 7]\n",
      "🔗 Join podľa kľúča:\n",
      "('b', (2, 'beta'))\n",
      "('a', (1, 'alfa'))\n"
     ],
     "output_type":"stream"
    },
    {
     "name":"stderr",
     "text":[
      "\r[Stage 37:=============================>                            (2 + 2) \/ 4]\r\r                                                                                \r"
     ],
     "output_type":"stream"
    }
   ],
   "metadata":{
    "datalore":{
     "node_id":"0897vFy2WotYlR9fMI5maC",
     "type":"CODE",
     "hide_input_from_viewers":true,
     "hide_output_from_viewers":true
    }
   }
  },
  {
   "cell_type":"markdown",
   "source":[
    "## 2️⃣d Porovnanie RDD vs. DataFrames – rozdiely vo výkone a pohodlnosti\n",
    "**📌 Úloha:** Porovnať výhody a nevýhody RDD a DataFrame pri spracovaní rovnakých dát – napríklad pri filtrovaní, zoskupení a výpočte priemeru.\n",
    "\n",
    "- RDD je nízkoúrovňový – ponúka kontrolu, ale vyžaduje viac kódu.\n",
    "- DataFrame je vysokoúrovňový – jednoduchší, rýchlejší a optimalizovaný pomocou Catalyst a Tungsten engine.\n",
    "- Porovnáme čitateľnosť, počet riadkov kódu a výkon (čas výpočtu).\n",
    "\n",
    "**✅ Výstupom bude:**\n",
    "- Porovnanie počtu riadkov a času výpočtu pri filtrovaní a agregácii\n",
    "- Ukážka rozdielov v kóde a výstupe\n",
    "\n",
    "**🔗 Dokumentácia:**\n",
    "- https:\/\/spark.apache.org\/docs\/latest\/sql-programming-guide.html\n",
    "- https:\/\/spark.apache.org\/docs\/latest\/rdd-programming-guide.html"
   ],
   "attachments":{},
   "metadata":{
    "datalore":{
     "node_id":"ksEIGyV0ZDhh1XI3FsL9ez",
     "type":"MD",
     "hide_input_from_viewers":true,
     "hide_output_from_viewers":true
    }
   }
  },
  {
   "cell_type":"code",
   "source":[
    "from pyspark.sql import SparkSession\n",
    "from time import time\n",
    "\n",
    "spark = SparkSession.builder.appName(\"RDD vs DataFrame\").getOrCreate()\n",
    "\n",
    "# 🔢 Vzorka dát\n",
    "data = [(\"Alice\", 34), (\"Bob\", 45), (\"Alice\", 22), (\"Bob\", 48), (\"Cindy\", 30)]\n",
    "columns = [\"name\", \"age\"]\n",
    "\n",
    "# ✅ 1. Prístup cez RDD\n",
    "rdd = spark.sparkContext.parallelize(data)\n",
    "\n",
    "start_rdd = time()\n",
    "avg_rdd = (\n",
    "    rdd.filter(lambda x: x[1] > 30)  # filter podľa veku\n",
    "       .map(lambda x: (x[0], (x[1], 1)))  # pre výpočet priemeru\n",
    "       .reduceByKey(lambda a, b: (a[0]+b[0], a[1]+b[1]))  # spočíta veky a počty\n",
    "       .mapValues(lambda x: round(x[0]\/x[1], 2))  # vypočíta priemer\n",
    "       .collect()\n",
    ")\n",
    "end_rdd = time()\n",
    "print(\"🔹 Výsledok cez RDD:\", avg_rdd)\n",
    "print(f\"⏱️ Čas výpočtu RDD: {end_rdd - start_rdd:.4f} sekundy\")\n",
    "\n",
    "# ✅ 2. Prístup cez DataFrame\n",
    "df = spark.createDataFrame(data, columns)\n",
    "\n",
    "start_df = time()\n",
    "avg_df = (\n",
    "    df.filter(df.age > 30)\n",
    "      .groupBy(\"name\")\n",
    "      .avg(\"age\")\n",
    "      .withColumnRenamed(\"avg(age)\", \"average_age\")\n",
    "      .collect()\n",
    ")\n",
    "end_df = time()\n",
    "print(\"🔸 Výsledok cez DataFrame:\", [(row[\"name\"], round(row[\"average_age\"], 2)) for row in avg_df])\n",
    "print(f\"⏱️ Čas výpočtu DataFrame: {end_df - start_df:.4f} sekundy\")"
   ],
   "execution_count":26,
   "outputs":[
    {
     "name":"stdout",
     "text":[
      "🔹 Výsledok cez RDD: [('Alice', 34.0), ('Bob', 46.5)]\n",
      "⏱️ Čas výpočtu RDD: 0.2519 sekundy\n",
      "🔸 Výsledok cez DataFrame: [('Bob', 46.5), ('Alice', 34.0)]\n",
      "⏱️ Čas výpočtu DataFrame: 0.1791 sekundy\n"
     ],
     "output_type":"stream"
    }
   ],
   "metadata":{
    "datalore":{
     "node_id":"88PMkKNVG5DLhOyLlkRggl",
     "type":"CODE",
     "hide_input_from_viewers":true,
     "hide_output_from_viewers":true
    }
   }
  },
  {
   "cell_type":"markdown",
   "source":[
    "# DataFrame"
   ],
   "attachments":{},
   "metadata":{
    "datalore":{
     "node_id":"DataFrame",
     "type":"MD",
     "hide_input_from_viewers":false,
     "hide_output_from_viewers":false,
     "sheet_delimiter":true
    }
   }
  },
  {
   "cell_type":"markdown",
   "source":[
    "# 🗂️ DataFrames – Úlohy a praktické príklady\n",
    "\n",
    "## 🧩 Čo je DataFrame v Apache Spark?\n",
    "\n",
    "**DataFrame** je distribuovaná dátová štruktúra v Apache Spark, ktorá pripomína **tabuľku v relačnej databáze** alebo **dátový rámec v Pythone (Pandas)**.\n",
    "\n",
    "Je to najčastejšie používaný dátový typ pre prácu s veľkými objemami dát, pretože kombinuje **jednoduchosť deklaratívneho dotazovania** (SQL štýl) s **výkonom paralelného spracovania**.\n",
    "\n",
    "---\n",
    "\n",
    "### ✅ Hlavné vlastnosti DataFrame:\n",
    "\n",
    "- **Štruktúrované dáta** – stĺpcová organizácia so známymi typmi\n",
    "- **Vysoký výkon** – vďaka optimalizačným engine-om Catalyst a Tungsten\n",
    "- **SQL kompatibilita** – umožňuje používať SQL dotazy\n",
    "- **Podpora rôznych formátov** – CSV, JSON, Parquet, JDBC a ďalšie\n",
    "- **Distribuované výpočty** – automatické rozdelenie dát a výpočtov na viaceré uzly clustra\n",
    "\n",
    "---\n",
    "\n",
    "### 🛠️ Na čo sa používa DataFrame?\n",
    "\n",
    "- **ETL operácie** (Extract – Transform – Load)\n",
    "- **Agregácie a štatistiky** nad veľkými datasetmi\n",
    "- **Filtrovacie a zoskupovacie operácie**\n",
    "- **Integrácia so strojovým učením (MLlib)**\n",
    "- **Spracovanie logov, webových dát, IoT údajov a iných big data zdrojov**\n",
    "\n",
    "---\n",
    "\n",
    "### 🔗 Dokumentácia:\n",
    "- [Spark SQL, DataFrames and Datasets Guide](https:\/\/spark.apache.org\/docs\/latest\/sql-programming-guide.html)\n",
    "- [pyspark.sql.DataFrame API](https:\/\/spark.apache.org\/docs\/latest\/api\/python\/reference\/pyspark.sql\/api\/pyspark.sql.DataFrame.html)"
   ],
   "attachments":{},
   "metadata":{
    "datalore":{
     "node_id":"2DAh0xuC7MwVJvxj7IvQmd",
     "type":"MD",
     "hide_input_from_viewers":true,
     "hide_output_from_viewers":true
    }
   }
  },
  {
   "cell_type":"markdown",
   "source":[
    "## 3️⃣a Vytváranie a transformácie DataFrame\n",
    "**📌 Úloha:** Vytvoriť DataFrame v Apache Spark, aplikovať základné transformácie ako výber (select), filtrovanie (filter) a vytváranie nových stĺpcov (withColumn).\n",
    "\n",
    "- DataFrame je optimalizovaná dátová štruktúra na spracovanie štruktúrovaných údajov.\n",
    "- Využíva optimalizačný engine Catalyst a podporuje Lazy Evaluation ako RDD.\n",
    "- Transformácie ako select(), filter(), withColumn() menia logický plán, ale nevykonajú sa hneď – až pri akcii ako show() alebo collect().\n",
    "\n",
    "**✅ Výstupom bude:**\n",
    "- vytvorený DataFrame\n",
    "- výber konkrétnych stĺpcov\n",
    "- filtrovanie podľa podmienok\n",
    "- nový odvodený stĺpec\n",
    "\n",
    "**🔗 Dokumentácia:**\n",
    "- https:\/\/spark.apache.org\/docs\/latest\/sql-programming-guide.html"
   ],
   "attachments":{},
   "metadata":{
    "datalore":{
     "node_id":"WVkkT4tByeoVEkiWYlb0h0",
     "type":"MD",
     "hide_input_from_viewers":true,
     "hide_output_from_viewers":true
    }
   }
  },
  {
   "cell_type":"code",
   "source":[
    "from pyspark.sql import SparkSession\n",
    "from pyspark.sql.functions import col\n",
    "\n",
    "# Inicializácia SparkSession\n",
    "spark = SparkSession.builder.appName(\"DataFrame Transformácie\").getOrCreate()\n",
    "\n",
    "# 🔢 Ukážkové údaje (zoznam n-tíc)\n",
    "data = [(\"Ján\", 1000), (\"Mária\", 1500), (\"Lucia\", 1200), (\"Jozef\", 800)]\n",
    "columns = [\"Meno\", \"Plat\"]\n",
    "\n",
    "# ✅ 1. Vytvorenie DataFrame\n",
    "df = spark.createDataFrame(data, columns)\n",
    "\n",
    "# ✅ 2. Výber stĺpcov\n",
    "df.select(\"Meno\").show()\n",
    "\n",
    "# ✅ 3. Filtrovanie – plat nad 1000\n",
    "df.filter(col(\"Plat\") > 1000).show()\n",
    "\n",
    "# ✅ 4. Nový stĺpec: ZdanenýPlat (napr. 80 %)\n",
    "df.withColumn(\"ZdanenýPlat\", col(\"Plat\") * 0.8).show()"
   ],
   "execution_count":32,
   "outputs":[
    {
     "name":"stdout",
     "text":[
      "+-----+\n",
      "| Meno|\n",
      "+-----+\n",
      "|  Ján|\n",
      "|Mária|\n",
      "|Lucia|\n",
      "|Jozef|\n",
      "+-----+\n",
      "\n",
      "+-----+----+\n",
      "| Meno|Plat|\n",
      "+-----+----+\n",
      "|Mária|1500|\n",
      "|Lucia|1200|\n",
      "+-----+----+\n",
      "\n",
      "+-----+----+-----------+\n",
      "| Meno|Plat|ZdanenýPlat|\n",
      "+-----+----+-----------+\n",
      "|  Ján|1000|      800.0|\n",
      "|Mária|1500|     1200.0|\n",
      "|Lucia|1200|      960.0|\n",
      "|Jozef| 800|      640.0|\n",
      "+-----+----+-----------+\n",
      "\n"
     ],
     "output_type":"stream"
    },
    {
     "name":"stderr",
     "text":[
      "25\/06\/11 18:03:41 WARN SparkSession: Using an existing Spark session; only runtime SQL configurations will take effect.\n"
     ],
     "output_type":"stream"
    }
   ],
   "metadata":{
    "datalore":{
     "node_id":"Sg3uF5lkV7sO5lIDDIsl5n",
     "type":"CODE",
     "hide_input_from_viewers":true,
     "hide_output_from_viewers":true
    }
   }
  },
  {
   "cell_type":"markdown",
   "source":[
    "## 3️⃣b Základy práce s DataFrame\n",
    "**📌 Úloha:** Oboznámiť sa so základnými operáciami nad DataFrame – zobrazenie schémy, ukážka dát, výpis stĺpcov a typov, filtrovanie a zoradenie.\n",
    "\n",
    "- DataFrame v Apache Spark je distribuovaná tabuľka so schémou, podobná SQL tabuľke alebo Pandas DataFrame.\n",
    "- Poskytuje efektívne metódy na manipuláciu, analýzu a transformáciu štruktúrovaných dát.\n",
    "\n",
    "**✅ Výstupom bude:**\n",
    "- Výpis schémy (schema)\n",
    "- Ukážka záznamov (show)\n",
    "- Výpis stĺpcov a ich typov (columns, dtypes)\n",
    "- Zoradenie záznamov\n",
    "- Filtrovanie záznamov\n",
    "\n",
    "**🔗 Dokumentácia:**\n",
    "- https:\/\/spark.apache.org\/docs\/latest\/sql-programming-guide.html"
   ],
   "attachments":{},
   "metadata":{
    "datalore":{
     "node_id":"jZDCJuHZKx3sSCZIKWawIg",
     "type":"MD",
     "hide_input_from_viewers":true,
     "hide_output_from_viewers":true
    }
   }
  },
  {
   "cell_type":"code",
   "source":[
    "from pyspark.sql import SparkSession\n",
    "from pyspark.sql.functions import col\n",
    "\n",
    "# ✅ Inicializácia SparkSession\n",
    "spark = SparkSession.builder.appName(\"Základy DataFrame\").getOrCreate()\n",
    "\n",
    "# 📊 Vzorka údajov – zamestnanci\n",
    "data = [\n",
    "    (\"Anna\", \"IT\", 2500),\n",
    "    (\"Peter\", \"Marketing\", 1800),\n",
    "    (\"Lucia\", \"IT\", 3100),\n",
    "    (\"Jozef\", \"HR\", 2000)\n",
    "]\n",
    "columns = [\"Meno\", \"Oddelenie\", \"Plat\"]\n",
    "\n",
    "# ✅ 1. Vytvorenie DataFrame\n",
    "df = spark.createDataFrame(data, columns)\n",
    "\n",
    "# ✅ 2. Zobrazenie dát\n",
    "df.show()\n",
    "\n",
    "# ✅ 3. Schéma a typy stĺpcov\n",
    "df.printSchema()\n",
    "print(\"Stĺpce:\", df.columns)\n",
    "print(\"Dátové typy:\", df.dtypes)\n",
    "\n",
    "# ✅ 4. Zoradenie podľa platu zostupne\n",
    "df.orderBy(col(\"Plat\").desc()).show()\n",
    "\n",
    "# ✅ 5. Filtrovanie podľa oddelenia\n",
    "df.filter(col(\"Oddelenie\") == \"IT\").show()"
   ],
   "execution_count":33,
   "outputs":[
    {
     "name":"stdout",
     "text":[
      "+-----+---------+----+\n",
      "| Meno|Oddelenie|Plat|\n",
      "+-----+---------+----+\n",
      "| Anna|       IT|2500|\n",
      "|Peter|Marketing|1800|\n",
      "|Lucia|       IT|3100|\n",
      "|Jozef|       HR|2000|\n",
      "+-----+---------+----+\n",
      "\n",
      "root\n",
      " |-- Meno: string (nullable = true)\n",
      " |-- Oddelenie: string (nullable = true)\n",
      " |-- Plat: long (nullable = true)\n",
      "\n",
      "Stĺpce: ['Meno', 'Oddelenie', 'Plat']\n",
      "Dátové typy: [('Meno', 'string'), ('Oddelenie', 'string'), ('Plat', 'bigint')]\n",
      "+-----+---------+----+\n",
      "| Meno|Oddelenie|Plat|\n",
      "+-----+---------+----+\n",
      "|Lucia|       IT|3100|\n",
      "| Anna|       IT|2500|\n",
      "|Jozef|       HR|2000|\n",
      "|Peter|Marketing|1800|\n",
      "+-----+---------+----+\n",
      "\n",
      "+-----+---------+----+\n",
      "| Meno|Oddelenie|Plat|\n",
      "+-----+---------+----+\n",
      "| Anna|       IT|2500|\n",
      "|Lucia|       IT|3100|\n",
      "+-----+---------+----+\n",
      "\n"
     ],
     "output_type":"stream"
    },
    {
     "name":"stderr",
     "text":[
      "25\/06\/11 18:07:07 WARN SparkSession: Using an existing Spark session; only runtime SQL configurations will take effect.\n"
     ],
     "output_type":"stream"
    }
   ],
   "metadata":{
    "datalore":{
     "node_id":"8MP2D8fFDOXk2wgOZTftZz",
     "type":"CODE",
     "hide_input_from_viewers":true,
     "hide_output_from_viewers":true
    }
   }
  },
  {
   "cell_type":"markdown",
   "source":[
    "## 3️⃣c Operácie s DataFrame (select, filter, groupBy, agg)\n",
    "**📌 Úloha:** Vyskúšať základné operácie nad DataFrame – výber stĺpcov, filtrovanie záznamov, zoskupovanie a agregáciu.\n",
    "\n",
    "- select – výber konkrétnych stĺpcov\n",
    "- filter – filtrovanie podľa podmienky\n",
    "- groupBy – zoskupenie podľa hodnoty v stĺpci\n",
    "- agg – agregácia (napr. priemer, súčet, počet)\n",
    "\n",
    "**✅ Výstupom bude:**\n",
    "- Výber konkrétnych stĺpcov\n",
    "- Filtrovanie podľa hodnoty\n",
    "- Agregácia podľa skupiny\n",
    "\n",
    "**🔗 Dokumentácia:**\n",
    "- https:\/\/spark.apache.org\/docs\/latest\/api\/python\/reference\/pyspark.sql\/api\/pyspark.sql.DataFrame.html"
   ],
   "attachments":{},
   "metadata":{
    "datalore":{
     "node_id":"9pohNyQHF4asIjNqVRBoNw",
     "type":"MD",
     "hide_input_from_viewers":true,
     "hide_output_from_viewers":true
    }
   }
  },
  {
   "cell_type":"code",
   "source":[
    "from pyspark.sql import SparkSession\n",
    "from pyspark.sql.functions import avg, sum, count\n",
    "\n",
    "# ✅ Inicializácia SparkSession\n",
    "spark = SparkSession.builder.appName(\"Operácie DataFrame\").getOrCreate()\n",
    "\n",
    "# 📊 Vzorka údajov – zamestnanci\n",
    "data = [\n",
    "    (\"Anna\", \"IT\", 2500),\n",
    "    (\"Peter\", \"Marketing\", 1800),\n",
    "    (\"Lucia\", \"IT\", 3100),\n",
    "    (\"Jozef\", \"HR\", 2000),\n",
    "    (\"Ivan\", \"Marketing\", 2100)\n",
    "]\n",
    "columns = [\"Meno\", \"Oddelenie\", \"Plat\"]\n",
    "\n",
    "df = spark.createDataFrame(data, columns)\n",
    "\n",
    "# ✅ 1. Výber konkrétnych stĺpcov\n",
    "df.select(\"Meno\", \"Plat\").show()\n",
    "\n",
    "# ✅ 2. Filtrovanie podľa hodnoty v stĺpci\n",
    "df.filter(df[\"Plat\"] > 2000).show()\n",
    "\n",
    "# ✅ 3. Zoskupenie podľa oddelenia a výpočet priemeru platu\n",
    "df.groupBy(\"Oddelenie\").agg(avg(\"Plat\").alias(\"Priemerny_Plat\")).show()\n",
    "\n",
    "# ✅ 4. Zoskupenie a viacero agregácií naraz\n",
    "df.groupBy(\"Oddelenie\").agg(\n",
    "    count(\"*\").alias(\"Pocet\"),\n",
    "    sum(\"Plat\").alias(\"Suma\"),\n",
    "    avg(\"Plat\").alias(\"Priemer\")\n",
    ").show()"
   ],
   "execution_count":34,
   "outputs":[
    {
     "name":"stdout",
     "text":[
      "+-----+----+\n",
      "| Meno|Plat|\n",
      "+-----+----+\n",
      "| Anna|2500|\n",
      "|Peter|1800|\n",
      "|Lucia|3100|\n",
      "|Jozef|2000|\n",
      "| Ivan|2100|\n",
      "+-----+----+\n",
      "\n",
      "+-----+---------+----+\n",
      "| Meno|Oddelenie|Plat|\n",
      "+-----+---------+----+\n",
      "| Anna|       IT|2500|\n",
      "|Lucia|       IT|3100|\n",
      "| Ivan|Marketing|2100|\n",
      "+-----+---------+----+\n",
      "\n",
      "+---------+--------------+\n",
      "|Oddelenie|Priemerny_Plat|\n",
      "+---------+--------------+\n",
      "|Marketing|        1950.0|\n",
      "|       IT|        2800.0|\n",
      "|       HR|        2000.0|\n",
      "+---------+--------------+\n",
      "\n",
      "+---------+-----+----+-------+\n",
      "|Oddelenie|Pocet|Suma|Priemer|\n",
      "+---------+-----+----+-------+\n",
      "|Marketing|    2|3900| 1950.0|\n",
      "|       IT|    2|5600| 2800.0|\n",
      "|       HR|    1|2000| 2000.0|\n",
      "+---------+-----+----+-------+\n",
      "\n"
     ],
     "output_type":"stream"
    },
    {
     "name":"stderr",
     "text":[
      "25\/06\/11 18:36:43 WARN SparkSession: Using an existing Spark session; only runtime SQL configurations will take effect.\n"
     ],
     "output_type":"stream"
    }
   ],
   "metadata":{
    "datalore":{
     "node_id":"wtoSEKlCQHkeVnTzSIobMO",
     "type":"CODE",
     "hide_input_from_viewers":true,
     "hide_output_from_viewers":true
    }
   }
  },
  {
   "cell_type":"markdown",
   "source":[
    "## 3️⃣d Základná práca s dátami – načítanie a ukladanie (CSV, JSON)\n",
    "**📌 Úloha:** Naučiť sa, ako načítať a uložiť dáta vo formátoch CSV a JSON pomocou Spark DataFrame API.\n",
    "\n",
    "- read.csv() \/ read.json() – načítanie dát\n",
    "- write.csv() \/ write.json() – ukladanie dát\n",
    "- Dôležité parametre: header, inferSchema, mode\n",
    "\n",
    "**✅ Výstupom bude:**\n",
    "- Načítanie CSV a JSON do DataFrame\n",
    "- Zobrazenie dát\n",
    "- Uloženie výstupu do nového súboru\n",
    "\n",
    "**🔗 Dokumentácia:**\n",
    "- https:\/\/spark.apache.org\/docs\/latest\/sql-data-sources-csv.html\n",
    "- https:\/\/spark.apache.org\/docs\/latest\/sql-data-sources-json.html"
   ],
   "attachments":{},
   "metadata":{
    "datalore":{
     "node_id":"6dpbGfqeZDVv3htu9uUjYJ",
     "type":"MD",
     "hide_input_from_viewers":true,
     "hide_output_from_viewers":true
    }
   }
  },
  {
   "cell_type":"code",
   "source":[
    "# 🔧 Vytvorenie vzorových dát\n",
    "data = [(\"Anna\", 30, \"Bratislava\"),\n",
    "        (\"Ján\", 42, \"Košice\"),\n",
    "        (\"Eva\", 25, \"Prešov\")]\n",
    "columns = [\"meno\", \"vek\", \"mesto\"]\n",
    "\n",
    "df = spark.createDataFrame(data, columns)\n",
    "\n",
    "# 💾 Uloženie do CSV a JSON\n",
    "df.write.mode(\"overwrite\").option(\"header\", True).csv(\"vzorka_osoby.csv\")\n",
    "df.write.mode(\"overwrite\").json(\"vzorka_osoby.json\")"
   ],
   "execution_count":40,
   "outputs":[],
   "metadata":{
    "datalore":{
     "node_id":"Z447Nq9JQiZrHZMsFzUFwh",
     "type":"CODE",
     "hide_input_from_viewers":true,
     "hide_output_from_viewers":true
    }
   }
  },
  {
   "cell_type":"code",
   "source":[
    "from pyspark.sql import SparkSession\n",
    "\n",
    "# ✅ Inicializácia SparkSession\n",
    "spark = SparkSession.builder.appName(\"Nacitanie a Ukladanie\").getOrCreate()\n",
    "\n",
    "# 📥 1. Načítanie CSV súboru (s hlavičkou a automatickým určením typov)\n",
    "df_csv = spark.read.csv(\"vzorka_osoby.csv\", header=True, inferSchema=True)\n",
    "df_csv.show()\n",
    "\n",
    "# 📥 2. Načítanie JSON súboru\n",
    "df_json = spark.read.json(\"vzorka_osoby.json\")\n",
    "df_json.show()\n",
    "\n",
    "# 💾 3. Uloženie DataFrame do CSV (režim 'overwrite' – prepíše súbor)\n",
    "df_csv.write.mode(\"overwrite\").option(\"header\", True).csv(\"vystup_csv\")\n",
    "\n",
    "# 💾 4. Uloženie DataFrame do JSON\n",
    "df_json.write.mode(\"overwrite\").json(\"vystup_json\")"
   ],
   "execution_count":41,
   "outputs":[
    {
     "name":"stdout",
     "text":[
      "+----+---+----------+\n",
      "|meno|vek|     mesto|\n",
      "+----+---+----------+\n",
      "| Ján| 42|    Košice|\n",
      "| Eva| 25|    Prešov|\n",
      "|Anna| 30|Bratislava|\n",
      "+----+---+----------+\n",
      "\n",
      "+----+----------+---+\n",
      "|meno|     mesto|vek|\n",
      "+----+----------+---+\n",
      "| Ján|    Košice| 42|\n",
      "| Eva|    Prešov| 25|\n",
      "|Anna|Bratislava| 30|\n",
      "+----+----------+---+\n",
      "\n"
     ],
     "output_type":"stream"
    },
    {
     "name":"stderr",
     "text":[
      "25\/06\/11 19:06:39 WARN SparkSession: Using an existing Spark session; only runtime SQL configurations will take effect.\n"
     ],
     "output_type":"stream"
    }
   ],
   "metadata":{
    "datalore":{
     "node_id":"e3YASlT1USTomOrybCGt9s",
     "type":"CODE",
     "hide_input_from_viewers":true,
     "hide_output_from_viewers":true
    }
   }
  },
  {
   "cell_type":"code",
   "source":[
    "from pyspark.sql import SparkSession\n",
    "\n",
    "# ✅ Inicializácia SparkSession\n",
    "spark = SparkSession.builder.appName(\"Nacitanie a Ukladanie\").getOrCreate()\n",
    "\n",
    "# 📥 1. Načítanie CSV súboru (s hlavičkou a automatickým určením typov)\n",
    "df_csv = spark.read.csv(\"data-klienti.csv\", header=True, inferSchema=True)\n",
    "df_csv.show()\n",
    "\n",
    "# 💾 2. Uloženie DataFrame do CSV (režim 'overwrite' – prepíše súbor)\n",
    "df_csv.write.mode(\"overwrite\").option(\"header\", True).csv(\"vystup-data-klienti_csv\")\n"
   ],
   "execution_count":42,
   "outputs":[
    {
     "name":"stdout",
     "text":[
      "+--------+---+---------------+-------------+----+-------------+--------+-------+----------------+----------+\n",
      "|    meno|vek|          mesto|      pozicia|plat|    vzdelanie|pohlavie|projekt|           firma|roky_praxe|\n",
      "+--------+---+---------------+-------------+----+-------------+--------+-------+----------------+----------+\n",
      "|   Peter| 30|         Zvolen|    Marketing|3142|         PhD.|       Ž|     E5|            ESET|         3|\n",
      "|   Lucia| 55|         Trnava|Administrátor|3901|         Ing.|       Ž|     B2|          Orange|         5|\n",
      "|   Peter| 58|Banská Bystrica|     Dizajnér|3359|         Mgr.|       M|     D4|              O2|         5|\n",
      "|Katarína| 41|         Poprad|  Programátor|2252|          Bc.|       Ž|     B2|     Tatra banka|        11|\n",
      "|   Lucia| 48|         Trnava|           HR|1044|         PhD.|       M|     D4|Pixel Federation|        24|\n",
      "|Katarína| 37|         Poprad|       Tester|1911|stredoškolské|       M|     A1|Pixel Federation|        24|\n",
      "|Katarína| 58|     Bratislava|           HR|4068|         Ing.|       M|     A1|Pixel Federation|         6|\n",
      "|   Peter| 41|         Košice|       Tester|2623|         Mgr.|       M|     D4|Pixel Federation|        18|\n",
      "|    Anna| 36|         Prešov|     Účtovník|2911|         Ing.|       Ž|     B2|          Orange|        21|\n",
      "|     Ján| 26|         Poprad|    Obchodník|3292|         Mgr.|       Ž|     E5|     Tatra banka|        11|\n",
      "|Katarína| 30|          Nitra|Administrátor|3108|         PhD.|       M|     E5|     Tatra banka|        23|\n",
      "|  Martin| 34|         Poprad|     Účtovník|1900|stredoškolské|       Ž|     A1|          Orange|         1|\n",
      "|     Eva| 45|         Žilina|      Manažér|3900|         Ing.|       M|     E5|              O2|        20|\n",
      "|  Martin| 25|     Bratislava|      Manažér|4385|          Bc.|       M|     A1|Pixel Federation|        21|\n",
      "|   Peter| 51|     Bratislava|    Marketing|4020|         PhD.|       Ž|     D4|            ESET|        17|\n",
      "|   Lucia| 35|         Prešov|       Tester|2893|          Bc.|       M|     E5|     Tatra banka|         1|\n",
      "|Katarína| 45|     Bratislava|     Účtovník|1743|          Bc.|       M|     C3|            ESET|        23|\n",
      "|  Martin| 54|         Žilina|    Marketing|2062|         Ing.|       Ž|     B2|            ESET|        18|\n",
      "|     Eva| 45|         Prešov|     Dizajnér|2295|         Mgr.|       Ž|     E5|            ESET|        13|\n",
      "|   Lucia| 28|         Zvolen|     Účtovník|2770|         Mgr.|       M|     B2|            ESET|        18|\n",
      "+--------+---+---------------+-------------+----+-------------+--------+-------+----------------+----------+\n",
      "only showing top 20 rows\n",
      "\n"
     ],
     "output_type":"stream"
    }
   ],
   "metadata":{
    "datalore":{
     "node_id":"3dActferHyEFv3cHxqlrmW",
     "type":"CODE",
     "hide_input_from_viewers":true,
     "hide_output_from_viewers":true
    }
   }
  },
  {
   "cell_type":"code",
   "source":[
    "#!pip install faker\n",
    "from pyspark.sql import SparkSession\n",
    "import random\n",
    "from faker import Faker\n",
    "\n",
    "# Inicializácia SparkSession\n",
    "spark = SparkSession.builder.appName(\"VelkyDataFrame\").getOrCreate()\n",
    "\n",
    "# Použitie knižnice Faker na generovanie realistických dát\n",
    "fake = Faker(\"sk_SK\")\n",
    "\n",
    "# Počet riadkov\n",
    "num_rows = 10000\n",
    "\n",
    "# Generovanie dát\n",
    "data = []\n",
    "for _ in range(num_rows):\n",
    "    meno = fake.first_name()\n",
    "    priezvisko = fake.last_name()\n",
    "    vek = random.randint(18, 70)\n",
    "    mesto = fake.city()\n",
    "    email = fake.email()\n",
    "    telefon = fake.phone_number()\n",
    "    firma = fake.company()\n",
    "    pozicia = fake.job()\n",
    "    datum_narodenia = fake.date_of_birth(minimum_age=18, maximum_age=70).isoformat()\n",
    "    psc = fake.postcode()\n",
    "    data.append((meno, priezvisko, vek, datum_narodenia, mesto, psc, email, telefon, firma, pozicia))\n",
    "\n",
    "# Definovanie stĺpcov\n",
    "columns = [\"meno\", \"priezvisko\", \"vek\", \"datum_narodenia\", \"mesto\", \"psc\", \"email\", \"telefon\", \"firma\", \"pozicia\"]\n",
    "\n",
    "# Vytvorenie DataFrame\n",
    "df = spark.createDataFrame(data, columns)\n",
    "\n",
    "# Uloženie do CSV a JSON\n",
    "df.write.mode(\"overwrite\").option(\"header\", True).csv(\"vzorka_osoby_velka.csv\")\n",
    "df.write.mode(\"overwrite\").json(\"vzorka_osoby_velka.json\")\n",
    "\n",
    "# Náhľad\n",
    "df.show(5)\n",
    "df"
   ],
   "execution_count":39,
   "outputs":[
    {
     "name":"stdout",
     "text":[
      "+---------+----------+---+---------------+------------------+------+--------------------+-----------------+--------------------+--------------------+\n",
      "|     meno|priezvisko|vek|datum_narodenia|             mesto|   psc|               email|          telefon|               firma|             pozicia|\n",
      "+---------+----------+---+---------------+------------------+------+--------------------+-----------------+--------------------+--------------------+\n",
      "|   Viktor| Janečková| 53|     1976-08-24|     Horný Lieskov|999 84|milosmadar@exampl...|00421 34 683 0549|         Melicherčík|Inžinier, elektro...|\n",
      "|Frederika|  Ondrušek| 18|     1981-05-04|          Domaníky|044 12|tmihalik@example.org| +421 940 625 976|           Valušková|      Správca umenia|\n",
      "|Sebastián|     Hanák| 62|     1986-12-27|Vršatské Podhradie|825 05|lstarosta@example...|00421 949 639 756|    Černíková s.r.o.|Návrhár interiéro...|\n",
      "| Bohuslav|   Devečka| 53|     1991-10-22|           Borčany|067 25|sokolovabarbara@e...| +421 49 897 0011|         Kozová a.s.|  Knihovník, verejný|\n",
      "|  Krištof|   Tomaška| 70|     1957-08-24|       Dolná Ždaňa|876 76|  isamel@example.org|00421 948 209 695|Lamačová Velďák a.s.|              Umelec|\n",
      "+---------+----------+---+---------------+------------------+------+--------------------+-----------------+--------------------+--------------------+\n",
      "only showing top 5 rows\n",
      "\n"
     ],
     "output_type":"stream"
    },
    {
     "data":{
      "text\/plain":[
       "DataFrame[meno: string, priezvisko: string, vek: bigint, datum_narodenia: string, mesto: string, psc: string, email: string, telefon: string, firma: string, pozicia: string]"
      ]
     },
     "metadata":{},
     "output_type":"display_data"
    }
   ],
   "metadata":{
    "datalore":{
     "node_id":"21PpNxD8sL2gvqt3UHR9It",
     "type":"CODE",
     "hide_input_from_viewers":true,
     "hide_output_from_viewers":true
    }
   }
  },
  {
   "cell_type":"markdown",
   "source":[
    "## 3️⃣e Porovnanie DataFrames oproti RDD\n",
    "**📌 Úloha:** Porovnať prístup pomocou RDD a DataFrame pri spracovaní rovnakých dát (filtrovanie, zoskupenie, výpočet priemeru platu).\n",
    "\n",
    "- RDD poskytuje nízkoúrovňovú kontrolu, ale je menej čitateľný a optimalizovaný.\n",
    "- DataFrame je vysokoúrovňový, efektívny a vhodný na SQL dotazy a analytiku.\n",
    "- Porovnáme čitateľnosť kódu, výkon výpočtu a zložitosť implementácie.\n",
    "\n",
    "**✅ Výstupom bude:**\n",
    "- Porovnanie kódu, počtu riadkov a výpočtového času\n",
    "- Ukážka výpočtu priemerného platu podľa pozície\n",
    "\n",
    "**🔗 Dokumentácia:**\n",
    "- https:\/\/spark.apache.org\/docs\/latest\/sql-programming-guide.html\n",
    "- https:\/\/spark.apache.org\/docs\/latest\/rdd-programming-guide.html"
   ],
   "attachments":{},
   "metadata":{
    "datalore":{
     "node_id":"Mv49uzXxGp3MSg66dFCYpR",
     "type":"MD",
     "hide_input_from_viewers":true,
     "hide_output_from_viewers":true
    }
   }
  },
  {
   "cell_type":"code",
   "source":[
    "from pyspark.sql import SparkSession\n",
    "from time import time\n",
    "\n",
    "# 🔧 Inicializácia SparkSession\n",
    "spark = SparkSession.builder.appName(\"Porovnanie RDD a DataFrame\").getOrCreate()\n",
    "\n",
    "# 📊 Testovacie údaje\n",
    "data = [\n",
    "    (\"Anna\", 30, \"Bratislava\", \"Developer\", 3000),\n",
    "    (\"Ján\", 42, \"Košice\", \"Manager\", 5000),\n",
    "    (\"Eva\", 25, \"Prešov\", \"Developer\", 3200),\n",
    "    (\"Peter\", 38, \"Žilina\", \"Manager\", 5200),\n",
    "    (\"Marek\", 28, \"Nitra\", \"Tester\", 2800),\n",
    "]\n",
    "columns = [\"meno\", \"vek\", \"mesto\", \"pozicia\", \"plat\"]\n",
    "\n",
    "# ✅ 1. Riešenie cez RDD\n",
    "rdd = spark.sparkContext.parallelize(data)\n",
    "\n",
    "start_rdd = time()\n",
    "avg_salary_rdd = (\n",
    "    rdd.map(lambda x: (x[3], (x[4], 1)))  # (pozícia, (plat, 1))\n",
    "       .reduceByKey(lambda a, b: (a[0]+b[0], a[1]+b[1]))  # spočíta platy a počty\n",
    "       .mapValues(lambda x: round(x[0]\/x[1], 2))  # výpočet priemeru\n",
    "       .collect()\n",
    ")\n",
    "end_rdd = time()\n",
    "\n",
    "print(\"🔹 Výsledok cez RDD:\", avg_salary_rdd)\n",
    "print(f\"⏱️ Čas výpočtu RDD: {end_rdd - start_rdd:.4f} sekundy\")"
   ],
   "execution_count":43,
   "outputs":[
    {
     "name":"stdout",
     "text":[
      "🔹 Výsledok cez RDD: [('Developer', 3100.0), ('Manager', 5100.0), ('Tester', 2800.0)]\n",
      "⏱️ Čas výpočtu RDD: 0.4468 sekundy\n"
     ],
     "output_type":"stream"
    },
    {
     "name":"stderr",
     "text":[
      "25\/06\/11 19:13:36 WARN SparkSession: Using an existing Spark session; only runtime SQL configurations will take effect.\n"
     ],
     "output_type":"stream"
    }
   ],
   "metadata":{
    "datalore":{
     "node_id":"0Cfifr86CuwAPWLvfHGOeP",
     "type":"CODE",
     "hide_input_from_viewers":true,
     "hide_output_from_viewers":true
    }
   }
  },
  {
   "cell_type":"code",
   "source":[
    "# ✅ 2. Riešenie cez DataFrame\n",
    "df = spark.createDataFrame(data, columns)\n",
    "\n",
    "start_df = time()\n",
    "avg_salary_df = (\n",
    "    df.groupBy(\"pozicia\")\n",
    "      .avg(\"plat\")\n",
    "      .withColumnRenamed(\"avg(plat)\", \"priemerny_plat\")\n",
    "      .collect()\n",
    ")\n",
    "end_df = time()\n",
    "\n",
    "print(\"🔸 Výsledok cez DataFrame:\", [(row[\"pozicia\"], round(row[\"priemerny_plat\"], 2)) for row in avg_salary_df])\n",
    "print(f\"⏱️ Čas výpočtu DataFrame: {end_df - start_df:.4f} sekundy\")"
   ],
   "execution_count":44,
   "outputs":[
    {
     "name":"stdout",
     "text":[
      "🔸 Výsledok cez DataFrame: [('Developer', 3100.0), ('Manager', 5100.0), ('Tester', 2800.0)]\n",
      "⏱️ Čas výpočtu DataFrame: 0.3747 sekundy\n"
     ],
     "output_type":"stream"
    }
   ],
   "metadata":{
    "datalore":{
     "node_id":"mWFS2XzgzegJ8DKtKAORdu",
     "type":"CODE",
     "hide_input_from_viewers":true,
     "hide_output_from_viewers":true
    }
   }
  },
  {
   "cell_type":"markdown",
   "source":[
    "## 📊 Zhrnutie porovnania\n",
    "\n",
    "| Kriterium             | RDD                         | DataFrame                            |\n",
    "|-----------------------|-----------------------------|---------------------------------------|\n",
    "| Úroveň abstrakcie     | Nízka                       | Vysoká                                |\n",
    "| Počet riadkov kódu    | Viac                        | Menej                                 |\n",
    "| Optimalizácia         | Manuálna                    | Automatická (Catalyst + Tungsten)     |\n",
    "| Čitateľnosť           | Nižšia                      | Vyššia                                |\n",
    "| Rýchlosť výpočtu      | Zvyčajne nižšia             | Vyššia                                |\n",
    "| SQL podpora           | Nie                         | Áno                                   |"
   ],
   "attachments":{},
   "metadata":{
    "datalore":{
     "node_id":"Kn5sWmpQIpfzhO4qrwBNu4",
     "type":"MD",
     "hide_input_from_viewers":true,
     "hide_output_from_viewers":true
    }
   }
  },
  {
   "cell_type":"markdown",
   "source":[
    "# Spark SQL"
   ],
   "attachments":{},
   "metadata":{
    "datalore":{
     "node_id":"Spark SQL",
     "type":"MD",
     "hide_input_from_viewers":false,
     "hide_output_from_viewers":false,
     "sheet_delimiter":true
    }
   }
  },
  {
   "cell_type":"markdown",
   "source":[
    "# 🛢️ Spark SQL"
   ],
   "attachments":{},
   "metadata":{
    "datalore":{
     "node_id":"6uFncnsyzDdk2UJ109aYgo",
     "type":"MD",
     "hide_input_from_viewers":true,
     "hide_output_from_viewers":true
    }
   }
  },
  {
   "cell_type":"markdown",
   "source":[
    "## 4️⃣a Spracovanie dát v Spark SQL\n",
    "**📌 Úloha:** Vytvoriť dočasnú SQL tabuľku zo Spark DataFrame a spustiť nad ňou SQL dopyt.\n",
    "\n",
    "- Spark SQL umožňuje spúšťať klasické SQL dopyty nad veľkými dátami v distribuovanom prostredí.\n",
    "- Využíva optimalizačné enginy Catalyst a Tungsten.\n",
    "- V praxi možno spájať výhody DataFrame API a SQL dopytovania.\n",
    "\n",
    "**✅ Výstupom bude:**\n",
    "- Registrácia DataFrame ako SQL tabuľky\n",
    "- Vykonanie SELECT, WHERE, ORDER BY dopytov\n",
    "- Zobrazenie výsledkov z dopytov\n",
    "\n",
    "**🔗 Dokumentácia:**\n",
    "- https:\/\/spark.apache.org\/docs\/latest\/sql-getting-started.html\n"
   ],
   "attachments":{},
   "metadata":{
    "datalore":{
     "node_id":"wfeUJgSEIRnzz2PWv2jWii",
     "type":"MD",
     "hide_input_from_viewers":true,
     "hide_output_from_viewers":true
    }
   }
  },
  {
   "cell_type":"code",
   "source":[
    "from pyspark.sql import SparkSession\n",
    "\n",
    "# Inicializácia SparkSession\n",
    "spark = SparkSession.builder.appName(\"Spark SQL Example\").getOrCreate()\n",
    "\n",
    "# Vytvorenie dátového rámca (DataFrame)\n",
    "data = [\n",
    "    (\"Anna\", 30, \"Bratislava\", \"anna@example.com\", \"0901123456\", \"Žena\", \"IT\", 2100),\n",
    "    (\"Ján\", 42, \"Košice\", \"jan.k@example.com\", \"0902987654\", \"Muž\", \"Strojárstvo\", 1800),\n",
    "    (\"Eva\", 25, \"Prešov\", \"eva123@example.com\", \"0910123456\", \"Žena\", \"Marketing\", 1500),\n",
    "    (\"Marek\", 33, \"Bratislava\", \"marek.m@example.com\", \"0903123456\", \"Muž\", \"Financie\", 2300),\n",
    "    (\"Zuzana\", 28, \"Žilina\", \"zuzana.z@example.com\", \"0904567890\", \"Žena\", \"HR\", 1600),\n",
    "    (\"Tomáš\", 36, \"Trnava\", \"tomas.t@example.com\", \"0905234567\", \"Muž\", \"Logistika\", 1950),\n",
    "    (\"Lucia\", 31, \"Nitra\", \"lucia.n@example.com\", \"0910789456\", \"Žena\", \"IT\", 2200),\n",
    "    (\"Peter\", 45, \"Poprad\", \"peter.p@example.com\", \"0911345678\", \"Muž\", \"Strojárstvo\", 1700),\n",
    "    (\"Monika\", 29, \"Banská Bystrica\", \"monika.b@example.com\", \"0909988776\", \"Žena\", \"Marketing\", 1650),\n",
    "    (\"Andrej\", 39, \"Bratislava\", \"andrej.a@example.com\", \"0901239876\", \"Muž\", \"Financie\", 2400),\n",
    "    (\"Jana\", 26, \"Prešov\", \"jana.j@example.com\", \"0910456789\", \"Žena\", \"HR\", 1550),\n",
    "    (\"Michal\", 34, \"Košice\", \"michal.k@example.com\", \"0906781234\", \"Muž\", \"IT\", 2150),\n",
    "    (\"Veronika\", 32, \"Žilina\", \"veronika.v@example.com\", \"0907345678\", \"Žena\", \"Financie\", 2250),\n",
    "    (\"Filip\", 40, \"Nitra\", \"filip.f@example.com\", \"0910678456\", \"Muž\", \"Strojárstvo\", 1850),\n",
    "    (\"Natália\", 27, \"Trenčín\", \"natalia.n@example.com\", \"0903456789\", \"Žena\", \"Marketing\", 1700),\n",
    "    (\"Roman\", 38, \"Bratislava\", \"roman.r@example.com\", \"0901123987\", \"Muž\", \"Logistika\", 2050),\n",
    "    (\"Barbora\", 30, \"Košice\", \"barbora.b@example.com\", \"0910112233\", \"Žena\", \"HR\", 1600),\n",
    "    (\"Martin\", 37, \"Prešov\", \"martin.m@example.com\", \"0903456677\", \"Muž\", \"IT\", 2100),\n",
    "    (\"Kristína\", 29, \"Žilina\", \"kristina.k@example.com\", \"0910345678\", \"Žena\", \"Marketing\", 1680),\n",
    "    (\"Róbert\", 41, \"Trnava\", \"robert.r@example.com\", \"0909776543\", \"Muž\", \"Financie\", 2350),\n",
    "    (\"Simona\", 35, \"Nitra\", \"simona.s@example.com\", \"0901234321\", \"Žena\", \"Strojárstvo\", 1750),\n",
    "    (\"Vladimír\", 44, \"Poprad\", \"vladimir.v@example.com\", \"0910987654\", \"Muž\", \"Logistika\", 2000),\n",
    "    (\"Petra\", 33, \"Bratislava\", \"petra.p@example.com\", \"0908765432\", \"Žena\", \"IT\", 2250),\n",
    "    (\"Richard\", 36, \"Košice\", \"richard.r@example.com\", \"0905234890\", \"Muž\", \"Marketing\", 1720),\n",
    "    (\"Alena\", 28, \"Prešov\", \"alena.a@example.com\", \"0910765432\", \"Žena\", \"HR\", 1580),\n",
    "    (\"Miloš\", 43, \"Žilina\", \"milos.m@example.com\", \"0903987654\", \"Muž\", \"Strojárstvo\", 1900),\n",
    "    (\"Lenka\", 30, \"Nitra\", \"lenka.l@example.com\", \"0910876543\", \"Žena\", \"Marketing\", 1650),\n",
    "    (\"Štefan\", 39, \"Bratislava\", \"stefan.s@example.com\", \"0903456781\", \"Muž\", \"Financie\", 2450),\n",
    "    (\"Nikola\", 31, \"Trenčín\", \"nikola.n@example.com\", \"0909234567\", \"Žena\", \"IT\", 2180),\n",
    "    (\"Daniel\", 42, \"Trnava\", \"daniel.d@example.com\", \"0910347856\", \"Muž\", \"Strojárstvo\", 1850),\n",
    "    (\"Laura\", 27, \"Prešov\", \"laura.l@example.com\", \"0903344567\", \"Žena\", \"HR\", 1570),\n",
    "    (\"Dominik\", 35, \"Košice\", \"dominik.d@example.com\", \"0910789765\", \"Muž\", \"Logistika\", 1980),\n",
    "    (\"Ema\", 29, \"Žilina\", \"ema.e@example.com\", \"0907654321\", \"Žena\", \"Marketing\", 1620),\n",
    "    (\"Patrik\", 38, \"Bratislava\", \"patrik.p@example.com\", \"0910234567\", \"Muž\", \"IT\", 2300),\n",
    "    (\"Bianka\", 32, \"Nitra\", \"bianka.b@example.com\", \"0908787654\", \"Žena\", \"Financie\", 2100),\n",
    "    (\"Adam\", 40, \"Poprad\", \"adam.a@example.com\", \"0909988771\", \"Muž\", \"Strojárstvo\", 1800),\n",
    "    (\"Lucia\", 26, \"Prešov\", \"lucia.l@example.com\", \"0910678956\", \"Žena\", \"HR\", 1500),\n",
    "    (\"Tomáš\", 34, \"Košice\", \"tomas.t@example.com\", \"0910345671\", \"Muž\", \"IT\", 2200),\n",
    "    (\"Michaela\", 30, \"Žilina\", \"michaela.m@example.com\", \"0909654321\", \"Žena\", \"Marketing\", 1690),\n",
    "    (\"Igor\", 39, \"Bratislava\", \"igor.i@example.com\", \"0901111222\", \"Muž\", \"Logistika\", 2060),\n",
    "    (\"Katarína\", 33, \"Nitra\", \"katarina.k@example.com\", \"0904332211\", \"Žena\", \"Financie\", 2140),\n",
    "    (\"Denis\", 37, \"Trenčín\", \"denis.d@example.com\", \"0910567890\", \"Muž\", \"Strojárstvo\", 1830),\n",
    "    (\"Tatiana\", 28, \"Košice\", \"tatiana.t@example.com\", \"0910876598\", \"Žena\", \"HR\", 1590),\n",
    "    (\"Erik\", 41, \"Prešov\", \"erik.e@example.com\", \"0904345678\", \"Muž\", \"Marketing\", 1670),\n",
    "    (\"Sandra\", 30, \"Bratislava\", \"sandra.s@example.com\", \"0910765433\", \"Žena\", \"IT\", 2210),\n",
    "    (\"Rastislav\", 36, \"Žilina\", \"rastislav.r@example.com\", \"0903981122\", \"Muž\", \"Financie\", 2280),\n",
    "    (\"Silvia\", 31, \"Nitra\", \"silvia.s@example.com\", \"0910555123\", \"Žena\", \"Marketing\", 1630),\n",
    "    (\"Branislav\", 44, \"Trnava\", \"branislav.b@example.com\", \"0910111999\", \"Muž\", \"Logistika\", 1960)\n",
    "]\n",
    "\n",
    "columns = [\"meno\", \"vek\", \"mesto\", \"email\", \"telefon\", \"pohlavie\", \"odbor\", \"mzda\"]\n",
    "\n",
    "df = spark.createDataFrame(data, columns)\n",
    "\n",
    "# Registrácia ako dočasnej SQL tabuľky\n",
    "df.createOrReplaceTempView(\"osoby\")\n",
    "\n",
    "# 🔍 SQL dopyt: Vyber osoby z Bratislavy, zoradené podľa veku zostupne\n",
    "result = spark.sql(\"\"\"\n",
    "    SELECT meno, vek, mesto\n",
    "    FROM osoby\n",
    "    WHERE mesto = 'Bratislava'\n",
    "    ORDER BY vek DESC\n",
    "\"\"\")\n",
    "\n",
    "# Zobrazenie výsledku\n",
    "result.show()"
   ],
   "execution_count":47,
   "outputs":[
    {
     "name":"stdout",
     "text":[
      "+------+---+----------+\n",
      "|  meno|vek|     mesto|\n",
      "+------+---+----------+\n",
      "|Andrej| 39|Bratislava|\n",
      "|Štefan| 39|Bratislava|\n",
      "|  Igor| 39|Bratislava|\n",
      "| Roman| 38|Bratislava|\n",
      "|Patrik| 38|Bratislava|\n",
      "| Marek| 33|Bratislava|\n",
      "| Petra| 33|Bratislava|\n",
      "|Sandra| 30|Bratislava|\n",
      "|  Anna| 30|Bratislava|\n",
      "+------+---+----------+\n",
      "\n"
     ],
     "output_type":"stream"
    }
   ],
   "metadata":{
    "datalore":{
     "node_id":"LN6nZWijz4FHODdtDkzDVe",
     "type":"CODE",
     "hide_input_from_viewers":true,
     "hide_output_from_viewers":true
    }
   }
  },
  {
   "cell_type":"markdown",
   "source":[
    "## 1️⃣b Asynchrónne pripojenie k MySQL \/ PostgreSQL pomocou `databases`\n",
    "**📌 Úloha:** Pripojiť sa k externej databáze MySQL alebo PostgreSQL a uložiť nový záznam.\n",
    "\n",
    "- Pomocou knižnice `databases` je možné realizovať neblokujúce I\/O operácie.\n",
    "- Vhodné pre výkonné API aplikácie vo FastAPI.\n",
    "\n",
    "**🔗 Dokumentácia:**\n",
    "- https:\/\/www.encode.io\/databases\/"
   ],
   "attachments":{},
   "metadata":{
    "datalore":{
     "node_id":"PPlN4BbCVKKMnBfrlsHonb",
     "type":"MD",
     "hide_input_from_viewers":true,
     "hide_output_from_viewers":true
    }
   }
  },
  {
   "cell_type":"code",
   "source":[
    "# Inštalácia: pip install databases[aiomysql] databases[asyncpg] sqlalchemy\n",
    "\n",
    "from sqlalchemy import MetaData, Table, Column, Integer, String, Float\n",
    "from databases import Database\n",
    "\n",
    "# Pripojenie na PostgreSQL\n",
    "# database = Database(\"postgresql+asyncpg:\/\/uzivatel:heslo@localhost\/db\")\n",
    "\n",
    "# Pripojenie na MySQL\n",
    "# database = Database(\"mysql+aiomysql:\/\/uzivatel:heslo@localhost\/db\")\n",
    "\n",
    "metadata = MetaData()\n",
    "\n",
    "kurzy = Table(\n",
    "    \"kurzy\",\n",
    "    metadata,\n",
    "    Column(\"id\", Integer, primary_key=True),\n",
    "    Column(\"nazov\", String(length=100)),\n",
    "    Column(\"cena\", Float)\n",
    ")"
   ],
   "execution_count":null,
   "outputs":[],
   "metadata":{
    "datalore":{
     "node_id":"erQm5J4uNmBuvj1HcXi23e",
     "type":"CODE",
     "hide_input_from_viewers":true,
     "hide_output_from_viewers":true
    }
   }
  },
  {
   "cell_type":"markdown",
   "source":[
    "## 4️⃣b Spúšťanie SQL dopytov na veľkých dátach\n",
    "**📌 Úloha:** Spustiť SQL dopyty nad väčším množstvom údajov (napr. 50+ riadkov, 8 stĺpcov) pomocou Spark SQL.\n",
    "\n",
    "- Cieľom je využiť výhody SQL syntaxe pri filtrovaní, triedení a agregácii dát.\n",
    "- Spark umožňuje vytvárať dočasné SQL tabuľky z DataFrame.\n",
    "- SQL dopyty môžu byť jednoduchšie a čitateľnejšie ako DataFrame API.\n",
    "\n",
    "**✅ Výstupom bude:**\n",
    "- Vytvorenie dočasnej tabuľky\n",
    "- Spustenie viacerých SQL dopytov (filter, groupBy, avg, orderBy)\n",
    "- Výpis výsledkov\n",
    "\n",
    "**🔗 Dokumentácia:**\n",
    "- https:\/\/spark.apache.org\/docs\/latest\/sql-programming-guide.html"
   ],
   "attachments":{},
   "metadata":{
    "datalore":{
     "node_id":"HIEG6OayoDAKigMZ0YE95N",
     "type":"MD",
     "hide_input_from_viewers":true,
     "hide_output_from_viewers":true
    }
   }
  },
  {
   "cell_type":"code",
   "source":[
    "from pyspark.sql import SparkSession\n",
    "\n",
    "# 🔧 Inicializácia SparkSession\n",
    "spark = SparkSession.builder.appName(\"SQL dopyty\").getOrCreate()\n",
    "\n",
    "# 📥 Testovacie dáta (50+ riadkov, 8 stĺpcov)\n",
    "data = [\n",
    "    (\"Anna\", 30, \"Bratislava\", \"anna@example.com\", \"0901123456\", \"Žena\", \"IT\", 2100),\n",
    "    (\"Ján\", 42, \"Košice\", \"jan.k@example.com\", \"0902987654\", \"Muž\", \"Strojárstvo\", 1800),\n",
    "    (\"Eva\", 25, \"Prešov\", \"eva.s@example.com\", \"0903123123\", \"Žena\", \"Marketing\", 1600),\n",
    "    (\"Marek\", 33, \"Bratislava\", \"marek.n@example.com\", \"0904123765\", \"Muž\", \"Finance\", 1900),\n",
    "    (\"Zuzana\", 28, \"Žilina\", \"zuzana.p@example.com\", \"0905321987\", \"Žena\", \"HR\", 1750),\n",
    "    (\"Tomáš\", 40, \"Trnava\", \"tomas.r@example.com\", \"0906987654\", \"Muž\", \"IT\", 2300),\n",
    "    (\"Lucia\", 31, \"Nitra\", \"lucia.b@example.com\", \"0902123123\", \"Žena\", \"Logistika\", 1700),\n",
    "    (\"Peter\", 45, \"Poprad\", \"peter.z@example.com\", \"0908765432\", \"Muž\", \"Obchod\", 1850),\n",
    "    (\"Barbora\", 27, \"Banská Bystrica\", \"barbora.j@example.com\", \"0904345678\", \"Žena\", \"IT\", 2000),\n",
    "    (\"Michal\", 29, \"Bratislava\", \"michal.d@example.com\", \"0903456123\", \"Muž\", \"Strojárstvo\", 1950),\n",
    "    (\"Veronika\", 34, \"Trenčín\", \"veronika.m@example.com\", \"0909789456\", \"Žena\", \"Marketing\", 1800),\n",
    "    (\"Roman\", 38, \"Košice\", \"roman.c@example.com\", \"0901144578\", \"Muž\", \"Finance\", 2200),\n",
    "    (\"Simona\", 26, \"Žilina\", \"simona.r@example.com\", \"0902876543\", \"Žena\", \"HR\", 1650),\n",
    "    (\"Juraj\", 37, \"Prešov\", \"juraj.k@example.com\", \"0903987123\", \"Muž\", \"IT\", 2400),\n",
    "    (\"Kristína\", 32, \"Trnava\", \"kristina.v@example.com\", \"0905123498\", \"Žena\", \"Logistika\", 1750),\n",
    "    (\"Martin\", 41, \"Poprad\", \"martin.s@example.com\", \"0906012345\", \"Muž\", \"Obchod\", 1950),\n",
    "    (\"Jana\", 29, \"Bratislava\", \"jana.h@example.com\", \"0907876543\", \"Žena\", \"IT\", 2150),\n",
    "    (\"Andrej\", 36, \"Nitra\", \"andrej.l@example.com\", \"0901432567\", \"Muž\", \"Strojárstvo\", 1800),\n",
    "    (\"Silvia\", 33, \"Banská Bystrica\", \"silvia.m@example.com\", \"0903678456\", \"Žena\", \"Marketing\", 1900),\n",
    "    (\"Róbert\", 39, \"Trenčín\", \"robert.t@example.com\", \"0904987123\", \"Muž\", \"Finance\", 2100),\n",
    "    (\"Michaela\", 35, \"Košice\", \"michaela.b@example.com\", \"0902654987\", \"Žena\", \"HR\", 1850),\n",
    "    (\"Patrik\", 28, \"Prešov\", \"patrik.f@example.com\", \"0903124987\", \"Muž\", \"IT\", 2250),\n",
    "    (\"Lenka\", 30, \"Žilina\", \"lenka.n@example.com\", \"0904345876\", \"Žena\", \"Logistika\", 1700),\n",
    "    (\"Dušan\", 43, \"Poprad\", \"dusan.r@example.com\", \"0906543872\", \"Muž\", \"Obchod\", 1800),\n",
    "    (\"Nikola\", 26, \"Trnava\", \"nikola.z@example.com\", \"0905467832\", \"Žena\", \"IT\", 2000),\n",
    "    (\"Adam\", 31, \"Bratislava\", \"adam.d@example.com\", \"0909981234\", \"Muž\", \"Strojárstvo\", 1900),\n",
    "    (\"Petra\", 27, \"Nitra\", \"petra.k@example.com\", \"0907896543\", \"Žena\", \"Marketing\", 1600),\n",
    "    (\"Daniel\", 34, \"Banská Bystrica\", \"daniel.m@example.com\", \"0903123478\", \"Muž\", \"Finance\", 2100),\n",
    "    (\"Zita\", 39, \"Trenčín\", \"zita.s@example.com\", \"0904987211\", \"Žena\", \"HR\", 1750),\n",
    "    (\"Filip\", 29, \"Košice\", \"filip.j@example.com\", \"0901234999\", \"Muž\", \"IT\", 2350),\n",
    "    (\"Lucia\", 38, \"Prešov\", \"lucia.v@example.com\", \"0903456128\", \"Žena\", \"Logistika\", 1800),\n",
    "    (\"Milan\", 33, \"Žilina\", \"milan.c@example.com\", \"0903456712\", \"Muž\", \"Obchod\", 1900),\n",
    "    (\"Ivana\", 36, \"Bratislava\", \"ivana.r@example.com\", \"0907654982\", \"Žena\", \"IT\", 2100),\n",
    "    (\"Richard\", 40, \"Poprad\", \"richard.f@example.com\", \"0908765123\", \"Muž\", \"Strojárstvo\", 1850),\n",
    "    (\"Tatiana\", 28, \"Trnava\", \"tatiana.b@example.com\", \"0902567984\", \"Žena\", \"Marketing\", 1750),\n",
    "    (\"Viktor\", 35, \"Nitra\", \"viktor.l@example.com\", \"0904532165\", \"Muž\", \"Finance\", 2050),\n",
    "    (\"Monika\", 31, \"Košice\", \"monika.p@example.com\", \"0903214567\", \"Žena\", \"HR\", 1700),\n",
    "    (\"Erik\", 44, \"Prešov\", \"erik.z@example.com\", \"0908764321\", \"Muž\", \"IT\", 2400),\n",
    "    (\"Renáta\", 30, \"Banská Bystrica\", \"renata.k@example.com\", \"0905543212\", \"Žena\", \"Logistika\", 1800),\n",
    "    (\"Štefan\", 38, \"Trenčín\", \"stefan.d@example.com\", \"0907765432\", \"Muž\", \"Obchod\", 1950),\n",
    "    (\"Nina\", 27, \"Bratislava\", \"nina.s@example.com\", \"0903221112\", \"Žena\", \"IT\", 2250),\n",
    "    (\"Tomáš\", 34, \"Poprad\", \"tomas.f@example.com\", \"0909090987\", \"Muž\", \"Strojárstvo\", 1900),\n",
    "    (\"Alena\", 32, \"Žilina\", \"alena.g@example.com\", \"0901876543\", \"Žena\", \"Marketing\", 1650),\n",
    "    (\"Dominik\", 29, \"Trnava\", \"dominik.h@example.com\", \"0905432198\", \"Muž\", \"Finance\", 2000),\n",
    "    (\"Karolína\", 37, \"Nitra\", \"karolina.w@example.com\", \"0902123999\", \"Žena\", \"HR\", 1750),\n",
    "    (\"Stanislav\", 30, \"Košice\", \"stanislav.a@example.com\", \"0902789456\", \"Muž\", \"IT\", 2150),\n",
    "    (\"Ema\", 31, \"Prešov\", \"ema.l@example.com\", \"0906654321\", \"Žena\", \"Logistika\", 1700),\n",
    "    (\"Branislav\", 40, \"Bratislava\", \"branislav.v@example.com\", \"0907876541\", \"Muž\", \"Obchod\", 1850),\n",
    "    (\"Kristína\", 33, \"Banská Bystrica\", \"kristina.b@example.com\", \"0904345998\", \"Žena\", \"IT\", 2050),\n",
    "    (\"Rastislav\", 36, \"Trenčín\", \"rastislav.p@example.com\", \"0905432765\", \"Muž\", \"Strojárstvo\", 1800),\n",
    "    (\"Sandra\", 28, \"Nitra\", \"sandra.x@example.com\", \"0906123987\", \"Žena\", \"Marketing\", 1600)\n",
    "]\n",
    "\n",
    "columns = [\"meno\", \"vek\", \"mesto\", \"email\", \"telefon\", \"pohlavie\", \"odbor\", \"mzda\"]\n",
    "\n",
    "\n",
    "# 🔨 Vytvorenie DataFrame a registrácia ako SQL tabuľky\n",
    "df = spark.createDataFrame(data, columns)\n",
    "df.createOrReplaceTempView(\"osoby\")\n",
    "\n",
    "# 🧮 1. Priemer mzdy podľa mesta\n",
    "df1 = spark.sql(\"\"\"\n",
    "    SELECT mesto, ROUND(AVG(mzda), 2) AS priemerna_mzda\n",
    "    FROM osoby\n",
    "    GROUP BY mesto\n",
    "    ORDER BY priemerna_mzda DESC\n",
    "\"\"\")\n",
    "df1.show()\n",
    "\n",
    "# 🔍 2. Zoznam ľudí z Bratislavy v odbore IT\n",
    "df2 = spark.sql(\"\"\"\n",
    "    SELECT meno, vek, mzda\n",
    "    FROM osoby\n",
    "    WHERE mesto = 'Bratislava' AND odbor = 'IT'\n",
    "    ORDER BY mzda DESC\n",
    "\"\"\")\n",
    "df2.show()\n",
    "\n",
    "# 📊 3. Počet ľudí podľa pohlavia a odboru\n",
    "df3 = spark.sql(\"\"\"\n",
    "    SELECT pohlavie, odbor, COUNT(*) AS pocet\n",
    "    FROM osoby\n",
    "    GROUP BY pohlavie, odbor\n",
    "    ORDER BY pocet DESC\n",
    "\"\"\")\n",
    "df3.show()"
   ],
   "execution_count":49,
   "outputs":[
    {
     "name":"stdout",
     "text":[
      "+---------------+--------------+\n",
      "|          mesto|priemerna_mzda|\n",
      "+---------------+--------------+\n",
      "|     Bratislava|        2025.0|\n",
      "|         Prešov|        2025.0|\n",
      "|         Košice|       2008.33|\n",
      "|Banská Bystrica|        1970.0|\n",
      "|         Trnava|        1960.0|\n",
      "|        Trenčín|        1880.0|\n",
      "|         Poprad|        1870.0|\n",
      "|          Nitra|        1750.0|\n",
      "|         Žilina|        1730.0|\n",
      "+---------------+--------------+\n",
      "\n",
      "+-----+---+----+\n",
      "| meno|vek|mzda|\n",
      "+-----+---+----+\n",
      "| Nina| 27|2250|\n",
      "| Jana| 29|2150|\n",
      "|Ivana| 36|2100|\n",
      "| Anna| 30|2100|\n",
      "+-----+---+----+\n",
      "\n",
      "+--------+-----------+-----+\n",
      "|pohlavie|      odbor|pocet|\n",
      "+--------+-----------+-----+\n",
      "|    Žena|  Marketing|    7|\n",
      "|    Žena|         IT|    7|\n",
      "|     Muž|Strojárstvo|    7|\n",
      "|     Muž|    Finance|    6|\n",
      "|     Muž|     Obchod|    6|\n",
      "|    Žena|         HR|    6|\n",
      "|    Žena|  Logistika|    6|\n",
      "|     Muž|         IT|    6|\n",
      "+--------+-----------+-----+\n",
      "\n"
     ],
     "output_type":"stream"
    }
   ],
   "metadata":{
    "datalore":{
     "node_id":"c8Mbi9iCoYSqCWQM2gHgil",
     "type":"CODE",
     "hide_input_from_viewers":true,
     "hide_output_from_viewers":true
    }
   }
  },
  {
   "cell_type":"markdown",
   "source":[
    "## 4️⃣c Pokročilé SQL dopyty v Spark SQL\n",
    "**📌 Úloha:** Vyskúšať rôzne SQL dopyty nad veľkou tabuľkou osoby, ktorú sme predtým vytvorili.\n",
    "\n",
    "- Vyhľadávanie podľa podmienok\n",
    "- Agregácie podľa kategórií\n",
    "- Triedenie a obmedzenie výsledkov\n",
    "- Skupinové výpočty\n",
    "\n",
    "✅ Výstupom bude:\n",
    "- Zoznam dotazov s rôznymi typmi operácií (kde, group by, order by, like, limit)\n",
    "- Výsledky zobrazené cez .show()\n",
    "\n",
    "**🔗 Dokumentácia:**\n",
    "- https:\/\/spark.apache.org\/docs\/latest\/sql-ref-syntax.html"
   ],
   "attachments":{},
   "metadata":{
    "datalore":{
     "node_id":"r8UlqZda9ti40neix46WDA",
     "type":"MD",
     "hide_input_from_viewers":true,
     "hide_output_from_viewers":true
    }
   }
  },
  {
   "cell_type":"code",
   "source":[
    "# Vybrať osoby s mzdou vyššou ako 2000 €\n",
    "\n",
    "spark.sql(\"\"\"\n",
    "    SELECT meno, mzda \n",
    "    FROM osoby \n",
    "    WHERE mzda > 2000\n",
    "\"\"\").show()"
   ],
   "execution_count":50,
   "outputs":[
    {
     "name":"stdout",
     "text":[
      "+---------+----+\n",
      "|     meno|mzda|\n",
      "+---------+----+\n",
      "|     Anna|2100|\n",
      "|    Tomáš|2300|\n",
      "|    Roman|2200|\n",
      "|    Juraj|2400|\n",
      "|     Jana|2150|\n",
      "|   Róbert|2100|\n",
      "|   Patrik|2250|\n",
      "|   Daniel|2100|\n",
      "|    Filip|2350|\n",
      "|    Ivana|2100|\n",
      "|   Viktor|2050|\n",
      "|     Erik|2400|\n",
      "|     Nina|2250|\n",
      "|Stanislav|2150|\n",
      "| Kristína|2050|\n",
      "+---------+----+\n",
      "\n"
     ],
     "output_type":"stream"
    }
   ],
   "metadata":{
    "datalore":{
     "node_id":"7wvh9n5bJ0wK6v6wp3tF7r",
     "type":"CODE",
     "hide_input_from_viewers":true,
     "hide_output_from_viewers":true
    }
   }
  },
  {
   "cell_type":"code",
   "source":[
    "# Priemerná mzda podľa pohlavia\n",
    "spark.sql(\"\"\"\n",
    "    SELECT pohlavie, ROUND(AVG(mzda), 2) AS priemerna_mzda\n",
    "    FROM osoby\n",
    "    GROUP BY pohlavie\n",
    "\"\"\").show()"
   ],
   "execution_count":51,
   "outputs":[
    {
     "name":"stdout",
     "text":[
      "+--------+--------------+\n",
      "|pohlavie|priemerna_mzda|\n",
      "+--------+--------------+\n",
      "|    Žena|        1825.0|\n",
      "|     Muž|        2020.0|\n",
      "+--------+--------------+\n",
      "\n"
     ],
     "output_type":"stream"
    }
   ],
   "metadata":{
    "datalore":{
     "node_id":"mKen569ON5riPNd8FTJH0Q",
     "type":"CODE",
     "hide_input_from_viewers":true,
     "hide_output_from_viewers":true
    }
   }
  },
  {
   "cell_type":"code",
   "source":[
    "# Počet ľudí v každom meste\n",
    "spark.sql(\"\"\"\n",
    "    SELECT mesto, COUNT(*) AS pocet\n",
    "    FROM osoby\n",
    "    GROUP BY mesto\n",
    "    ORDER BY pocet DESC\n",
    "\"\"\").show()"
   ],
   "execution_count":52,
   "outputs":[
    {
     "name":"stdout",
     "text":[
      "+---------------+-----+\n",
      "|          mesto|pocet|\n",
      "+---------------+-----+\n",
      "|     Bratislava|    8|\n",
      "|         Košice|    6|\n",
      "|          Nitra|    6|\n",
      "|         Prešov|    6|\n",
      "|Banská Bystrica|    5|\n",
      "|         Trnava|    5|\n",
      "|        Trenčín|    5|\n",
      "|         Poprad|    5|\n",
      "|         Žilina|    5|\n",
      "+---------------+-----+\n",
      "\n"
     ],
     "output_type":"stream"
    }
   ],
   "metadata":{
    "datalore":{
     "node_id":"lVdlaxxBGeFPLMy3wGfy7B",
     "type":"CODE",
     "hide_input_from_viewers":true,
     "hide_output_from_viewers":true
    }
   }
  },
  {
   "cell_type":"code",
   "source":[
    "# Mzda podľa odboru (iba ak viac ako 3 zamestnanci v odbore)\n",
    "spark.sql(\"\"\"\n",
    "    SELECT odbor, ROUND(AVG(mzda), 2) AS priemerna_mzda, COUNT(*) AS pocet\n",
    "    FROM osoby\n",
    "    GROUP BY odbor\n",
    "    HAVING COUNT(*) > 3\n",
    "    ORDER BY priemerna_mzda DESC\n",
    "\"\"\").show()"
   ],
   "execution_count":53,
   "outputs":[
    {
     "name":"stdout",
     "text":[
      "+-----------+--------------+-----+\n",
      "|      odbor|priemerna_mzda|pocet|\n",
      "+-----------+--------------+-----+\n",
      "|         IT|       2192.31|   13|\n",
      "|    Finance|       2058.33|    6|\n",
      "|     Obchod|       1883.33|    6|\n",
      "|Strojárstvo|       1857.14|    7|\n",
      "|  Logistika|       1741.67|    6|\n",
      "|         HR|       1741.67|    6|\n",
      "|  Marketing|        1700.0|    7|\n",
      "+-----------+--------------+-----+\n",
      "\n"
     ],
     "output_type":"stream"
    }
   ],
   "metadata":{
    "datalore":{
     "node_id":"nECyL2Os7YEOgr03gCDZgK",
     "type":"CODE",
     "hide_input_from_viewers":true,
     "hide_output_from_viewers":true
    }
   }
  },
  {
   "cell_type":"code",
   "source":[
    "# Vyhľadávanie podľa mena (LIKE)\n",
    "spark.sql(\"\"\"\n",
    "    SELECT * \n",
    "    FROM osoby \n",
    "    WHERE meno LIKE 'J%'\n",
    "\"\"\").show()"
   ],
   "execution_count":54,
   "outputs":[
    {
     "name":"stdout",
     "text":[
      "+-----+---+----------+-------------------+----------+--------+-----------+----+\n",
      "| meno|vek|     mesto|              email|   telefon|pohlavie|      odbor|mzda|\n",
      "+-----+---+----------+-------------------+----------+--------+-----------+----+\n",
      "|  Ján| 42|    Košice|  jan.k@example.com|0902987654|     Muž|Strojárstvo|1800|\n",
      "|Juraj| 37|    Prešov|juraj.k@example.com|0903987123|     Muž|         IT|2400|\n",
      "| Jana| 29|Bratislava| jana.h@example.com|0907876543|    Žena|         IT|2150|\n",
      "+-----+---+----------+-------------------+----------+--------+-----------+----+\n",
      "\n"
     ],
     "output_type":"stream"
    }
   ],
   "metadata":{
    "datalore":{
     "node_id":"k1N36sHfjITQhBNPV7lAdj",
     "type":"CODE",
     "hide_input_from_viewers":true,
     "hide_output_from_viewers":true
    }
   }
  },
  {
   "cell_type":"code",
   "source":[
    "# Top 5 najlepšie platených zamestnancov\n",
    "spark.sql(\"\"\"\n",
    "    SELECT meno, mzda \n",
    "    FROM osoby \n",
    "    ORDER BY mzda DESC \n",
    "    LIMIT 5\n",
    "\"\"\").show()"
   ],
   "execution_count":55,
   "outputs":[
    {
     "name":"stdout",
     "text":[
      "+-----+----+\n",
      "| meno|mzda|\n",
      "+-----+----+\n",
      "| Erik|2400|\n",
      "|Juraj|2400|\n",
      "|Filip|2350|\n",
      "|Tomáš|2300|\n",
      "| Nina|2250|\n",
      "+-----+----+\n",
      "\n"
     ],
     "output_type":"stream"
    }
   ],
   "metadata":{
    "datalore":{
     "node_id":"8IaevWgqE2ZW938iqG5BCa",
     "type":"CODE",
     "hide_input_from_viewers":true,
     "hide_output_from_viewers":true
    }
   }
  },
  {
   "cell_type":"code",
   "source":[
    "# Vytvorenie druhej tabuľky projekty\n",
    "data_projekty = [\n",
    "    (\"Anna\", \"Projekt A\", \"2024-01-15\"),\n",
    "    (\"Ján\", \"Projekt B\", \"2023-11-10\"),\n",
    "    (\"Eva\", \"Projekt C\", \"2024-02-20\"),\n",
    "    (\"Marek\", \"Projekt D\", \"2024-03-05\"),\n",
    "    (\"Zuzana\", \"Projekt E\", \"2023-09-01\"),\n",
    "    (\"Marek\", \"Projekt F\", \"2024-05-01\")\n",
    "]\n",
    "\n",
    "columns_projekty = [\"meno\", \"nazov_projektu\", \"datum_startu\"]\n",
    "\n",
    "df_projekty = spark.createDataFrame(data_projekty, columns_projekty)\n",
    "df_projekty.createOrReplaceTempView(\"projekty\")\n",
    "\n",
    "df_projekty"
   ],
   "execution_count":57,
   "outputs":[
    {
     "data":{
      "text\/plain":[
       "DataFrame[meno: string, nazov_projektu: string, datum_startu: string]"
      ]
     },
     "metadata":{},
     "output_type":"display_data"
    }
   ],
   "metadata":{
    "datalore":{
     "node_id":"83WIjV2vR9RAnLNIYH2qrC",
     "type":"CODE",
     "hide_input_from_viewers":true,
     "hide_output_from_viewers":true
    }
   }
  },
  {
   "cell_type":"code",
   "source":[
    "# INNER JOIN – len osoby, ktoré majú projekt\n",
    "spark.sql(\"\"\"\n",
    "    SELECT o.meno, o.mesto, p.nazov_projektu, p.datum_startu\n",
    "    FROM osoby o\n",
    "    INNER JOIN projekty p ON o.meno = p.meno\n",
    "\"\"\").show()"
   ],
   "execution_count":58,
   "outputs":[
    {
     "name":"stdout",
     "text":[
      "+------+----------+--------------+------------+\n",
      "|  meno|     mesto|nazov_projektu|datum_startu|\n",
      "+------+----------+--------------+------------+\n",
      "|   Eva|    Prešov|     Projekt C|  2024-02-20|\n",
      "|  Anna|Bratislava|     Projekt A|  2024-01-15|\n",
      "|   Ján|    Košice|     Projekt B|  2023-11-10|\n",
      "|Zuzana|    Žilina|     Projekt E|  2023-09-01|\n",
      "| Marek|Bratislava|     Projekt D|  2024-03-05|\n",
      "| Marek|Bratislava|     Projekt F|  2024-05-01|\n",
      "+------+----------+--------------+------------+\n",
      "\n"
     ],
     "output_type":"stream"
    }
   ],
   "metadata":{
    "datalore":{
     "node_id":"UT0G2yJU8Ik7XD4oUrBAK3",
     "type":"CODE",
     "hide_input_from_viewers":true,
     "hide_output_from_viewers":true
    }
   }
  },
  {
   "cell_type":"code",
   "source":[
    "# LEFT JOIN – všetky osoby, aj tie bez projektu\n",
    "spark.sql(\"\"\"\n",
    "    SELECT o.meno, o.mesto, p.nazov_projektu, p.datum_startu\n",
    "    FROM osoby o\n",
    "    LEFT JOIN projekty p ON o.meno = p.meno\n",
    "\"\"\").show()"
   ],
   "execution_count":59,
   "outputs":[
    {
     "name":"stdout",
     "text":[
      "+--------+---------------+--------------+------------+\n",
      "|    meno|          mesto|nazov_projektu|datum_startu|\n",
      "+--------+---------------+--------------+------------+\n",
      "|Michaela|         Košice|          NULL|        NULL|\n",
      "|  Simona|         Žilina|          NULL|        NULL|\n",
      "|     Eva|         Prešov|     Projekt C|  2024-02-20|\n",
      "| Barbora|Banská Bystrica|          NULL|        NULL|\n",
      "|Veronika|        Trenčín|          NULL|        NULL|\n",
      "|  Róbert|        Trenčín|          NULL|        NULL|\n",
      "|  Michal|     Bratislava|          NULL|        NULL|\n",
      "|  Martin|         Poprad|          NULL|        NULL|\n",
      "|    Anna|     Bratislava|     Projekt A|  2024-01-15|\n",
      "|  Silvia|Banská Bystrica|          NULL|        NULL|\n",
      "|  Zuzana|         Žilina|     Projekt E|  2023-09-01|\n",
      "|   Juraj|         Prešov|          NULL|        NULL|\n",
      "|   Marek|     Bratislava|     Projekt F|  2024-05-01|\n",
      "|   Marek|     Bratislava|     Projekt D|  2024-03-05|\n",
      "|Kristína|         Trnava|          NULL|        NULL|\n",
      "|  Andrej|          Nitra|          NULL|        NULL|\n",
      "|   Lucia|          Nitra|          NULL|        NULL|\n",
      "|    Jana|     Bratislava|          NULL|        NULL|\n",
      "|   Roman|         Košice|          NULL|        NULL|\n",
      "|   Tomáš|         Trnava|          NULL|        NULL|\n",
      "+--------+---------------+--------------+------------+\n",
      "only showing top 20 rows\n",
      "\n"
     ],
     "output_type":"stream"
    }
   ],
   "metadata":{
    "datalore":{
     "node_id":"ZcJOF4AWwmA5Obd6eUxo1G",
     "type":"CODE",
     "hide_input_from_viewers":true,
     "hide_output_from_viewers":true
    }
   }
  },
  {
   "cell_type":"code",
   "source":[
    "# Počet projektov na osobu\n",
    "spark.sql(\"\"\"\n",
    "    SELECT p.meno, COUNT(*) AS pocet_projektov\n",
    "    FROM projekty p\n",
    "    GROUP BY p.meno\n",
    "\"\"\").show()"
   ],
   "execution_count":60,
   "outputs":[
    {
     "name":"stdout",
     "text":[
      "+------+---------------+\n",
      "|  meno|pocet_projektov|\n",
      "+------+---------------+\n",
      "|   Eva|              1|\n",
      "|  Anna|              1|\n",
      "|   Ján|              1|\n",
      "|Zuzana|              1|\n",
      "| Marek|              2|\n",
      "+------+---------------+\n",
      "\n"
     ],
     "output_type":"stream"
    }
   ],
   "metadata":{
    "datalore":{
     "node_id":"rG8xpLJcFAPIyIAMVy8UKT",
     "type":"CODE",
     "hide_input_from_viewers":true,
     "hide_output_from_viewers":true
    }
   }
  },
  {
   "cell_type":"code",
   "source":[
    "# RIGHT JOIN – všetky projekty, aj bez zhody v osobe\n",
    "spark.sql(\"\"\"\n",
    "    SELECT o.meno, o.mesto, p.nazov_projektu, p.datum_startu\n",
    "    FROM osoby o\n",
    "    RIGHT JOIN projekty p ON o.meno = p.meno\n",
    "\"\"\").show()"
   ],
   "execution_count":61,
   "outputs":[
    {
     "name":"stdout",
     "text":[
      "+------+----------+--------------+------------+\n",
      "|  meno|     mesto|nazov_projektu|datum_startu|\n",
      "+------+----------+--------------+------------+\n",
      "|   Eva|    Prešov|     Projekt C|  2024-02-20|\n",
      "|  Anna|Bratislava|     Projekt A|  2024-01-15|\n",
      "|   Ján|    Košice|     Projekt B|  2023-11-10|\n",
      "|Zuzana|    Žilina|     Projekt E|  2023-09-01|\n",
      "| Marek|Bratislava|     Projekt D|  2024-03-05|\n",
      "| Marek|Bratislava|     Projekt F|  2024-05-01|\n",
      "+------+----------+--------------+------------+\n",
      "\n"
     ],
     "output_type":"stream"
    }
   ],
   "metadata":{
    "datalore":{
     "node_id":"TDYgADRAeStBsxYnMp91QY",
     "type":"CODE",
     "hide_input_from_viewers":true,
     "hide_output_from_viewers":true
    }
   }
  },
  {
   "cell_type":"markdown",
   "source":[
    "## 4️⃣f Uloženie výsledkov SQL dopytu\n",
    "**📌 Úloha:** Uložiť výsledky SQL dotazu ako:\n",
    "\n",
    "- Novú dočasnú alebo trvalú tabuľku (ak používate Hive\/Spark catalog)\n",
    "- CSV súbor do súborového systému (lokálne\/HDFS)\n",
    "\n",
    "**✅ Výstupom bude:**\n",
    "- Vytvorenie novej tabuľky vysledok_join\n",
    "- Export do CSV so záhlavím\n",
    "\n",
    "**🔗 Dokumentácia:**\n",
    "- https:\/\/spark.apache.org\/docs\/latest\/sql-data-sources-csv.html\n",
    "- https:\/\/spark.apache.org\/docs\/latest\/sql-ref-syntax-ddl-create-table.html"
   ],
   "attachments":{},
   "metadata":{
    "datalore":{
     "node_id":"fCwkiJQbX5ij4hTltd1O7r",
     "type":"MD",
     "hide_input_from_viewers":true,
     "hide_output_from_viewers":true
    }
   }
  },
  {
   "cell_type":"code",
   "source":[
    "# Uloženie výsledkov ako nová tabuľka\n",
    "\n",
    "# vytvorenie DataFrame z JOIN dopytu\n",
    "vysledok_join_df = spark.sql(\"\"\"\n",
    "    SELECT o.meno, o.mesto, p.nazov_projektu, p.datum_startu\n",
    "    FROM osoby o\n",
    "    RIGHT JOIN projekty p ON o.meno = p.meno\n",
    "\"\"\")\n",
    "\n",
    "# registrácia ako dočasná alebo trvalá SQL tabuľka\n",
    "vysledok_join_df.createOrReplaceTempView(\"vysledok_join\")\n",
    "# ak používate katalóg s podporou ukladania, možno použiť aj saveAsTable(\"vysledok_join\")"
   ],
   "execution_count":62,
   "outputs":[],
   "metadata":{
    "datalore":{
     "node_id":"6gHUpI94aE5OHGY8XWSZAH",
     "type":"CODE",
     "hide_input_from_viewers":true,
     "hide_output_from_viewers":true
    }
   }
  },
  {
   "cell_type":"code",
   "source":[
    "# Uloženie výsledkov ako CSV súbor\n",
    "# Zapisuje sa do podpriečinkov vystup\/vysledok_join_csv\/part-*.csv – Spark rozdeľuje dáta paralelne.\n",
    "vysledok_join_df.write\\\n",
    "    .option(\"header\", True)\\\n",
    "    .mode(\"overwrite\")\\\n",
    "    .csv(\"vystup\/vysledok_join_csv\")\n"
   ],
   "execution_count":65,
   "outputs":[],
   "metadata":{
    "datalore":{
     "node_id":"uu3u8yopEYq7a1oYSvaVXL",
     "type":"CODE",
     "hide_input_from_viewers":true,
     "hide_output_from_viewers":true
    }
   }
  },
  {
   "cell_type":"markdown",
   "source":[
    "## 4️⃣g Uloženie výsledkov do JSON a Parquet\n",
    "**📌 Úloha:** Exportovať výstup SQL dopytu do formátov JSON a Parquet.\n",
    "\n",
    "**✅ Výstupom bude:**\n",
    "- Výpis do adresára ako JSON\n",
    "- Výpis do adresára ako Parquet (optimalizovaný binárny formát)\n",
    "\n",
    "**🔗 Dokumentácia:**\n",
    "- https:\/\/spark.apache.org\/docs\/latest\/sql-data-sources-json.html\n",
    "- https:\/\/spark.apache.org\/docs\/latest\/sql-data-sources-parquet.html"
   ],
   "attachments":{},
   "metadata":{
    "datalore":{
     "node_id":"j9x8dTz5dKP0rjm9JvIhSx",
     "type":"MD",
     "hide_input_from_viewers":true,
     "hide_output_from_viewers":true
    }
   }
  },
  {
   "cell_type":"code",
   "source":[
    "# Uloženie výsledkov ako JSON\n",
    "# Výsledok bude uložený ako množina .json súborov v zložke vystup\/vysledok_join_json.\n",
    "\n",
    "vysledok_join_df.write\\\n",
    "    .option(\"multiline\", True)\\\n",
    "    .mode(\"overwrite\")\\\n",
    "    .json(\"vystup\/vysledok_join_json\")"
   ],
   "execution_count":66,
   "outputs":[],
   "metadata":{
    "datalore":{
     "node_id":"GWmOMdmvovuTy09yJVrxhH",
     "type":"CODE",
     "hide_input_from_viewers":true,
     "hide_output_from_viewers":true
    }
   }
  },
  {
   "cell_type":"code",
   "source":[
    "# Uloženie výsledkov ako Parquet\n",
    "# Parquet je vysoko komprimovaný a efektívny pre analytické úlohy.\n",
    "vysledok_join_df.write\\\n",
    "    .mode(\"overwrite\")\\\n",
    "    .parquet(\"vystup\/vysledok_join_parquet\")"
   ],
   "execution_count":67,
   "outputs":[
    {
     "name":"stderr",
     "text":[
      "\r[Stage 203:>                                                        (0 + 1) \/ 1]\r\r                                                                                \r"
     ],
     "output_type":"stream"
    }
   ],
   "metadata":{
    "datalore":{
     "node_id":"LlW3J0cNI4ohkz5imfR9g0",
     "type":"CODE",
     "hide_input_from_viewers":true,
     "hide_output_from_viewers":true
    }
   }
  },
  {
   "cell_type":"code",
   "source":[
    "# Pre opakované čítanie možno použiť:\n",
    "# načítanie JSON\n",
    "df_json = spark.read.json(\"vystup\/vysledok_join_json\")\n",
    "\n",
    "# načítanie Parquet\n",
    "df_parquet = spark.read.parquet(\"vystup\/vysledok_join_parquet\")\n",
    "df_parquet"
   ],
   "execution_count":68,
   "outputs":[
    {
     "data":{
      "text\/plain":[
       "DataFrame[meno: string, mesto: string, nazov_projektu: string, datum_startu: string]"
      ]
     },
     "metadata":{},
     "output_type":"display_data"
    }
   ],
   "metadata":{
    "datalore":{
     "node_id":"gZKG7hOff03XzQC19bi6Jz",
     "type":"CODE",
     "hide_input_from_viewers":true,
     "hide_output_from_viewers":true
    }
   }
  },
  {
   "cell_type":"markdown",
   "source":[
    "## 4️⃣h Uloženie Spark DataFrame do Excelu\n",
    "**📌 Úloha:** Exportovať výsledný Spark DataFrame do Excel súboru pomocou Pandas.\n",
    "\n",
    "**✅ Výstupom bude:**\n",
    "- Súbor vysledok_join.xlsx vo vašom pracovnom adresári.\n",
    "\n",
    "**🔗 Dokumentácia:**\n",
    "- https:\/\/pandas.pydata.org\/docs\/reference\/api\/pandas.DataFrame.to_excel.html\n",
    "- https:\/\/spark.apache.org\/docs\/latest\/api\/python\/reference\/api\/pyspark.sql.DataFrame.toPandas.html"
   ],
   "attachments":{},
   "metadata":{
    "datalore":{
     "node_id":"kPJtrZfkQDvvqFxuGgepmB",
     "type":"MD",
     "hide_input_from_viewers":true,
     "hide_output_from_viewers":true
    }
   }
  },
  {
   "cell_type":"code",
   "source":[
    "#!pip install openpyxl\n",
    "# Uloženie do Excelu pomocou pandas\n",
    "import pandas as pd\n",
    "import openpyxl\n",
    "\n",
    "# Konverzia Spark DataFrame na Pandas DataFrame\n",
    "pandas_df = vysledok_join_df.toPandas()\n",
    "\n",
    "# Uloženie do Excelu\n",
    "pandas_df.to_excel(\"vystup\/vysledok_join.xlsx\", index=False, engine='openpyxl')"
   ],
   "execution_count":72,
   "outputs":[],
   "metadata":{
    "datalore":{
     "node_id":"NPFc2vhIPeEtTs8wl9l8ik",
     "type":"CODE",
     "hide_input_from_viewers":true,
     "hide_output_from_viewers":true
    }
   }
  },
  {
   "cell_type":"markdown",
   "source":[
    "## 4️⃣i Načítanie údajov z Excelu späť do Spark DataFrame\n",
    "**📌 Úloha:** Importovať údaje zo súboru vysledok_join.xlsx do Spark DataFrame.\n",
    "\n",
    "**✅ Výstupom bude:**\n",
    "- Nový Spark DataFrame novy_df načítaný zo súboru Excel\n",
    "- Zobrazenie jeho schémy a obsahu\n",
    "\n",
    "**🔗 Dokumentácia:**\n",
    "- https:\/\/pandas.pydata.org\/docs\/reference\/api\/pandas.read_excel.html\n",
    "- https:\/\/spark.apache.org\/docs\/latest\/api\/python\/reference\/api\/pyspark.sql.SparkSession.createDataFrame.html"
   ],
   "attachments":{},
   "metadata":{
    "datalore":{
     "node_id":"mtuXwdRU83nrj8VPoTTOQE",
     "type":"MD",
     "hide_input_from_viewers":true,
     "hide_output_from_viewers":true
    }
   }
  },
  {
   "cell_type":"code",
   "source":[
    "#  Tento prístup je vhodný pre menšie až stredne veľké dáta (napr. < 1 milión riadkov), pretože toPandas() aj createDataFrame() prenášajú dáta medzi Spark a Pandas (driver pamäť).\n",
    "\n",
    "import pandas as pd\n",
    "\n",
    "# Načítanie údajov z Excelu do pandas DataFrame\n",
    "df_excel = pd.read_excel(\"vystup\/vysledok_join.xlsx\", engine='openpyxl')\n",
    "\n",
    "# Konverzia pandas DataFrame do Spark DataFrame\n",
    "novy_df = spark.createDataFrame(df_excel)\n",
    "\n",
    "# Zobrazenie schémy a dát\n",
    "novy_df.printSchema()\n",
    "novy_df.show(5)"
   ],
   "execution_count":73,
   "outputs":[
    {
     "name":"stdout",
     "text":[
      "root\n",
      " |-- meno: string (nullable = true)\n",
      " |-- mesto: string (nullable = true)\n",
      " |-- nazov_projektu: string (nullable = true)\n",
      " |-- datum_startu: string (nullable = true)\n",
      "\n",
      "+------+----------+--------------+------------+\n",
      "|  meno|     mesto|nazov_projektu|datum_startu|\n",
      "+------+----------+--------------+------------+\n",
      "|   Eva|    Prešov|     Projekt C|  2024-02-20|\n",
      "|  Anna|Bratislava|     Projekt A|  2024-01-15|\n",
      "|   Ján|    Košice|     Projekt B|  2023-11-10|\n",
      "|Zuzana|    Žilina|     Projekt E|  2023-09-01|\n",
      "| Marek|Bratislava|     Projekt D|  2024-03-05|\n",
      "+------+----------+--------------+------------+\n",
      "only showing top 5 rows\n",
      "\n"
     ],
     "output_type":"stream"
    }
   ],
   "metadata":{
    "datalore":{
     "node_id":"b6UGFqM7sZB7YCV9A3DxTc",
     "type":"CODE",
     "hide_input_from_viewers":true,
     "hide_output_from_viewers":true
    }
   }
  },
  {
   "cell_type":"markdown",
   "source":[
    "## 4️⃣j Export Spark DataFrame do databázy (PostgreSQL \/ MySQL)\n",
    "**📌 Úloha:** Uložiť Spark DataFrame do SQL databázy cez JDBC konektor.\n",
    "\n",
    "**✅ Výstupom bude:**\n",
    "- Export dát do tabuľky zamestnanci_export v PostgreSQL alebo MySQL\n",
    "- Potvrdenie, že export prebehol úspešne\n",
    "\n",
    "**🔗 Dokumentácia:**\n",
    "- https:\/\/spark.apache.org\/docs\/latest\/sql-data-sources-jdbc.html\n",
    "- https:\/\/www.postgresql.org\/ | https:\/\/dev.mysql.com\/"
   ],
   "attachments":{},
   "metadata":{
    "datalore":{
     "node_id":"bq7zK5IUqNwIFsgjWToEGr",
     "type":"MD",
     "hide_input_from_viewers":true,
     "hide_output_from_viewers":true
    }
   }
  },
  {
   "cell_type":"code",
   "source":[
    "# 📤 Príklad: Export do PostgreSQL\n",
    "# !pip install jaydebeapi\n",
    "from pyspark.sql import SparkSession\n",
    "import jaydebeapi\n",
    "\n",
    "spark = SparkSession.builder \\\n",
    "    .appName(\"Export do PostgreSQL\") \\\n",
    "    .config(\"spark.jars\", \"\/data\/notebook_files\/jars\/postgresql-42.6.0.jar\") \\\n",
    "    .getOrCreate()\n",
    "\n",
    "# Parametre pripojenia\n",
    "url = \"jdbc:postgresql:\/\/localhost:5432\/mojadb\"\n",
    "properties = {\n",
    "    \"user\": \"postgres\",\n",
    "    \"password\": \"tajneheslo\",\n",
    "    \"driver\": \"org.postgresql.Driver\"\n",
    "}\n",
    "\n",
    "# Export DataFrame do PostgreSQL\n",
    "df.write.jdbc(\n",
    "    url=url,\n",
    "    table=\"zamestnanci_export\",\n",
    "    mode=\"overwrite\",  # alebo \"append\"\n",
    "    properties=properties\n",
    ")"
   ],
   "execution_count":3,
   "outputs":[
    {
     "name":"stderr",
     "text":[
      "25\/06\/11 20:07:05 WARN NativeCodeLoader: Unable to load native-hadoop library for your platform... using builtin-java classes where applicable\n",
      "Setting default log level to \"WARN\".\n",
      "To adjust logging level use sc.setLogLevel(newLevel). For SparkR, use setLogLevel(newLevel).\n"
     ],
     "output_type":"stream"
    },
    {
     "ename":"NameError",
     "evalue":"NameError: name 'df' is not defined",
     "traceback":[
      "\u001b[0;31m---------------------------------------------------------------------------",
      "Traceback (most recent call last)",
      "    at line 20 in ",
      "NameError: name 'df' is not defined"
     ],
     "output_type":"error"
    }
   ],
   "metadata":{
    "datalore":{
     "node_id":"4yaw79pGAYUzvg76sQkVSB",
     "type":"CODE",
     "hide_input_from_viewers":true,
     "hide_output_from_viewers":true
    }
   }
  },
  {
   "cell_type":"code",
   "source":[
    "# Použitie Maven balíčka (odporúčané)\n",
    "spark = SparkSession.builder \\\n",
    "    .appName(\"Export do PostgreSQL\") \\\n",
    "    .config(\"spark.jars.packages\", \"org.postgresql:postgresql:42.6.0\") \\\n",
    "    .getOrCreate()\n",
    "\n",
    "print(spark._jvm.java.lang.Class.forName(\"org.postgresql.Driver\"))"
   ],
   "execution_count":4,
   "outputs":[
    {
     "name":"stderr",
     "text":[
      "25\/06\/11 20:07:50 WARN SparkSession: Using an existing Spark session; only runtime SQL configurations will take effect.\n"
     ],
     "output_type":"stream"
    },
    {
     "ename":"Py4JJavaError",
     "evalue":"Py4JJavaError: An error occurred while calling z:java.lang.Class.forName.\n: java.lang.ClassNotFoundException: org.postgresql.Driver\n\tat java.base\/jdk.internal.loader.BuiltinClassLoader.loadClass(BuiltinClassLoader.java:641)\n\tat java.base\/jdk.internal.loader.ClassLoaders$AppClassLoader.loadClass(ClassLoaders.java:188)\n\tat java.base\/java.lang.ClassLoader.loadClass(ClassLoader.java:525)\n\tat java.base\/java.lang.Class.forName0(Native Method)\n\tat java.base\/java.lang.Class.forName(Class.java:375)\n\tat java.base\/jdk.internal.reflect.NativeMethodAccessorImpl.invoke0(Native Method)\n\tat java.base\/jdk.internal.reflect.NativeMethodAccessorImpl.invoke(NativeMethodAccessorImpl.java:77)\n\tat java.base\/jdk.internal.reflect.DelegatingMethodAccessorImpl.invoke(DelegatingMethodAccessorImpl.java:43)\n\tat java.base\/java.lang.reflect.Method.invoke(Method.java:569)\n\tat py4j.reflection.MethodInvoker.invoke(MethodInvoker.java:244)\n\tat py4j.reflection.ReflectionEngine.invoke(ReflectionEngine.java:374)\n\tat py4j.Gateway.invoke(Gateway.java:282)\n\tat py4j.commands.AbstractCommand.invokeMethod(AbstractCommand.java:132)\n\tat py4j.commands.CallCommand.execute(CallCommand.java:79)\n\tat py4j.ClientServerConnection.waitForCommands(ClientServerConnection.java:182)\n\tat py4j.ClientServerConnection.run(ClientServerConnection.java:106)\n\tat java.base\/java.lang.Thread.run(Thread.java:840)\n",
     "traceback":[
      "\u001b[0;31m---------------------------------------------------------------------------",
      "Traceback (most recent call last)",
      "    at line 7 in ",
      "    at line 1322 in JavaMember.__call__(self, *args)",
      "    at line 179 in capture_sql_exception.<locals>.deco(*a, **kw)",
      "    at line 326 in get_return_value(answer, gateway_client, target_id, name)",
      "Py4JJavaError: An error occurred while calling z:java.lang.Class.forName.\n: java.lang.ClassNotFoundException: org.postgresql.Driver\n\tat java.base\/jdk.internal.loader.BuiltinClassLoader.loadClass(BuiltinClassLoader.java:641)\n\tat java.base\/jdk.internal.loader.ClassLoaders$AppClassLoader.loadClass(ClassLoaders.java:188)\n\tat java.base\/java.lang.ClassLoader.loadClass(ClassLoader.java:525)\n\tat java.base\/java.lang.Class.forName0(Native Method)\n\tat java.base\/java.lang.Class.forName(Class.java:375)\n\tat java.base\/jdk.internal.reflect.NativeMethodAccessorImpl.invoke0(Native Method)\n\tat java.base\/jdk.internal.reflect.NativeMethodAccessorImpl.invoke(NativeMethodAccessorImpl.java:77)\n\tat java.base\/jdk.internal.reflect.DelegatingMethodAccessorImpl.invoke(DelegatingMethodAccessorImpl.java:43)\n\tat java.base\/java.lang.reflect.Method.invoke(Method.java:569)\n\tat py4j.reflection.MethodInvoker.invoke(MethodInvoker.java:244)\n\tat py4j.reflection.ReflectionEngine.invoke(ReflectionEngine.java:374)\n\tat py4j.Gateway.invoke(Gateway.java:282)\n\tat py4j.commands.AbstractCommand.invokeMethod(AbstractCommand.java:132)\n\tat py4j.commands.CallCommand.execute(CallCommand.java:79)\n\tat py4j.ClientServerConnection.waitForCommands(ClientServerConnection.java:182)\n\tat py4j.ClientServerConnection.run(ClientServerConnection.java:106)\n\tat java.base\/java.lang.Thread.run(Thread.java:840)\n"
     ],
     "output_type":"error"
    }
   ],
   "metadata":{
    "datalore":{
     "node_id":"4cKN3UVXAqDKbh53QCcL2l",
     "type":"CODE",
     "hide_input_from_viewers":true,
     "hide_output_from_viewers":true
    }
   }
  },
  {
   "cell_type":"code",
   "source":[
    "# Použitie lokálneho súboru .jar\n",
    "spark = SparkSession.builder \\\n",
    "    .appName(\"Export do PostgreSQL\") \\\n",
    "    .config(\"spark.jars\", \"\/data\/notebook_files\/jars\/postgresql-42.6.0.jar\") \\\n",
    "    .getOrCreate()\n",
    "\n",
    "print(spark._jvm.java.lang.Class.forName(\"org.postgresql.Driver\"))\n"
   ],
   "execution_count":5,
   "outputs":[
    {
     "ename":"Py4JJavaError",
     "evalue":"Py4JJavaError: An error occurred while calling z:java.lang.Class.forName.\n: java.lang.ClassNotFoundException: org.postgresql.Driver\n\tat java.base\/jdk.internal.loader.BuiltinClassLoader.loadClass(BuiltinClassLoader.java:641)\n\tat java.base\/jdk.internal.loader.ClassLoaders$AppClassLoader.loadClass(ClassLoaders.java:188)\n\tat java.base\/java.lang.ClassLoader.loadClass(ClassLoader.java:525)\n\tat java.base\/java.lang.Class.forName0(Native Method)\n\tat java.base\/java.lang.Class.forName(Class.java:375)\n\tat java.base\/jdk.internal.reflect.NativeMethodAccessorImpl.invoke0(Native Method)\n\tat java.base\/jdk.internal.reflect.NativeMethodAccessorImpl.invoke(NativeMethodAccessorImpl.java:77)\n\tat java.base\/jdk.internal.reflect.DelegatingMethodAccessorImpl.invoke(DelegatingMethodAccessorImpl.java:43)\n\tat java.base\/java.lang.reflect.Method.invoke(Method.java:569)\n\tat py4j.reflection.MethodInvoker.invoke(MethodInvoker.java:244)\n\tat py4j.reflection.ReflectionEngine.invoke(ReflectionEngine.java:374)\n\tat py4j.Gateway.invoke(Gateway.java:282)\n\tat py4j.commands.AbstractCommand.invokeMethod(AbstractCommand.java:132)\n\tat py4j.commands.CallCommand.execute(CallCommand.java:79)\n\tat py4j.ClientServerConnection.waitForCommands(ClientServerConnection.java:182)\n\tat py4j.ClientServerConnection.run(ClientServerConnection.java:106)\n\tat java.base\/java.lang.Thread.run(Thread.java:840)\n",
     "traceback":[
      "\u001b[0;31m---------------------------------------------------------------------------",
      "Traceback (most recent call last)",
      "    at line 7 in ",
      "    at line 1322 in JavaMember.__call__(self, *args)",
      "    at line 179 in capture_sql_exception.<locals>.deco(*a, **kw)",
      "    at line 326 in get_return_value(answer, gateway_client, target_id, name)",
      "Py4JJavaError: An error occurred while calling z:java.lang.Class.forName.\n: java.lang.ClassNotFoundException: org.postgresql.Driver\n\tat java.base\/jdk.internal.loader.BuiltinClassLoader.loadClass(BuiltinClassLoader.java:641)\n\tat java.base\/jdk.internal.loader.ClassLoaders$AppClassLoader.loadClass(ClassLoaders.java:188)\n\tat java.base\/java.lang.ClassLoader.loadClass(ClassLoader.java:525)\n\tat java.base\/java.lang.Class.forName0(Native Method)\n\tat java.base\/java.lang.Class.forName(Class.java:375)\n\tat java.base\/jdk.internal.reflect.NativeMethodAccessorImpl.invoke0(Native Method)\n\tat java.base\/jdk.internal.reflect.NativeMethodAccessorImpl.invoke(NativeMethodAccessorImpl.java:77)\n\tat java.base\/jdk.internal.reflect.DelegatingMethodAccessorImpl.invoke(DelegatingMethodAccessorImpl.java:43)\n\tat java.base\/java.lang.reflect.Method.invoke(Method.java:569)\n\tat py4j.reflection.MethodInvoker.invoke(MethodInvoker.java:244)\n\tat py4j.reflection.ReflectionEngine.invoke(ReflectionEngine.java:374)\n\tat py4j.Gateway.invoke(Gateway.java:282)\n\tat py4j.commands.AbstractCommand.invokeMethod(AbstractCommand.java:132)\n\tat py4j.commands.CallCommand.execute(CallCommand.java:79)\n\tat py4j.ClientServerConnection.waitForCommands(ClientServerConnection.java:182)\n\tat py4j.ClientServerConnection.run(ClientServerConnection.java:106)\n\tat java.base\/java.lang.Thread.run(Thread.java:840)\n"
     ],
     "output_type":"error"
    }
   ],
   "metadata":{
    "datalore":{
     "node_id":"iKrB4OiOUa5VeCIvoy0Flj",
     "type":"CODE",
     "hide_input_from_viewers":true,
     "hide_output_from_viewers":true
    }
   }
  },
  {
   "cell_type":"code",
   "source":[
    "# 📤 Príklad: Export do MySQL\n",
    "url = \"jdbc:mysql:\/\/localhost:3306\/mojadb\"\n",
    "properties = {\n",
    "    \"user\": \"root\",\n",
    "    \"password\": \"tajneheslo\",\n",
    "    \"driver\": \"com.mysql.cj.jdbc.Driver\"\n",
    "}\n",
    "\n",
    "df.write.jdbc(\n",
    "    url=url,\n",
    "    table=\"zamestnanci_export\",\n",
    "    mode=\"overwrite\",\n",
    "    properties=properties\n",
    ")"
   ],
   "execution_count":75,
   "outputs":[
    {
     "ename":"Py4JJavaError",
     "evalue":"Py4JJavaError: An error occurred while calling o2009.jdbc.\n: java.lang.ClassNotFoundException: com.mysql.cj.jdbc.Driver\n\tat java.base\/java.net.URLClassLoader.findClass(URLClassLoader.java:445)\n\tat java.base\/java.lang.ClassLoader.loadClass(ClassLoader.java:592)\n\tat java.base\/java.lang.ClassLoader.loadClass(ClassLoader.java:525)\n\tat org.apache.spark.sql.execution.datasources.jdbc.DriverRegistry$.register(DriverRegistry.scala:46)\n\tat org.apache.spark.sql.execution.datasources.jdbc.JDBCOptions.$anonfun$driverClass$1(JDBCOptions.scala:103)\n\tat org.apache.spark.sql.execution.datasources.jdbc.JDBCOptions.$anonfun$driverClass$1$adapted(JDBCOptions.scala:103)\n\tat scala.Option.foreach(Option.scala:407)\n\tat org.apache.spark.sql.execution.datasources.jdbc.JDBCOptions.<init>(JDBCOptions.scala:103)\n\tat org.apache.spark.sql.execution.datasources.jdbc.JdbcOptionsInWrite.<init>(JDBCOptions.scala:254)\n\tat org.apache.spark.sql.execution.datasources.jdbc.JdbcOptionsInWrite.<init>(JDBCOptions.scala:258)\n\tat org.apache.spark.sql.execution.datasources.jdbc.JdbcRelationProvider.createRelation(JdbcRelationProvider.scala:47)\n\tat org.apache.spark.sql.execution.datasources.SaveIntoDataSourceCommand.run(SaveIntoDataSourceCommand.scala:48)\n\tat org.apache.spark.sql.execution.command.ExecutedCommandExec.sideEffectResult$lzycompute(commands.scala:75)\n\tat org.apache.spark.sql.execution.command.ExecutedCommandExec.sideEffectResult(commands.scala:73)\n\tat org.apache.spark.sql.execution.command.ExecutedCommandExec.executeCollect(commands.scala:84)\n\tat org.apache.spark.sql.execution.QueryExecution$$anonfun$eagerlyExecuteCommands$1.$anonfun$applyOrElse$1(QueryExecution.scala:107)\n\tat org.apache.spark.sql.execution.SQLExecution$.$anonfun$withNewExecutionId$6(SQLExecution.scala:125)\n\tat org.apache.spark.sql.execution.SQLExecution$.withSQLConfPropagated(SQLExecution.scala:201)\n\tat org.apache.spark.sql.execution.SQLExecution$.$anonfun$withNewExecutionId$1(SQLExecution.scala:108)\n\tat org.apache.spark.sql.SparkSession.withActive(SparkSession.scala:900)\n\tat org.apache.spark.sql.execution.SQLExecution$.withNewExecutionId(SQLExecution.scala:66)\n\tat org.apache.spark.sql.execution.QueryExecution$$anonfun$eagerlyExecuteCommands$1.applyOrElse(QueryExecution.scala:107)\n\tat org.apache.spark.sql.execution.QueryExecution$$anonfun$eagerlyExecuteCommands$1.applyOrElse(QueryExecution.scala:98)\n\tat org.apache.spark.sql.catalyst.trees.TreeNode.$anonfun$transformDownWithPruning$1(TreeNode.scala:461)\n\tat org.apache.spark.sql.catalyst.trees.CurrentOrigin$.withOrigin(origin.scala:76)\n\tat org.apache.spark.sql.catalyst.trees.TreeNode.transformDownWithPruning(TreeNode.scala:461)\n\tat org.apache.spark.sql.catalyst.plans.logical.LogicalPlan.org$apache$spark$sql$catalyst$plans$logical$AnalysisHelper$$super$transformDownWithPruning(LogicalPlan.scala:32)\n\tat org.apache.spark.sql.catalyst.plans.logical.AnalysisHelper.transformDownWithPruning(AnalysisHelper.scala:267)\n\tat org.apache.spark.sql.catalyst.plans.logical.AnalysisHelper.transformDownWithPruning$(AnalysisHelper.scala:263)\n\tat org.apache.spark.sql.catalyst.plans.logical.LogicalPlan.transformDownWithPruning(LogicalPlan.scala:32)\n\tat org.apache.spark.sql.catalyst.plans.logical.LogicalPlan.transformDownWithPruning(LogicalPlan.scala:32)\n\tat org.apache.spark.sql.catalyst.trees.TreeNode.transformDown(TreeNode.scala:437)\n\tat org.apache.spark.sql.execution.QueryExecution.eagerlyExecuteCommands(QueryExecution.scala:98)\n\tat org.apache.spark.sql.execution.QueryExecution.commandExecuted$lzycompute(QueryExecution.scala:85)\n\tat org.apache.spark.sql.execution.QueryExecution.commandExecuted(QueryExecution.scala:83)\n\tat org.apache.spark.sql.execution.QueryExecution.assertCommandExecuted(QueryExecution.scala:142)\n\tat org.apache.spark.sql.DataFrameWriter.runCommand(DataFrameWriter.scala:869)\n\tat org.apache.spark.sql.DataFrameWriter.saveToV1Source(DataFrameWriter.scala:391)\n\tat org.apache.spark.sql.DataFrameWriter.saveInternal(DataFrameWriter.scala:364)\n\tat org.apache.spark.sql.DataFrameWriter.save(DataFrameWriter.scala:251)\n\tat org.apache.spark.sql.DataFrameWriter.jdbc(DataFrameWriter.scala:766)\n\tat java.base\/jdk.internal.reflect.NativeMethodAccessorImpl.invoke0(Native Method)\n\tat java.base\/jdk.internal.reflect.NativeMethodAccessorImpl.invoke(NativeMethodAccessorImpl.java:77)\n\tat java.base\/jdk.internal.reflect.DelegatingMethodAccessorImpl.invoke(DelegatingMethodAccessorImpl.java:43)\n\tat java.base\/java.lang.reflect.Method.invoke(Method.java:569)\n\tat py4j.reflection.MethodInvoker.invoke(MethodInvoker.java:244)\n\tat py4j.reflection.ReflectionEngine.invoke(ReflectionEngine.java:374)\n\tat py4j.Gateway.invoke(Gateway.java:282)\n\tat py4j.commands.AbstractCommand.invokeMethod(AbstractCommand.java:132)\n\tat py4j.commands.CallCommand.execute(CallCommand.java:79)\n\tat py4j.ClientServerConnection.waitForCommands(ClientServerConnection.java:182)\n\tat py4j.ClientServerConnection.run(ClientServerConnection.java:106)\n\tat java.base\/java.lang.Thread.run(Thread.java:840)\n",
     "traceback":[
      "\u001b[0;31m---------------------------------------------------------------------------",
      "Traceback (most recent call last)",
      "    at line 9 in ",
      "    at line 1984 in DataFrameWriter.jdbc(self, url, table, mode, properties)",
      "    at line 1322 in JavaMember.__call__(self, *args)",
      "    at line 179 in capture_sql_exception.<locals>.deco(*a, **kw)",
      "    at line 326 in get_return_value(answer, gateway_client, target_id, name)",
      "Py4JJavaError: An error occurred while calling o2009.jdbc.\n: java.lang.ClassNotFoundException: com.mysql.cj.jdbc.Driver\n\tat java.base\/java.net.URLClassLoader.findClass(URLClassLoader.java:445)\n\tat java.base\/java.lang.ClassLoader.loadClass(ClassLoader.java:592)\n\tat java.base\/java.lang.ClassLoader.loadClass(ClassLoader.java:525)\n\tat org.apache.spark.sql.execution.datasources.jdbc.DriverRegistry$.register(DriverRegistry.scala:46)\n\tat org.apache.spark.sql.execution.datasources.jdbc.JDBCOptions.$anonfun$driverClass$1(JDBCOptions.scala:103)\n\tat org.apache.spark.sql.execution.datasources.jdbc.JDBCOptions.$anonfun$driverClass$1$adapted(JDBCOptions.scala:103)\n\tat scala.Option.foreach(Option.scala:407)\n\tat org.apache.spark.sql.execution.datasources.jdbc.JDBCOptions.<init>(JDBCOptions.scala:103)\n\tat org.apache.spark.sql.execution.datasources.jdbc.JdbcOptionsInWrite.<init>(JDBCOptions.scala:254)\n\tat org.apache.spark.sql.execution.datasources.jdbc.JdbcOptionsInWrite.<init>(JDBCOptions.scala:258)\n\tat org.apache.spark.sql.execution.datasources.jdbc.JdbcRelationProvider.createRelation(JdbcRelationProvider.scala:47)\n\tat org.apache.spark.sql.execution.datasources.SaveIntoDataSourceCommand.run(SaveIntoDataSourceCommand.scala:48)\n\tat org.apache.spark.sql.execution.command.ExecutedCommandExec.sideEffectResult$lzycompute(commands.scala:75)\n\tat org.apache.spark.sql.execution.command.ExecutedCommandExec.sideEffectResult(commands.scala:73)\n\tat org.apache.spark.sql.execution.command.ExecutedCommandExec.executeCollect(commands.scala:84)\n\tat org.apache.spark.sql.execution.QueryExecution$$anonfun$eagerlyExecuteCommands$1.$anonfun$applyOrElse$1(QueryExecution.scala:107)\n\tat org.apache.spark.sql.execution.SQLExecution$.$anonfun$withNewExecutionId$6(SQLExecution.scala:125)\n\tat org.apache.spark.sql.execution.SQLExecution$.withSQLConfPropagated(SQLExecution.scala:201)\n\tat org.apache.spark.sql.execution.SQLExecution$.$anonfun$withNewExecutionId$1(SQLExecution.scala:108)\n\tat org.apache.spark.sql.SparkSession.withActive(SparkSession.scala:900)\n\tat org.apache.spark.sql.execution.SQLExecution$.withNewExecutionId(SQLExecution.scala:66)\n\tat org.apache.spark.sql.execution.QueryExecution$$anonfun$eagerlyExecuteCommands$1.applyOrElse(QueryExecution.scala:107)\n\tat org.apache.spark.sql.execution.QueryExecution$$anonfun$eagerlyExecuteCommands$1.applyOrElse(QueryExecution.scala:98)\n\tat org.apache.spark.sql.catalyst.trees.TreeNode.$anonfun$transformDownWithPruning$1(TreeNode.scala:461)\n\tat org.apache.spark.sql.catalyst.trees.CurrentOrigin$.withOrigin(origin.scala:76)\n\tat org.apache.spark.sql.catalyst.trees.TreeNode.transformDownWithPruning(TreeNode.scala:461)\n\tat org.apache.spark.sql.catalyst.plans.logical.LogicalPlan.org$apache$spark$sql$catalyst$plans$logical$AnalysisHelper$$super$transformDownWithPruning(LogicalPlan.scala:32)\n\tat org.apache.spark.sql.catalyst.plans.logical.AnalysisHelper.transformDownWithPruning(AnalysisHelper.scala:267)\n\tat org.apache.spark.sql.catalyst.plans.logical.AnalysisHelper.transformDownWithPruning$(AnalysisHelper.scala:263)\n\tat org.apache.spark.sql.catalyst.plans.logical.LogicalPlan.transformDownWithPruning(LogicalPlan.scala:32)\n\tat org.apache.spark.sql.catalyst.plans.logical.LogicalPlan.transformDownWithPruning(LogicalPlan.scala:32)\n\tat org.apache.spark.sql.catalyst.trees.TreeNode.transformDown(TreeNode.scala:437)\n\tat org.apache.spark.sql.execution.QueryExecution.eagerlyExecuteCommands(QueryExecution.scala:98)\n\tat org.apache.spark.sql.execution.QueryExecution.commandExecuted$lzycompute(QueryExecution.scala:85)\n\tat org.apache.spark.sql.execution.QueryExecution.commandExecuted(QueryExecution.scala:83)\n\tat org.apache.spark.sql.execution.QueryExecution.assertCommandExecuted(QueryExecution.scala:142)\n\tat org.apache.spark.sql.DataFrameWriter.runCommand(DataFrameWriter.scala:869)\n\tat org.apache.spark.sql.DataFrameWriter.saveToV1Source(DataFrameWriter.scala:391)\n\tat org.apache.spark.sql.DataFrameWriter.saveInternal(DataFrameWriter.scala:364)\n\tat org.apache.spark.sql.DataFrameWriter.save(DataFrameWriter.scala:251)\n\tat org.apache.spark.sql.DataFrameWriter.jdbc(DataFrameWriter.scala:766)\n\tat java.base\/jdk.internal.reflect.NativeMethodAccessorImpl.invoke0(Native Method)\n\tat java.base\/jdk.internal.reflect.NativeMethodAccessorImpl.invoke(NativeMethodAccessorImpl.java:77)\n\tat java.base\/jdk.internal.reflect.DelegatingMethodAccessorImpl.invoke(DelegatingMethodAccessorImpl.java:43)\n\tat java.base\/java.lang.reflect.Method.invoke(Method.java:569)\n\tat py4j.reflection.MethodInvoker.invoke(MethodInvoker.java:244)\n\tat py4j.reflection.ReflectionEngine.invoke(ReflectionEngine.java:374)\n\tat py4j.Gateway.invoke(Gateway.java:282)\n\tat py4j.commands.AbstractCommand.invokeMethod(AbstractCommand.java:132)\n\tat py4j.commands.CallCommand.execute(CallCommand.java:79)\n\tat py4j.ClientServerConnection.waitForCommands(ClientServerConnection.java:182)\n\tat py4j.ClientServerConnection.run(ClientServerConnection.java:106)\n\tat java.base\/java.lang.Thread.run(Thread.java:840)\n"
     ],
     "output_type":"error"
    }
   ],
   "metadata":{
    "datalore":{
     "node_id":"u17keYAuNSeXq6uzQyyVWH",
     "type":"CODE",
     "hide_input_from_viewers":true,
     "hide_output_from_viewers":true
    }
   }
  }
 ],
 "metadata":{
  "kernelspec":{
   "display_name":"Python",
   "language":"python",
   "name":"python"
  },
  "datalore":{
   "computation_mode":"JUPYTER",
   "package_manager":"pip",
   "base_environment":"default_3_11",
   "packages":[],
   "report_row_ids":[],
   "report_tabs":[],
   "version":4
  }
 },
 "nbformat":4,
 "nbformat_minor":4
}